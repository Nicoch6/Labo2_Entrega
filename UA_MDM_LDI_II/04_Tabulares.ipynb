{
 "cells": [
  {
   "cell_type": "markdown",
   "metadata": {},
   "source": [
    "## Modelo datos estructurados\n",
    "Este notebook desarrolla un primer modelo para resolver el problema de Petfinder. Empezamos haciendo un modelo inicial muy simple para ver la viabilidad de resolver el problema. Luego analizamos como se comporta la métrica kappa propuesta y vemos la matriz de confusión. Finalmente hacemos una optimizacin de hiperparametros evaluando con train/test y otra validando con 5 fold CV y testeando en el 20% de los datos"
   ]
  },
  {
   "cell_type": "code",
   "execution_count": 2,
   "metadata": {},
   "outputs": [
    {
     "name": "stderr",
     "output_type": "stream",
     "text": [
      "/home/nico-churrarin/OneDrive/Ciencia de Datos/2023 Maestria Austral/2024/Labo implementacion 2/Labo2_Entrega/env/lib/python3.11/site-packages/tqdm/auto.py:21: TqdmWarning: IProgress not found. Please update jupyter and ipywidgets. See https://ipywidgets.readthedocs.io/en/stable/user_install.html\n",
      "  from .autonotebook import tqdm as notebook_tqdm\n"
     ]
    }
   ],
   "source": [
    "#Import de librerias basicas tablas y matrices\n",
    "import numpy as np \n",
    "import pandas as pd \n",
    "\n",
    "#Gradient Boosting\n",
    "import lightgbm as lgb\n",
    "\n",
    "#Funciones auxiliares sklearn\n",
    "from sklearn.model_selection import train_test_split, StratifiedKFold #Split y cross Validation\n",
    "from sklearn.metrics import cohen_kappa_score, accuracy_score, balanced_accuracy_score #Metricas\n",
    "from sklearn.utils import shuffle \n",
    "\n",
    "#Visualizacióon\n",
    "from plotly import express as px\n",
    "\n",
    "#Plot de matriz de confusion normalizada en actuals\n",
    "from utils import plot_confusion_matrix\n",
    "\n",
    "import os\n",
    "\n",
    "#Optimizacion de hiperparametros\n",
    "import optuna\n",
    "from optuna.artifacts import FileSystemArtifactStore, upload_artifact\n",
    "\n",
    "#Guardado de objetos en archivos joblib\n",
    "from joblib import load, dump\n"
   ]
  },
  {
   "cell_type": "code",
   "execution_count": 4,
   "metadata": {},
   "outputs": [],
   "source": [
    "# Paths para acceso archivos\n",
    "#Este notebook asume la siguiente estructura de carpetas a partir de la ubicacion de base_dir \n",
    "#(dos niveles arriba de la carpeta donde se ejecuta el notebook). \n",
    "# /input\n",
    "# /input/petfinder-adoption-prediction/            <- Aca deben ir todos los archivos de datos de la competencia \n",
    "# /UA_MDM_LDI_II/\n",
    "# /UA_MDM_LDI_II/tutoriales/                       <- Aca deben poner los notebooks y scripts que les compartimos\n",
    "# /UA_MDM_LDI_II/work/                             <- Resultados de notebooks iran dentro de esta carpeta en subcarpetas\n",
    "# /UA_MDM_LDI_II/work//models/                     <- Modelos entrenados en archivos joblibs\n",
    "# /UA_MDM_LDI_II/work//optuna_temp_artifacts/      <- Archivos que queremos dejar como artefacto de un trial de optuna (optuna los copiara a la carpeta de abajo)\n",
    "# /UA_MDM_LDI_II/work//optuna_artifacts/           <- Archivos con artefactos que sibimos a optuna\n",
    "\n",
    "#Subimos dos niveles para quedar en la carpeta que contiene input y UA_MDM_LDI_II\n",
    "BASE_DIR = '../'\n",
    "\n",
    "#Datos de entrenamiento \n",
    "PATH_TO_TRAIN = os.path.join(BASE_DIR, \"data/train/train.csv\")\n",
    "#Salida de modelos entrenados\n",
    "PATH_TO_MODELS = os.path.join(BASE_DIR, \"UA_MDM_LDI_II/work/models\")\n",
    "\n",
    "#Artefactos a subir a optuna\n",
    "PATH_TO_TEMP_FILES = os.path.join(BASE_DIR, \"UA_MDM_LDI_II/work/optuna_temp_artifacts\")\n",
    "\n",
    "#Artefactos que optuna gestiona\n",
    "PATH_TO_OPTUNA_ARTIFACTS = os.path.join(BASE_DIR, \"UA_MDM_LDI_II/work/optuna_artifacts\")\n",
    "\n",
    "\n",
    "SEED = 42 #Semilla de procesos aleatorios (para poder replicar exactamente al volver a correr un modelo)\n",
    "BATCH_SIZE= 50\n",
    "TEST_SIZE = 0.2 #Facción para train/test= split"
   ]
  },
  {
   "cell_type": "code",
   "execution_count": 5,
   "metadata": {},
   "outputs": [],
   "source": [
    "# Datos Tabulares\n",
    "dataset = pd.read_csv(PATH_TO_TRAIN)"
   ]
  },
  {
   "cell_type": "code",
   "execution_count": 6,
   "metadata": {},
   "outputs": [
    {
     "data": {
      "text/plain": [
       "Index(['Type', 'Name', 'Age', 'Breed1', 'Breed2', 'Gender', 'Color1', 'Color2',\n",
       "       'Color3', 'MaturitySize', 'FurLength', 'Vaccinated', 'Dewormed',\n",
       "       'Sterilized', 'Health', 'Quantity', 'Fee', 'State', 'RescuerID',\n",
       "       'VideoAmt', 'Description', 'PetID', 'PhotoAmt', 'AdoptionSpeed'],\n",
       "      dtype='object')"
      ]
     },
     "execution_count": 6,
     "metadata": {},
     "output_type": "execute_result"
    }
   ],
   "source": [
    "#Columnas del dataset\n",
    "dataset.columns"
   ]
  },
  {
   "cell_type": "code",
   "execution_count": 7,
   "metadata": {},
   "outputs": [],
   "source": [
    "#Separo un 20% para test estratificado opr target\n",
    "train, test = train_test_split(dataset,\n",
    "                               test_size = TEST_SIZE,\n",
    "                               random_state = SEED,\n",
    "                               stratify = dataset.AdoptionSpeed)"
   ]
  },
  {
   "cell_type": "code",
   "execution_count": 8,
   "metadata": {},
   "outputs": [],
   "source": [
    "#Armo listas con features de texto y numericas\n",
    "char_feats = [f for f in dataset.columns if dataset[f].dtype=='O']\n",
    "numeric_feats = [f for f in dataset.columns if dataset[f].dtype!='O']"
   ]
  },
  {
   "cell_type": "code",
   "execution_count": 9,
   "metadata": {},
   "outputs": [
    {
     "data": {
      "text/plain": [
       "['Type',\n",
       " 'Age',\n",
       " 'Breed1',\n",
       " 'Breed2',\n",
       " 'Gender',\n",
       " 'Color1',\n",
       " 'Color2',\n",
       " 'Color3',\n",
       " 'MaturitySize',\n",
       " 'FurLength',\n",
       " 'Vaccinated',\n",
       " 'Dewormed',\n",
       " 'Sterilized',\n",
       " 'Health',\n",
       " 'Quantity',\n",
       " 'Fee',\n",
       " 'State',\n",
       " 'VideoAmt',\n",
       " 'PhotoAmt',\n",
       " 'AdoptionSpeed']"
      ]
     },
     "execution_count": 9,
     "metadata": {},
     "output_type": "execute_result"
    }
   ],
   "source": [
    "#Lista de features numericas\n",
    "numeric_feats"
   ]
  },
  {
   "cell_type": "code",
   "execution_count": 10,
   "metadata": {},
   "outputs": [],
   "source": [
    "\n",
    "#Defino features a usar en un primer modelo de prueba\n",
    "features = ['Type',\n",
    " 'Age',\n",
    " 'Breed1',\n",
    " 'Breed2',\n",
    " 'Gender',\n",
    " 'Color1',\n",
    " 'Color2',\n",
    " 'Color3',\n",
    " 'MaturitySize',\n",
    " 'FurLength',\n",
    " 'Vaccinated',\n",
    " 'Dewormed',\n",
    " 'Sterilized',\n",
    " 'Health',\n",
    " 'Quantity',\n",
    " 'Fee',\n",
    " 'State',\n",
    " 'VideoAmt',\n",
    " 'PhotoAmt']\n",
    "\n",
    "label = 'AdoptionSpeed'"
   ]
  },
  {
   "cell_type": "code",
   "execution_count": 11,
   "metadata": {},
   "outputs": [],
   "source": [
    "#Genero dataframes de train y test con sus respectivos targets\n",
    "X_train = train[features]\n",
    "y_train = train[label]\n",
    "\n",
    "X_test = test[features]\n",
    "y_test = test[label]"
   ]
  },
  {
   "cell_type": "code",
   "execution_count": 12,
   "metadata": {},
   "outputs": [
    {
     "name": "stdout",
     "output_type": "stream",
     "text": [
      "[LightGBM] [Info] Auto-choosing row-wise multi-threading, the overhead of testing was 0.000634 seconds.\n",
      "You can set `force_row_wise=true` to remove the overhead.\n",
      "And if memory is not enough, you can set `force_col_wise=true`.\n",
      "[LightGBM] [Info] Total Bins 438\n",
      "[LightGBM] [Info] Number of data points in the train set: 11994, number of used features: 19\n",
      "[LightGBM] [Info] Start training from score -3.599148\n",
      "[LightGBM] [Info] Start training from score -1.579379\n",
      "[LightGBM] [Info] Start training from score -1.311924\n",
      "[LightGBM] [Info] Start training from score -1.526206\n",
      "[LightGBM] [Info] Start training from score -1.273359\n"
     ]
    }
   ],
   "source": [
    "#Entreno un modelo inicial sin modificar hiperparametros. Solamente especifico el numero de clases y el tipo de modelo como clasificacoión\n",
    "lgb_params = params = {\n",
    "                        'objective': 'multiclass',\n",
    "                        'num_class': len(y_train.unique())\n",
    "                        }\n",
    "\n",
    "\n",
    "#genero el objeto Dataset que debo pasarle a lightgbm para que entrene\n",
    "lgb_train_dataset = lgb.Dataset(data=X_train,\n",
    "                                label=y_train)\n",
    "\n",
    "#entreno el modelo con los parametros por defecto\n",
    "lgb_model = lgb.train(lgb_params,\n",
    "                      lgb_train_dataset)"
   ]
  },
  {
   "cell_type": "code",
   "execution_count": 13,
   "metadata": {},
   "outputs": [
    {
     "data": {
      "text/plain": [
       "np.float64(0.31327315052086113)"
      ]
     },
     "execution_count": 13,
     "metadata": {},
     "output_type": "execute_result"
    }
   ],
   "source": [
    "#Obtengo las predicciones sobre el set de test. El modelo me da una lista de probabilidades para cada clase y tomo la clase con mayor probabilidad con la funcion argmax\n",
    "y_pred = lgb_model.predict(X_test).argmax(axis=1)\n",
    "\n",
    "#Calculo el Kappa\n",
    "cohen_kappa_score(y_test,y_pred, weights = 'quadratic')"
   ]
  },
  {
   "cell_type": "code",
   "execution_count": 14,
   "metadata": {},
   "outputs": [
    {
     "data": {
      "application/vnd.plotly.v1+json": {
       "config": {
        "plotlyServerURL": "https://plot.ly"
       },
       "data": [
        {
         "type": "heatmap",
         "x": [
          0,
          1,
          2,
          3,
          4
         ],
         "y": [
          0,
          1,
          2,
          3,
          4
         ],
         "z": [
          [
           6.097560975609756,
           39.02439024390244,
           26.82926829268293,
           10.975609756097562,
           17.073170731707318
          ],
          [
           0.3236245954692557,
           35.11326860841424,
           36.084142394822,
           7.605177993527508,
           20.87378640776699
          ],
          [
           0,
           24.411400247831473,
           36.926889714993806,
           11.400247831474598,
           27.261462205700127
          ],
          [
           0,
           17.94478527607362,
           34.20245398773007,
           18.55828220858896,
           29.29447852760736
          ],
          [
           0.4761904761904762,
           11.666666666666666,
           21.071428571428573,
           7.261904761904763,
           59.523809523809526
          ]
         ]
        }
       ],
       "layout": {
        "annotations": [
         {
          "font": {
           "color": "white"
          },
          "showarrow": false,
          "text": "6.1 - 5",
          "x": 0,
          "xref": "x",
          "y": 0,
          "yref": "y"
         },
         {
          "font": {
           "color": "white"
          },
          "showarrow": false,
          "text": "39.0 - 32",
          "x": 1,
          "xref": "x",
          "y": 0,
          "yref": "y"
         },
         {
          "font": {
           "color": "white"
          },
          "showarrow": false,
          "text": "26.8 - 22",
          "x": 2,
          "xref": "x",
          "y": 0,
          "yref": "y"
         },
         {
          "font": {
           "color": "white"
          },
          "showarrow": false,
          "text": "11.0 - 9",
          "x": 3,
          "xref": "x",
          "y": 0,
          "yref": "y"
         },
         {
          "font": {
           "color": "white"
          },
          "showarrow": false,
          "text": "17.1 - 14",
          "x": 4,
          "xref": "x",
          "y": 0,
          "yref": "y"
         },
         {
          "font": {
           "color": "white"
          },
          "showarrow": false,
          "text": "0.3 - 2",
          "x": 0,
          "xref": "x",
          "y": 1,
          "yref": "y"
         },
         {
          "font": {
           "color": "white"
          },
          "showarrow": false,
          "text": "35.1 - 217",
          "x": 1,
          "xref": "x",
          "y": 1,
          "yref": "y"
         },
         {
          "font": {
           "color": "white"
          },
          "showarrow": false,
          "text": "36.1 - 223",
          "x": 2,
          "xref": "x",
          "y": 1,
          "yref": "y"
         },
         {
          "font": {
           "color": "white"
          },
          "showarrow": false,
          "text": "7.6 - 47",
          "x": 3,
          "xref": "x",
          "y": 1,
          "yref": "y"
         },
         {
          "font": {
           "color": "white"
          },
          "showarrow": false,
          "text": "20.9 - 129",
          "x": 4,
          "xref": "x",
          "y": 1,
          "yref": "y"
         },
         {
          "font": {
           "color": "white"
          },
          "showarrow": false,
          "text": "0.0 - 0",
          "x": 0,
          "xref": "x",
          "y": 2,
          "yref": "y"
         },
         {
          "font": {
           "color": "white"
          },
          "showarrow": false,
          "text": "24.4 - 197",
          "x": 1,
          "xref": "x",
          "y": 2,
          "yref": "y"
         },
         {
          "font": {
           "color": "white"
          },
          "showarrow": false,
          "text": "36.9 - 298",
          "x": 2,
          "xref": "x",
          "y": 2,
          "yref": "y"
         },
         {
          "font": {
           "color": "white"
          },
          "showarrow": false,
          "text": "11.4 - 92",
          "x": 3,
          "xref": "x",
          "y": 2,
          "yref": "y"
         },
         {
          "font": {
           "color": "white"
          },
          "showarrow": false,
          "text": "27.3 - 220",
          "x": 4,
          "xref": "x",
          "y": 2,
          "yref": "y"
         },
         {
          "font": {
           "color": "white"
          },
          "showarrow": false,
          "text": "0.0 - 0",
          "x": 0,
          "xref": "x",
          "y": 3,
          "yref": "y"
         },
         {
          "font": {
           "color": "white"
          },
          "showarrow": false,
          "text": "17.9 - 117",
          "x": 1,
          "xref": "x",
          "y": 3,
          "yref": "y"
         },
         {
          "font": {
           "color": "white"
          },
          "showarrow": false,
          "text": "34.2 - 223",
          "x": 2,
          "xref": "x",
          "y": 3,
          "yref": "y"
         },
         {
          "font": {
           "color": "white"
          },
          "showarrow": false,
          "text": "18.6 - 121",
          "x": 3,
          "xref": "x",
          "y": 3,
          "yref": "y"
         },
         {
          "font": {
           "color": "white"
          },
          "showarrow": false,
          "text": "29.3 - 191",
          "x": 4,
          "xref": "x",
          "y": 3,
          "yref": "y"
         },
         {
          "font": {
           "color": "white"
          },
          "showarrow": false,
          "text": "0.5 - 4",
          "x": 0,
          "xref": "x",
          "y": 4,
          "yref": "y"
         },
         {
          "font": {
           "color": "white"
          },
          "showarrow": false,
          "text": "11.7 - 98",
          "x": 1,
          "xref": "x",
          "y": 4,
          "yref": "y"
         },
         {
          "font": {
           "color": "white"
          },
          "showarrow": false,
          "text": "21.1 - 177",
          "x": 2,
          "xref": "x",
          "y": 4,
          "yref": "y"
         },
         {
          "font": {
           "color": "white"
          },
          "showarrow": false,
          "text": "7.3 - 61",
          "x": 3,
          "xref": "x",
          "y": 4,
          "yref": "y"
         },
         {
          "font": {
           "color": "white"
          },
          "showarrow": false,
          "text": "59.5 - 500",
          "x": 4,
          "xref": "x",
          "y": 4,
          "yref": "y"
         }
        ],
        "height": 800,
        "template": {
         "data": {
          "bar": [
           {
            "error_x": {
             "color": "#2a3f5f"
            },
            "error_y": {
             "color": "#2a3f5f"
            },
            "marker": {
             "line": {
              "color": "#E5ECF6",
              "width": 0.5
             },
             "pattern": {
              "fillmode": "overlay",
              "size": 10,
              "solidity": 0.2
             }
            },
            "type": "bar"
           }
          ],
          "barpolar": [
           {
            "marker": {
             "line": {
              "color": "#E5ECF6",
              "width": 0.5
             },
             "pattern": {
              "fillmode": "overlay",
              "size": 10,
              "solidity": 0.2
             }
            },
            "type": "barpolar"
           }
          ],
          "carpet": [
           {
            "aaxis": {
             "endlinecolor": "#2a3f5f",
             "gridcolor": "white",
             "linecolor": "white",
             "minorgridcolor": "white",
             "startlinecolor": "#2a3f5f"
            },
            "baxis": {
             "endlinecolor": "#2a3f5f",
             "gridcolor": "white",
             "linecolor": "white",
             "minorgridcolor": "white",
             "startlinecolor": "#2a3f5f"
            },
            "type": "carpet"
           }
          ],
          "choropleth": [
           {
            "colorbar": {
             "outlinewidth": 0,
             "ticks": ""
            },
            "type": "choropleth"
           }
          ],
          "contour": [
           {
            "colorbar": {
             "outlinewidth": 0,
             "ticks": ""
            },
            "colorscale": [
             [
              0,
              "#0d0887"
             ],
             [
              0.1111111111111111,
              "#46039f"
             ],
             [
              0.2222222222222222,
              "#7201a8"
             ],
             [
              0.3333333333333333,
              "#9c179e"
             ],
             [
              0.4444444444444444,
              "#bd3786"
             ],
             [
              0.5555555555555556,
              "#d8576b"
             ],
             [
              0.6666666666666666,
              "#ed7953"
             ],
             [
              0.7777777777777778,
              "#fb9f3a"
             ],
             [
              0.8888888888888888,
              "#fdca26"
             ],
             [
              1,
              "#f0f921"
             ]
            ],
            "type": "contour"
           }
          ],
          "contourcarpet": [
           {
            "colorbar": {
             "outlinewidth": 0,
             "ticks": ""
            },
            "type": "contourcarpet"
           }
          ],
          "heatmap": [
           {
            "colorbar": {
             "outlinewidth": 0,
             "ticks": ""
            },
            "colorscale": [
             [
              0,
              "#0d0887"
             ],
             [
              0.1111111111111111,
              "#46039f"
             ],
             [
              0.2222222222222222,
              "#7201a8"
             ],
             [
              0.3333333333333333,
              "#9c179e"
             ],
             [
              0.4444444444444444,
              "#bd3786"
             ],
             [
              0.5555555555555556,
              "#d8576b"
             ],
             [
              0.6666666666666666,
              "#ed7953"
             ],
             [
              0.7777777777777778,
              "#fb9f3a"
             ],
             [
              0.8888888888888888,
              "#fdca26"
             ],
             [
              1,
              "#f0f921"
             ]
            ],
            "type": "heatmap"
           }
          ],
          "heatmapgl": [
           {
            "colorbar": {
             "outlinewidth": 0,
             "ticks": ""
            },
            "colorscale": [
             [
              0,
              "#0d0887"
             ],
             [
              0.1111111111111111,
              "#46039f"
             ],
             [
              0.2222222222222222,
              "#7201a8"
             ],
             [
              0.3333333333333333,
              "#9c179e"
             ],
             [
              0.4444444444444444,
              "#bd3786"
             ],
             [
              0.5555555555555556,
              "#d8576b"
             ],
             [
              0.6666666666666666,
              "#ed7953"
             ],
             [
              0.7777777777777778,
              "#fb9f3a"
             ],
             [
              0.8888888888888888,
              "#fdca26"
             ],
             [
              1,
              "#f0f921"
             ]
            ],
            "type": "heatmapgl"
           }
          ],
          "histogram": [
           {
            "marker": {
             "pattern": {
              "fillmode": "overlay",
              "size": 10,
              "solidity": 0.2
             }
            },
            "type": "histogram"
           }
          ],
          "histogram2d": [
           {
            "colorbar": {
             "outlinewidth": 0,
             "ticks": ""
            },
            "colorscale": [
             [
              0,
              "#0d0887"
             ],
             [
              0.1111111111111111,
              "#46039f"
             ],
             [
              0.2222222222222222,
              "#7201a8"
             ],
             [
              0.3333333333333333,
              "#9c179e"
             ],
             [
              0.4444444444444444,
              "#bd3786"
             ],
             [
              0.5555555555555556,
              "#d8576b"
             ],
             [
              0.6666666666666666,
              "#ed7953"
             ],
             [
              0.7777777777777778,
              "#fb9f3a"
             ],
             [
              0.8888888888888888,
              "#fdca26"
             ],
             [
              1,
              "#f0f921"
             ]
            ],
            "type": "histogram2d"
           }
          ],
          "histogram2dcontour": [
           {
            "colorbar": {
             "outlinewidth": 0,
             "ticks": ""
            },
            "colorscale": [
             [
              0,
              "#0d0887"
             ],
             [
              0.1111111111111111,
              "#46039f"
             ],
             [
              0.2222222222222222,
              "#7201a8"
             ],
             [
              0.3333333333333333,
              "#9c179e"
             ],
             [
              0.4444444444444444,
              "#bd3786"
             ],
             [
              0.5555555555555556,
              "#d8576b"
             ],
             [
              0.6666666666666666,
              "#ed7953"
             ],
             [
              0.7777777777777778,
              "#fb9f3a"
             ],
             [
              0.8888888888888888,
              "#fdca26"
             ],
             [
              1,
              "#f0f921"
             ]
            ],
            "type": "histogram2dcontour"
           }
          ],
          "mesh3d": [
           {
            "colorbar": {
             "outlinewidth": 0,
             "ticks": ""
            },
            "type": "mesh3d"
           }
          ],
          "parcoords": [
           {
            "line": {
             "colorbar": {
              "outlinewidth": 0,
              "ticks": ""
             }
            },
            "type": "parcoords"
           }
          ],
          "pie": [
           {
            "automargin": true,
            "type": "pie"
           }
          ],
          "scatter": [
           {
            "fillpattern": {
             "fillmode": "overlay",
             "size": 10,
             "solidity": 0.2
            },
            "type": "scatter"
           }
          ],
          "scatter3d": [
           {
            "line": {
             "colorbar": {
              "outlinewidth": 0,
              "ticks": ""
             }
            },
            "marker": {
             "colorbar": {
              "outlinewidth": 0,
              "ticks": ""
             }
            },
            "type": "scatter3d"
           }
          ],
          "scattercarpet": [
           {
            "marker": {
             "colorbar": {
              "outlinewidth": 0,
              "ticks": ""
             }
            },
            "type": "scattercarpet"
           }
          ],
          "scattergeo": [
           {
            "marker": {
             "colorbar": {
              "outlinewidth": 0,
              "ticks": ""
             }
            },
            "type": "scattergeo"
           }
          ],
          "scattergl": [
           {
            "marker": {
             "colorbar": {
              "outlinewidth": 0,
              "ticks": ""
             }
            },
            "type": "scattergl"
           }
          ],
          "scattermapbox": [
           {
            "marker": {
             "colorbar": {
              "outlinewidth": 0,
              "ticks": ""
             }
            },
            "type": "scattermapbox"
           }
          ],
          "scatterpolar": [
           {
            "marker": {
             "colorbar": {
              "outlinewidth": 0,
              "ticks": ""
             }
            },
            "type": "scatterpolar"
           }
          ],
          "scatterpolargl": [
           {
            "marker": {
             "colorbar": {
              "outlinewidth": 0,
              "ticks": ""
             }
            },
            "type": "scatterpolargl"
           }
          ],
          "scatterternary": [
           {
            "marker": {
             "colorbar": {
              "outlinewidth": 0,
              "ticks": ""
             }
            },
            "type": "scatterternary"
           }
          ],
          "surface": [
           {
            "colorbar": {
             "outlinewidth": 0,
             "ticks": ""
            },
            "colorscale": [
             [
              0,
              "#0d0887"
             ],
             [
              0.1111111111111111,
              "#46039f"
             ],
             [
              0.2222222222222222,
              "#7201a8"
             ],
             [
              0.3333333333333333,
              "#9c179e"
             ],
             [
              0.4444444444444444,
              "#bd3786"
             ],
             [
              0.5555555555555556,
              "#d8576b"
             ],
             [
              0.6666666666666666,
              "#ed7953"
             ],
             [
              0.7777777777777778,
              "#fb9f3a"
             ],
             [
              0.8888888888888888,
              "#fdca26"
             ],
             [
              1,
              "#f0f921"
             ]
            ],
            "type": "surface"
           }
          ],
          "table": [
           {
            "cells": {
             "fill": {
              "color": "#EBF0F8"
             },
             "line": {
              "color": "white"
             }
            },
            "header": {
             "fill": {
              "color": "#C8D4E3"
             },
             "line": {
              "color": "white"
             }
            },
            "type": "table"
           }
          ]
         },
         "layout": {
          "annotationdefaults": {
           "arrowcolor": "#2a3f5f",
           "arrowhead": 0,
           "arrowwidth": 1
          },
          "autotypenumbers": "strict",
          "coloraxis": {
           "colorbar": {
            "outlinewidth": 0,
            "ticks": ""
           }
          },
          "colorscale": {
           "diverging": [
            [
             0,
             "#8e0152"
            ],
            [
             0.1,
             "#c51b7d"
            ],
            [
             0.2,
             "#de77ae"
            ],
            [
             0.3,
             "#f1b6da"
            ],
            [
             0.4,
             "#fde0ef"
            ],
            [
             0.5,
             "#f7f7f7"
            ],
            [
             0.6,
             "#e6f5d0"
            ],
            [
             0.7,
             "#b8e186"
            ],
            [
             0.8,
             "#7fbc41"
            ],
            [
             0.9,
             "#4d9221"
            ],
            [
             1,
             "#276419"
            ]
           ],
           "sequential": [
            [
             0,
             "#0d0887"
            ],
            [
             0.1111111111111111,
             "#46039f"
            ],
            [
             0.2222222222222222,
             "#7201a8"
            ],
            [
             0.3333333333333333,
             "#9c179e"
            ],
            [
             0.4444444444444444,
             "#bd3786"
            ],
            [
             0.5555555555555556,
             "#d8576b"
            ],
            [
             0.6666666666666666,
             "#ed7953"
            ],
            [
             0.7777777777777778,
             "#fb9f3a"
            ],
            [
             0.8888888888888888,
             "#fdca26"
            ],
            [
             1,
             "#f0f921"
            ]
           ],
           "sequentialminus": [
            [
             0,
             "#0d0887"
            ],
            [
             0.1111111111111111,
             "#46039f"
            ],
            [
             0.2222222222222222,
             "#7201a8"
            ],
            [
             0.3333333333333333,
             "#9c179e"
            ],
            [
             0.4444444444444444,
             "#bd3786"
            ],
            [
             0.5555555555555556,
             "#d8576b"
            ],
            [
             0.6666666666666666,
             "#ed7953"
            ],
            [
             0.7777777777777778,
             "#fb9f3a"
            ],
            [
             0.8888888888888888,
             "#fdca26"
            ],
            [
             1,
             "#f0f921"
            ]
           ]
          },
          "colorway": [
           "#636efa",
           "#EF553B",
           "#00cc96",
           "#ab63fa",
           "#FFA15A",
           "#19d3f3",
           "#FF6692",
           "#B6E880",
           "#FF97FF",
           "#FECB52"
          ],
          "font": {
           "color": "#2a3f5f"
          },
          "geo": {
           "bgcolor": "white",
           "lakecolor": "white",
           "landcolor": "#E5ECF6",
           "showlakes": true,
           "showland": true,
           "subunitcolor": "white"
          },
          "hoverlabel": {
           "align": "left"
          },
          "hovermode": "closest",
          "mapbox": {
           "style": "light"
          },
          "paper_bgcolor": "white",
          "plot_bgcolor": "#E5ECF6",
          "polar": {
           "angularaxis": {
            "gridcolor": "white",
            "linecolor": "white",
            "ticks": ""
           },
           "bgcolor": "#E5ECF6",
           "radialaxis": {
            "gridcolor": "white",
            "linecolor": "white",
            "ticks": ""
           }
          },
          "scene": {
           "xaxis": {
            "backgroundcolor": "#E5ECF6",
            "gridcolor": "white",
            "gridwidth": 2,
            "linecolor": "white",
            "showbackground": true,
            "ticks": "",
            "zerolinecolor": "white"
           },
           "yaxis": {
            "backgroundcolor": "#E5ECF6",
            "gridcolor": "white",
            "gridwidth": 2,
            "linecolor": "white",
            "showbackground": true,
            "ticks": "",
            "zerolinecolor": "white"
           },
           "zaxis": {
            "backgroundcolor": "#E5ECF6",
            "gridcolor": "white",
            "gridwidth": 2,
            "linecolor": "white",
            "showbackground": true,
            "ticks": "",
            "zerolinecolor": "white"
           }
          },
          "shapedefaults": {
           "line": {
            "color": "#2a3f5f"
           }
          },
          "ternary": {
           "aaxis": {
            "gridcolor": "white",
            "linecolor": "white",
            "ticks": ""
           },
           "baxis": {
            "gridcolor": "white",
            "linecolor": "white",
            "ticks": ""
           },
           "bgcolor": "#E5ECF6",
           "caxis": {
            "gridcolor": "white",
            "linecolor": "white",
            "ticks": ""
           }
          },
          "title": {
           "x": 0.05
          },
          "xaxis": {
           "automargin": true,
           "gridcolor": "white",
           "linecolor": "white",
           "ticks": "",
           "title": {
            "standoff": 15
           },
           "zerolinecolor": "white",
           "zerolinewidth": 2
          },
          "yaxis": {
           "automargin": true,
           "gridcolor": "white",
           "linecolor": "white",
           "ticks": "",
           "title": {
            "standoff": 15
           },
           "zerolinecolor": "white",
           "zerolinewidth": 2
          }
         }
        },
        "title": {
         "text": "Conf Matrix"
        },
        "width": 800,
        "xaxis": {
         "title": {
          "text": "Predicted value"
         }
        },
        "yaxis": {
         "title": {
          "text": "Real value"
         }
        }
       }
      }
     },
     "metadata": {},
     "output_type": "display_data"
    }
   ],
   "source": [
    "#Muestro la matriz de confusión\n",
    "display(plot_confusion_matrix(y_test,y_pred))"
   ]
  },
  {
   "cell_type": "code",
   "execution_count": 15,
   "metadata": {},
   "outputs": [
    {
     "data": {
      "text/plain": [
       "np.float64(1.0)"
      ]
     },
     "execution_count": 15,
     "metadata": {},
     "output_type": "execute_result"
    }
   ],
   "source": [
    "#Vamos a ponewr en perspectiva el score de Kappa\n",
    "\n",
    "\n",
    "#Cual es el score perfecto? Evaluo la clase real contra si misma. Es decir, el caso en que el modelo establece todas las clases en su valor real\n",
    "cohen_kappa_score(y_test,y_test, weights = 'quadratic')"
   ]
  },
  {
   "cell_type": "code",
   "execution_count": 16,
   "metadata": {},
   "outputs": [
    {
     "data": {
      "application/vnd.plotly.v1+json": {
       "config": {
        "plotlyServerURL": "https://plot.ly"
       },
       "data": [
        {
         "type": "heatmap",
         "x": [
          0,
          1,
          2,
          3,
          4
         ],
         "y": [
          0,
          1,
          2,
          3,
          4
         ],
         "z": [
          [
           100,
           0,
           0,
           0,
           0
          ],
          [
           0,
           100,
           0,
           0,
           0
          ],
          [
           0,
           0,
           100,
           0,
           0
          ],
          [
           0,
           0,
           0,
           100,
           0
          ],
          [
           0,
           0,
           0,
           0,
           100
          ]
         ]
        }
       ],
       "layout": {
        "annotations": [
         {
          "font": {
           "color": "white"
          },
          "showarrow": false,
          "text": "100.0 - 82",
          "x": 0,
          "xref": "x",
          "y": 0,
          "yref": "y"
         },
         {
          "font": {
           "color": "white"
          },
          "showarrow": false,
          "text": "0.0 - 0",
          "x": 1,
          "xref": "x",
          "y": 0,
          "yref": "y"
         },
         {
          "font": {
           "color": "white"
          },
          "showarrow": false,
          "text": "0.0 - 0",
          "x": 2,
          "xref": "x",
          "y": 0,
          "yref": "y"
         },
         {
          "font": {
           "color": "white"
          },
          "showarrow": false,
          "text": "0.0 - 0",
          "x": 3,
          "xref": "x",
          "y": 0,
          "yref": "y"
         },
         {
          "font": {
           "color": "white"
          },
          "showarrow": false,
          "text": "0.0 - 0",
          "x": 4,
          "xref": "x",
          "y": 0,
          "yref": "y"
         },
         {
          "font": {
           "color": "white"
          },
          "showarrow": false,
          "text": "0.0 - 0",
          "x": 0,
          "xref": "x",
          "y": 1,
          "yref": "y"
         },
         {
          "font": {
           "color": "white"
          },
          "showarrow": false,
          "text": "100.0 - 618",
          "x": 1,
          "xref": "x",
          "y": 1,
          "yref": "y"
         },
         {
          "font": {
           "color": "white"
          },
          "showarrow": false,
          "text": "0.0 - 0",
          "x": 2,
          "xref": "x",
          "y": 1,
          "yref": "y"
         },
         {
          "font": {
           "color": "white"
          },
          "showarrow": false,
          "text": "0.0 - 0",
          "x": 3,
          "xref": "x",
          "y": 1,
          "yref": "y"
         },
         {
          "font": {
           "color": "white"
          },
          "showarrow": false,
          "text": "0.0 - 0",
          "x": 4,
          "xref": "x",
          "y": 1,
          "yref": "y"
         },
         {
          "font": {
           "color": "white"
          },
          "showarrow": false,
          "text": "0.0 - 0",
          "x": 0,
          "xref": "x",
          "y": 2,
          "yref": "y"
         },
         {
          "font": {
           "color": "white"
          },
          "showarrow": false,
          "text": "0.0 - 0",
          "x": 1,
          "xref": "x",
          "y": 2,
          "yref": "y"
         },
         {
          "font": {
           "color": "white"
          },
          "showarrow": false,
          "text": "100.0 - 807",
          "x": 2,
          "xref": "x",
          "y": 2,
          "yref": "y"
         },
         {
          "font": {
           "color": "white"
          },
          "showarrow": false,
          "text": "0.0 - 0",
          "x": 3,
          "xref": "x",
          "y": 2,
          "yref": "y"
         },
         {
          "font": {
           "color": "white"
          },
          "showarrow": false,
          "text": "0.0 - 0",
          "x": 4,
          "xref": "x",
          "y": 2,
          "yref": "y"
         },
         {
          "font": {
           "color": "white"
          },
          "showarrow": false,
          "text": "0.0 - 0",
          "x": 0,
          "xref": "x",
          "y": 3,
          "yref": "y"
         },
         {
          "font": {
           "color": "white"
          },
          "showarrow": false,
          "text": "0.0 - 0",
          "x": 1,
          "xref": "x",
          "y": 3,
          "yref": "y"
         },
         {
          "font": {
           "color": "white"
          },
          "showarrow": false,
          "text": "0.0 - 0",
          "x": 2,
          "xref": "x",
          "y": 3,
          "yref": "y"
         },
         {
          "font": {
           "color": "white"
          },
          "showarrow": false,
          "text": "100.0 - 652",
          "x": 3,
          "xref": "x",
          "y": 3,
          "yref": "y"
         },
         {
          "font": {
           "color": "white"
          },
          "showarrow": false,
          "text": "0.0 - 0",
          "x": 4,
          "xref": "x",
          "y": 3,
          "yref": "y"
         },
         {
          "font": {
           "color": "white"
          },
          "showarrow": false,
          "text": "0.0 - 0",
          "x": 0,
          "xref": "x",
          "y": 4,
          "yref": "y"
         },
         {
          "font": {
           "color": "white"
          },
          "showarrow": false,
          "text": "0.0 - 0",
          "x": 1,
          "xref": "x",
          "y": 4,
          "yref": "y"
         },
         {
          "font": {
           "color": "white"
          },
          "showarrow": false,
          "text": "0.0 - 0",
          "x": 2,
          "xref": "x",
          "y": 4,
          "yref": "y"
         },
         {
          "font": {
           "color": "white"
          },
          "showarrow": false,
          "text": "0.0 - 0",
          "x": 3,
          "xref": "x",
          "y": 4,
          "yref": "y"
         },
         {
          "font": {
           "color": "white"
          },
          "showarrow": false,
          "text": "100.0 - 840",
          "x": 4,
          "xref": "x",
          "y": 4,
          "yref": "y"
         }
        ],
        "height": 800,
        "template": {
         "data": {
          "bar": [
           {
            "error_x": {
             "color": "#2a3f5f"
            },
            "error_y": {
             "color": "#2a3f5f"
            },
            "marker": {
             "line": {
              "color": "#E5ECF6",
              "width": 0.5
             },
             "pattern": {
              "fillmode": "overlay",
              "size": 10,
              "solidity": 0.2
             }
            },
            "type": "bar"
           }
          ],
          "barpolar": [
           {
            "marker": {
             "line": {
              "color": "#E5ECF6",
              "width": 0.5
             },
             "pattern": {
              "fillmode": "overlay",
              "size": 10,
              "solidity": 0.2
             }
            },
            "type": "barpolar"
           }
          ],
          "carpet": [
           {
            "aaxis": {
             "endlinecolor": "#2a3f5f",
             "gridcolor": "white",
             "linecolor": "white",
             "minorgridcolor": "white",
             "startlinecolor": "#2a3f5f"
            },
            "baxis": {
             "endlinecolor": "#2a3f5f",
             "gridcolor": "white",
             "linecolor": "white",
             "minorgridcolor": "white",
             "startlinecolor": "#2a3f5f"
            },
            "type": "carpet"
           }
          ],
          "choropleth": [
           {
            "colorbar": {
             "outlinewidth": 0,
             "ticks": ""
            },
            "type": "choropleth"
           }
          ],
          "contour": [
           {
            "colorbar": {
             "outlinewidth": 0,
             "ticks": ""
            },
            "colorscale": [
             [
              0,
              "#0d0887"
             ],
             [
              0.1111111111111111,
              "#46039f"
             ],
             [
              0.2222222222222222,
              "#7201a8"
             ],
             [
              0.3333333333333333,
              "#9c179e"
             ],
             [
              0.4444444444444444,
              "#bd3786"
             ],
             [
              0.5555555555555556,
              "#d8576b"
             ],
             [
              0.6666666666666666,
              "#ed7953"
             ],
             [
              0.7777777777777778,
              "#fb9f3a"
             ],
             [
              0.8888888888888888,
              "#fdca26"
             ],
             [
              1,
              "#f0f921"
             ]
            ],
            "type": "contour"
           }
          ],
          "contourcarpet": [
           {
            "colorbar": {
             "outlinewidth": 0,
             "ticks": ""
            },
            "type": "contourcarpet"
           }
          ],
          "heatmap": [
           {
            "colorbar": {
             "outlinewidth": 0,
             "ticks": ""
            },
            "colorscale": [
             [
              0,
              "#0d0887"
             ],
             [
              0.1111111111111111,
              "#46039f"
             ],
             [
              0.2222222222222222,
              "#7201a8"
             ],
             [
              0.3333333333333333,
              "#9c179e"
             ],
             [
              0.4444444444444444,
              "#bd3786"
             ],
             [
              0.5555555555555556,
              "#d8576b"
             ],
             [
              0.6666666666666666,
              "#ed7953"
             ],
             [
              0.7777777777777778,
              "#fb9f3a"
             ],
             [
              0.8888888888888888,
              "#fdca26"
             ],
             [
              1,
              "#f0f921"
             ]
            ],
            "type": "heatmap"
           }
          ],
          "heatmapgl": [
           {
            "colorbar": {
             "outlinewidth": 0,
             "ticks": ""
            },
            "colorscale": [
             [
              0,
              "#0d0887"
             ],
             [
              0.1111111111111111,
              "#46039f"
             ],
             [
              0.2222222222222222,
              "#7201a8"
             ],
             [
              0.3333333333333333,
              "#9c179e"
             ],
             [
              0.4444444444444444,
              "#bd3786"
             ],
             [
              0.5555555555555556,
              "#d8576b"
             ],
             [
              0.6666666666666666,
              "#ed7953"
             ],
             [
              0.7777777777777778,
              "#fb9f3a"
             ],
             [
              0.8888888888888888,
              "#fdca26"
             ],
             [
              1,
              "#f0f921"
             ]
            ],
            "type": "heatmapgl"
           }
          ],
          "histogram": [
           {
            "marker": {
             "pattern": {
              "fillmode": "overlay",
              "size": 10,
              "solidity": 0.2
             }
            },
            "type": "histogram"
           }
          ],
          "histogram2d": [
           {
            "colorbar": {
             "outlinewidth": 0,
             "ticks": ""
            },
            "colorscale": [
             [
              0,
              "#0d0887"
             ],
             [
              0.1111111111111111,
              "#46039f"
             ],
             [
              0.2222222222222222,
              "#7201a8"
             ],
             [
              0.3333333333333333,
              "#9c179e"
             ],
             [
              0.4444444444444444,
              "#bd3786"
             ],
             [
              0.5555555555555556,
              "#d8576b"
             ],
             [
              0.6666666666666666,
              "#ed7953"
             ],
             [
              0.7777777777777778,
              "#fb9f3a"
             ],
             [
              0.8888888888888888,
              "#fdca26"
             ],
             [
              1,
              "#f0f921"
             ]
            ],
            "type": "histogram2d"
           }
          ],
          "histogram2dcontour": [
           {
            "colorbar": {
             "outlinewidth": 0,
             "ticks": ""
            },
            "colorscale": [
             [
              0,
              "#0d0887"
             ],
             [
              0.1111111111111111,
              "#46039f"
             ],
             [
              0.2222222222222222,
              "#7201a8"
             ],
             [
              0.3333333333333333,
              "#9c179e"
             ],
             [
              0.4444444444444444,
              "#bd3786"
             ],
             [
              0.5555555555555556,
              "#d8576b"
             ],
             [
              0.6666666666666666,
              "#ed7953"
             ],
             [
              0.7777777777777778,
              "#fb9f3a"
             ],
             [
              0.8888888888888888,
              "#fdca26"
             ],
             [
              1,
              "#f0f921"
             ]
            ],
            "type": "histogram2dcontour"
           }
          ],
          "mesh3d": [
           {
            "colorbar": {
             "outlinewidth": 0,
             "ticks": ""
            },
            "type": "mesh3d"
           }
          ],
          "parcoords": [
           {
            "line": {
             "colorbar": {
              "outlinewidth": 0,
              "ticks": ""
             }
            },
            "type": "parcoords"
           }
          ],
          "pie": [
           {
            "automargin": true,
            "type": "pie"
           }
          ],
          "scatter": [
           {
            "fillpattern": {
             "fillmode": "overlay",
             "size": 10,
             "solidity": 0.2
            },
            "type": "scatter"
           }
          ],
          "scatter3d": [
           {
            "line": {
             "colorbar": {
              "outlinewidth": 0,
              "ticks": ""
             }
            },
            "marker": {
             "colorbar": {
              "outlinewidth": 0,
              "ticks": ""
             }
            },
            "type": "scatter3d"
           }
          ],
          "scattercarpet": [
           {
            "marker": {
             "colorbar": {
              "outlinewidth": 0,
              "ticks": ""
             }
            },
            "type": "scattercarpet"
           }
          ],
          "scattergeo": [
           {
            "marker": {
             "colorbar": {
              "outlinewidth": 0,
              "ticks": ""
             }
            },
            "type": "scattergeo"
           }
          ],
          "scattergl": [
           {
            "marker": {
             "colorbar": {
              "outlinewidth": 0,
              "ticks": ""
             }
            },
            "type": "scattergl"
           }
          ],
          "scattermapbox": [
           {
            "marker": {
             "colorbar": {
              "outlinewidth": 0,
              "ticks": ""
             }
            },
            "type": "scattermapbox"
           }
          ],
          "scatterpolar": [
           {
            "marker": {
             "colorbar": {
              "outlinewidth": 0,
              "ticks": ""
             }
            },
            "type": "scatterpolar"
           }
          ],
          "scatterpolargl": [
           {
            "marker": {
             "colorbar": {
              "outlinewidth": 0,
              "ticks": ""
             }
            },
            "type": "scatterpolargl"
           }
          ],
          "scatterternary": [
           {
            "marker": {
             "colorbar": {
              "outlinewidth": 0,
              "ticks": ""
             }
            },
            "type": "scatterternary"
           }
          ],
          "surface": [
           {
            "colorbar": {
             "outlinewidth": 0,
             "ticks": ""
            },
            "colorscale": [
             [
              0,
              "#0d0887"
             ],
             [
              0.1111111111111111,
              "#46039f"
             ],
             [
              0.2222222222222222,
              "#7201a8"
             ],
             [
              0.3333333333333333,
              "#9c179e"
             ],
             [
              0.4444444444444444,
              "#bd3786"
             ],
             [
              0.5555555555555556,
              "#d8576b"
             ],
             [
              0.6666666666666666,
              "#ed7953"
             ],
             [
              0.7777777777777778,
              "#fb9f3a"
             ],
             [
              0.8888888888888888,
              "#fdca26"
             ],
             [
              1,
              "#f0f921"
             ]
            ],
            "type": "surface"
           }
          ],
          "table": [
           {
            "cells": {
             "fill": {
              "color": "#EBF0F8"
             },
             "line": {
              "color": "white"
             }
            },
            "header": {
             "fill": {
              "color": "#C8D4E3"
             },
             "line": {
              "color": "white"
             }
            },
            "type": "table"
           }
          ]
         },
         "layout": {
          "annotationdefaults": {
           "arrowcolor": "#2a3f5f",
           "arrowhead": 0,
           "arrowwidth": 1
          },
          "autotypenumbers": "strict",
          "coloraxis": {
           "colorbar": {
            "outlinewidth": 0,
            "ticks": ""
           }
          },
          "colorscale": {
           "diverging": [
            [
             0,
             "#8e0152"
            ],
            [
             0.1,
             "#c51b7d"
            ],
            [
             0.2,
             "#de77ae"
            ],
            [
             0.3,
             "#f1b6da"
            ],
            [
             0.4,
             "#fde0ef"
            ],
            [
             0.5,
             "#f7f7f7"
            ],
            [
             0.6,
             "#e6f5d0"
            ],
            [
             0.7,
             "#b8e186"
            ],
            [
             0.8,
             "#7fbc41"
            ],
            [
             0.9,
             "#4d9221"
            ],
            [
             1,
             "#276419"
            ]
           ],
           "sequential": [
            [
             0,
             "#0d0887"
            ],
            [
             0.1111111111111111,
             "#46039f"
            ],
            [
             0.2222222222222222,
             "#7201a8"
            ],
            [
             0.3333333333333333,
             "#9c179e"
            ],
            [
             0.4444444444444444,
             "#bd3786"
            ],
            [
             0.5555555555555556,
             "#d8576b"
            ],
            [
             0.6666666666666666,
             "#ed7953"
            ],
            [
             0.7777777777777778,
             "#fb9f3a"
            ],
            [
             0.8888888888888888,
             "#fdca26"
            ],
            [
             1,
             "#f0f921"
            ]
           ],
           "sequentialminus": [
            [
             0,
             "#0d0887"
            ],
            [
             0.1111111111111111,
             "#46039f"
            ],
            [
             0.2222222222222222,
             "#7201a8"
            ],
            [
             0.3333333333333333,
             "#9c179e"
            ],
            [
             0.4444444444444444,
             "#bd3786"
            ],
            [
             0.5555555555555556,
             "#d8576b"
            ],
            [
             0.6666666666666666,
             "#ed7953"
            ],
            [
             0.7777777777777778,
             "#fb9f3a"
            ],
            [
             0.8888888888888888,
             "#fdca26"
            ],
            [
             1,
             "#f0f921"
            ]
           ]
          },
          "colorway": [
           "#636efa",
           "#EF553B",
           "#00cc96",
           "#ab63fa",
           "#FFA15A",
           "#19d3f3",
           "#FF6692",
           "#B6E880",
           "#FF97FF",
           "#FECB52"
          ],
          "font": {
           "color": "#2a3f5f"
          },
          "geo": {
           "bgcolor": "white",
           "lakecolor": "white",
           "landcolor": "#E5ECF6",
           "showlakes": true,
           "showland": true,
           "subunitcolor": "white"
          },
          "hoverlabel": {
           "align": "left"
          },
          "hovermode": "closest",
          "mapbox": {
           "style": "light"
          },
          "paper_bgcolor": "white",
          "plot_bgcolor": "#E5ECF6",
          "polar": {
           "angularaxis": {
            "gridcolor": "white",
            "linecolor": "white",
            "ticks": ""
           },
           "bgcolor": "#E5ECF6",
           "radialaxis": {
            "gridcolor": "white",
            "linecolor": "white",
            "ticks": ""
           }
          },
          "scene": {
           "xaxis": {
            "backgroundcolor": "#E5ECF6",
            "gridcolor": "white",
            "gridwidth": 2,
            "linecolor": "white",
            "showbackground": true,
            "ticks": "",
            "zerolinecolor": "white"
           },
           "yaxis": {
            "backgroundcolor": "#E5ECF6",
            "gridcolor": "white",
            "gridwidth": 2,
            "linecolor": "white",
            "showbackground": true,
            "ticks": "",
            "zerolinecolor": "white"
           },
           "zaxis": {
            "backgroundcolor": "#E5ECF6",
            "gridcolor": "white",
            "gridwidth": 2,
            "linecolor": "white",
            "showbackground": true,
            "ticks": "",
            "zerolinecolor": "white"
           }
          },
          "shapedefaults": {
           "line": {
            "color": "#2a3f5f"
           }
          },
          "ternary": {
           "aaxis": {
            "gridcolor": "white",
            "linecolor": "white",
            "ticks": ""
           },
           "baxis": {
            "gridcolor": "white",
            "linecolor": "white",
            "ticks": ""
           },
           "bgcolor": "#E5ECF6",
           "caxis": {
            "gridcolor": "white",
            "linecolor": "white",
            "ticks": ""
           }
          },
          "title": {
           "x": 0.05
          },
          "xaxis": {
           "automargin": true,
           "gridcolor": "white",
           "linecolor": "white",
           "ticks": "",
           "title": {
            "standoff": 15
           },
           "zerolinecolor": "white",
           "zerolinewidth": 2
          },
          "yaxis": {
           "automargin": true,
           "gridcolor": "white",
           "linecolor": "white",
           "ticks": "",
           "title": {
            "standoff": 15
           },
           "zerolinecolor": "white",
           "zerolinewidth": 2
          }
         }
        },
        "title": {
         "text": "Conf Matrix"
        },
        "width": 800,
        "xaxis": {
         "title": {
          "text": "Predicted value"
         }
        },
        "yaxis": {
         "title": {
          "text": "Real value"
         }
        }
       }
      }
     },
     "metadata": {},
     "output_type": "display_data"
    }
   ],
   "source": [
    "#Como se veria la matriz de confusión\n",
    "display(plot_confusion_matrix(y_test,y_test))"
   ]
  },
  {
   "cell_type": "code",
   "execution_count": 18,
   "metadata": {},
   "outputs": [],
   "source": [
    "#Vamos a ver como se comporta kappa si hafgo una predicción al azar (respetando las proporciones de cada clase)\n",
    "y_shuffled = shuffle(y_test,\n",
    "                     random_state = 42)\n",
    "\n",
    "\n",
    "#Genero diccionarios para cambiar algunas predicicones reales por una prediccion cercana y_cerca y una lejana y_lejos a la real \n",
    "# ejemplo: la real se 0 voy a estimar 1 para la cercana y 4 para la lejana\n",
    "dict_map_cerca = {0:1,\n",
    "                  1:2,\n",
    "                  2:3,\n",
    "                  3:4,\n",
    "                  4:3}\n",
    "\n",
    "dict_map_lejos = {0:4,\n",
    "                  1:4,\n",
    "                  2:0,\n",
    "                  3:0,\n",
    "                  4:0}\n",
    "\n",
    "y_cerca = [dict_map_cerca[i] for i in y_test]\n",
    "\n",
    "y_lejos = [dict_map_lejos[i] for i in y_test]\n"
   ]
  },
  {
   "cell_type": "code",
   "execution_count": 19,
   "metadata": {},
   "outputs": [],
   "source": [
    "\n",
    "#Vamos a simular que la probabilidad de tener la prediccion real en casa muestra varia de 0 a 100. \n",
    "#Genero una numero aleatorio para cada muestra\n",
    "random_list =  np.random.rand(len(y_test))\n",
    "\n",
    "#inicializo un dataframe de resultados vacio\n",
    "kappa_progression = pd.DataFrame()\n",
    "\n",
    "#La variable i tiene un umbral para ir variando la cantidad de aciertos desde 0% a 100%\n",
    "for i in range(101):\n",
    "\n",
    "    #Genero la prediccion para i% de aciertos donde cuando no acierto me quedo con una prediccion al azar (podria ser la \"correcta\" pero solo por azar)\n",
    "    y_simulado = [y_test.iloc[sample] if random_list[sample]<i/100 else y_shuffled.iloc[sample] for sample in range(len(y_test))]\n",
    "\n",
    "    #Genero la prediccion para i% de aciertos donde cuando no acierto me quedo con una prediccion cercana o lejana a la correcta\n",
    "    y_simulado_cerca = [y_test.iloc[sample] if random_list[sample]<i/100 else y_cerca[sample] for sample in range(len(y_test))]\n",
    "    y_simulado_lejos = [y_test.iloc[sample] if random_list[sample]<i/100 else y_lejos[sample] for sample in range(len(y_test))]\n",
    "\n",
    "\n",
    "    #Grabo los resultados en un dataframe para cada i% de aciertos\n",
    "    kappa_progression = pd.concat([kappa_progression,\n",
    "                                   pd.DataFrame({'Conocidos':[i],\n",
    "                                                'kappa':cohen_kappa_score(y_test,\n",
    "                                                                        y_simulado,\n",
    "                                                                        weights = 'quadratic'),\n",
    "                                                'kappa_cerca':cohen_kappa_score(y_test,\n",
    "                                                                        y_simulado_cerca,\n",
    "                                                                        weights = 'quadratic'),\n",
    "                                                'kappa_lejos':cohen_kappa_score(y_test,\n",
    "                                                                        y_simulado_lejos,\n",
    "                                                                        weights = 'quadratic'),                                                                        \n",
    "                                                'accuracy':accuracy_score(y_test,\n",
    "                                                                        y_simulado),\n",
    "                                                'balanced_accuracy':balanced_accuracy_score(y_test,\n",
    "                                                                        y_simulado),\n",
    "                                                                        })],\n",
    "                ignore_index=True)"
   ]
  },
  {
   "cell_type": "code",
   "execution_count": 20,
   "metadata": {},
   "outputs": [
    {
     "data": {
      "application/vnd.plotly.v1+json": {
       "config": {
        "plotlyServerURL": "https://plot.ly"
       },
       "data": [
        {
         "hovertemplate": "variable=kappa<br>Conocidos=%{x}<br>value=%{y}<extra></extra>",
         "legendgroup": "kappa",
         "line": {
          "color": "#636efa",
          "dash": "solid"
         },
         "marker": {
          "symbol": "circle"
         },
         "mode": "lines",
         "name": "kappa",
         "orientation": "v",
         "showlegend": true,
         "type": "scatter",
         "x": [
          0,
          1,
          2,
          3,
          4,
          5,
          6,
          7,
          8,
          9,
          10,
          11,
          12,
          13,
          14,
          15,
          16,
          17,
          18,
          19,
          20,
          21,
          22,
          23,
          24,
          25,
          26,
          27,
          28,
          29,
          30,
          31,
          32,
          33,
          34,
          35,
          36,
          37,
          38,
          39,
          40,
          41,
          42,
          43,
          44,
          45,
          46,
          47,
          48,
          49,
          50,
          51,
          52,
          53,
          54,
          55,
          56,
          57,
          58,
          59,
          60,
          61,
          62,
          63,
          64,
          65,
          66,
          67,
          68,
          69,
          70,
          71,
          72,
          73,
          74,
          75,
          76,
          77,
          78,
          79,
          80,
          81,
          82,
          83,
          84,
          85,
          86,
          87,
          88,
          89,
          90,
          91,
          92,
          93,
          94,
          95,
          96,
          97,
          98,
          99,
          100
         ],
         "xaxis": "x",
         "y": [
          -0.0084438812302563,
          0.0013101479232754398,
          0.011379879453426556,
          0.026740076619130804,
          0.03578942986573275,
          0.048212139225258244,
          0.06139569339674711,
          0.07009439725549838,
          0.0799219157992731,
          0.08694285997811046,
          0.09256939343203152,
          0.10088332022196334,
          0.10988770326762831,
          0.12244674183692972,
          0.12868309951886892,
          0.1345829410994953,
          0.14766734982265262,
          0.1603833400525333,
          0.16779296291229562,
          0.18037092069852745,
          0.1934634053525044,
          0.19720824600557396,
          0.21673421944703974,
          0.2229838149335358,
          0.231550456993168,
          0.24215470526275884,
          0.25487251881514694,
          0.2693809848541723,
          0.2798124826396027,
          0.28644730806631646,
          0.2943962321845903,
          0.30360509457381557,
          0.30863966714728375,
          0.31967019393794427,
          0.32968745061034177,
          0.34017803056250495,
          0.35425379166900195,
          0.36740651225447873,
          0.37661182687385975,
          0.3880108790106799,
          0.3974887232303135,
          0.4061659181047408,
          0.4172905890850801,
          0.4242575986947724,
          0.43422125917979426,
          0.4443149733768741,
          0.4539201832044014,
          0.46178914267750826,
          0.4703523155577176,
          0.4848476803058549,
          0.4928584112480403,
          0.5073370310088148,
          0.5200398004389226,
          0.5332119910237334,
          0.5430556486412379,
          0.5483426514060245,
          0.5590130865737503,
          0.5666640253016316,
          0.5747293951224756,
          0.5830366817276258,
          0.5922671919734831,
          0.6067594840996666,
          0.6164896933655681,
          0.6268059218126092,
          0.6392334873406145,
          0.649856251017376,
          0.6560561732383235,
          0.6662878542526867,
          0.6781072427157908,
          0.6842811880698736,
          0.6913982484118835,
          0.7002857891619709,
          0.7154612567361691,
          0.7225847182916388,
          0.7362725756622142,
          0.7428426285394948,
          0.7508258917518809,
          0.7601130122781308,
          0.7691709603561026,
          0.7780543039047979,
          0.788762648687338,
          0.7986544613823647,
          0.8113042419697368,
          0.8169345048537708,
          0.8235927267874654,
          0.828296316761983,
          0.840710397549887,
          0.8562850910683462,
          0.872106860400736,
          0.8799364668140631,
          0.8925229792217486,
          0.9034751640688745,
          0.9133069158449235,
          0.9230357006374417,
          0.9342725678440092,
          0.9443070466993043,
          0.9554835262609203,
          0.9646027582923206,
          0.9800325489738683,
          0.9884582052121043,
          1
         ],
         "yaxis": "y"
        },
        {
         "hovertemplate": "variable=kappa_cerca<br>Conocidos=%{x}<br>value=%{y}<extra></extra>",
         "legendgroup": "kappa_cerca",
         "line": {
          "color": "#EF553B",
          "dash": "solid"
         },
         "marker": {
          "symbol": "circle"
         },
         "mode": "lines",
         "name": "kappa_cerca",
         "orientation": "v",
         "showlegend": true,
         "type": "scatter",
         "x": [
          0,
          1,
          2,
          3,
          4,
          5,
          6,
          7,
          8,
          9,
          10,
          11,
          12,
          13,
          14,
          15,
          16,
          17,
          18,
          19,
          20,
          21,
          22,
          23,
          24,
          25,
          26,
          27,
          28,
          29,
          30,
          31,
          32,
          33,
          34,
          35,
          36,
          37,
          38,
          39,
          40,
          41,
          42,
          43,
          44,
          45,
          46,
          47,
          48,
          49,
          50,
          51,
          52,
          53,
          54,
          55,
          56,
          57,
          58,
          59,
          60,
          61,
          62,
          63,
          64,
          65,
          66,
          67,
          68,
          69,
          70,
          71,
          72,
          73,
          74,
          75,
          76,
          77,
          78,
          79,
          80,
          81,
          82,
          83,
          84,
          85,
          86,
          87,
          88,
          89,
          90,
          91,
          92,
          93,
          94,
          95,
          96,
          97,
          98,
          99,
          100
         ],
         "xaxis": "x",
         "y": [
          0.5261777791943391,
          0.5317148046614333,
          0.5366718631629304,
          0.5446809989753341,
          0.5497440126819377,
          0.5573899097921424,
          0.5646368370227426,
          0.5715756060573933,
          0.5780727416251521,
          0.5828413103253229,
          0.5879339663007555,
          0.5919621034523538,
          0.5974576357688683,
          0.604298823956156,
          0.6085143070006012,
          0.613057418360198,
          0.6196866440633213,
          0.6252854568232646,
          0.6305059083998295,
          0.6371466908842933,
          0.6450690543744229,
          0.6489386375629829,
          0.6572640212954698,
          0.6608115384450194,
          0.6661698288959385,
          0.6719874740089755,
          0.6773724659880546,
          0.6838672161489776,
          0.6896984510397455,
          0.6945552564924538,
          0.6992967215982395,
          0.7044120122132571,
          0.7088424578900342,
          0.7150582951599087,
          0.7183027084535702,
          0.7228548387661828,
          0.7288996399614458,
          0.7357338726892301,
          0.7419729617078936,
          0.7476757393462623,
          0.7527139266900877,
          0.7573030123892792,
          0.7621459874706947,
          0.7663114515451752,
          0.7705780822391395,
          0.7757132951940209,
          0.7796714249460641,
          0.784315292350229,
          0.7895670981380063,
          0.7943202762688107,
          0.7986296093994049,
          0.8036734503966794,
          0.8087707724439772,
          0.8140824863393624,
          0.8180566226772219,
          0.8210472991955073,
          0.8256264581120053,
          0.8295675343879044,
          0.8336741542994637,
          0.836964080141093,
          0.8405466535750024,
          0.8451123852129638,
          0.8493156844545767,
          0.8529307469723859,
          0.858282431353001,
          0.862843189996754,
          0.8659096887054468,
          0.8696943134253254,
          0.8743024780561256,
          0.8774287780419902,
          0.8809372784823745,
          0.8860043015258383,
          0.892268497438316,
          0.8953694165267635,
          0.9007634478531374,
          0.9046745836547543,
          0.9079526361344774,
          0.9117112536741084,
          0.9157566370528191,
          0.9193225387383049,
          0.9228088444466501,
          0.9268894971387394,
          0.930969689522844,
          0.9339401607590829,
          0.9378460762949793,
          0.9403697439789283,
          0.9450471332149343,
          0.9500438898470916,
          0.9550940919223139,
          0.9592200336452131,
          0.9629944053562483,
          0.9674257201203577,
          0.9713502944432637,
          0.9747003343481434,
          0.9779490498700856,
          0.9811542527121687,
          0.9851716968667804,
          0.9885815870567611,
          0.9932307645676168,
          0.9961404830702142,
          1
         ],
         "yaxis": "y"
        },
        {
         "hovertemplate": "variable=kappa_lejos<br>Conocidos=%{x}<br>value=%{y}<extra></extra>",
         "legendgroup": "kappa_lejos",
         "line": {
          "color": "#00cc96",
          "dash": "solid"
         },
         "marker": {
          "symbol": "circle"
         },
         "mode": "lines",
         "name": "kappa_lejos",
         "orientation": "v",
         "showlegend": true,
         "type": "scatter",
         "x": [
          0,
          1,
          2,
          3,
          4,
          5,
          6,
          7,
          8,
          9,
          10,
          11,
          12,
          13,
          14,
          15,
          16,
          17,
          18,
          19,
          20,
          21,
          22,
          23,
          24,
          25,
          26,
          27,
          28,
          29,
          30,
          31,
          32,
          33,
          34,
          35,
          36,
          37,
          38,
          39,
          40,
          41,
          42,
          43,
          44,
          45,
          46,
          47,
          48,
          49,
          50,
          51,
          52,
          53,
          54,
          55,
          56,
          57,
          58,
          59,
          60,
          61,
          62,
          63,
          64,
          65,
          66,
          67,
          68,
          69,
          70,
          71,
          72,
          73,
          74,
          75,
          76,
          77,
          78,
          79,
          80,
          81,
          82,
          83,
          84,
          85,
          86,
          87,
          88,
          89,
          90,
          91,
          92,
          93,
          94,
          95,
          96,
          97,
          98,
          99,
          100
         ],
         "xaxis": "x",
         "y": [
          -0.45165018440277804,
          -0.44856678721363474,
          -0.4436419649391119,
          -0.43802198290516614,
          -0.4334591251478299,
          -0.4269108023995476,
          -0.41910784075206053,
          -0.41180017001140756,
          -0.4071169881298895,
          -0.4020881375687162,
          -0.39802730618536075,
          -0.39338505275922464,
          -0.38709216442507843,
          -0.38106230881168224,
          -0.37612768634202887,
          -0.37323378823011644,
          -0.3648288442851,
          -0.3581430883121035,
          -0.35097042957182856,
          -0.33980491001822766,
          -0.32705646085133955,
          -0.32261534671390746,
          -0.3066703508689921,
          -0.30115427920681137,
          -0.2917427404735513,
          -0.2827402377351409,
          -0.2749751209889013,
          -0.26228836648581577,
          -0.24909841259341836,
          -0.24440062761849024,
          -0.2362616376938722,
          -0.2260468579913797,
          -0.21913835278869498,
          -0.20852377896551166,
          -0.1994452089850709,
          -0.19074537944505132,
          -0.18178092524260658,
          -0.16522316801876946,
          -0.15196830062914946,
          -0.1408185144771461,
          -0.13072570486115564,
          -0.11880241145600379,
          -0.10600330480028664,
          -0.0946606183152443,
          -0.08518946159944463,
          -0.07166885879994034,
          -0.06050783782041824,
          -0.05037818824823703,
          -0.03888356824256167,
          -0.02478084299195782,
          -0.012170159155414861,
          0.0022826023455612132,
          0.017725098090567437,
          0.03184408282180873,
          0.04213149913711922,
          0.050592034891159265,
          0.062339662065462265,
          0.07294665874629336,
          0.08400538347552522,
          0.09351385718603744,
          0.10620044790205518,
          0.12619598581109126,
          0.13851748792963203,
          0.15062683217004103,
          0.17007829560611132,
          0.18407697641492804,
          0.19418946117207758,
          0.20872272894338084,
          0.2308275757495667,
          0.24319403357273928,
          0.25867730595128635,
          0.28075568103775983,
          0.31315114287718415,
          0.32935910535562185,
          0.3531870308404226,
          0.36823264216391904,
          0.3846054218617335,
          0.40205228686918704,
          0.4185418986638023,
          0.4368454615600651,
          0.45711935214630905,
          0.4759782322396999,
          0.5002118225521408,
          0.5183659274196761,
          0.537066959072976,
          0.5514400115162255,
          0.5795095629174676,
          0.6165531485890074,
          0.6500120990272833,
          0.6748371352914767,
          0.6998992443962162,
          0.7345093042537152,
          0.7644675878304057,
          0.7929665513053483,
          0.8192340490432174,
          0.8444689916317041,
          0.8720171798130433,
          0.8964658369394749,
          0.9389362117020001,
          0.9641620003037353,
          1
         ],
         "yaxis": "y"
        },
        {
         "hovertemplate": "variable=accuracy<br>Conocidos=%{x}<br>value=%{y}<extra></extra>",
         "legendgroup": "accuracy",
         "line": {
          "color": "#ab63fa",
          "dash": "solid"
         },
         "marker": {
          "symbol": "circle"
         },
         "mode": "lines",
         "name": "accuracy",
         "orientation": "v",
         "showlegend": true,
         "type": "scatter",
         "x": [
          0,
          1,
          2,
          3,
          4,
          5,
          6,
          7,
          8,
          9,
          10,
          11,
          12,
          13,
          14,
          15,
          16,
          17,
          18,
          19,
          20,
          21,
          22,
          23,
          24,
          25,
          26,
          27,
          28,
          29,
          30,
          31,
          32,
          33,
          34,
          35,
          36,
          37,
          38,
          39,
          40,
          41,
          42,
          43,
          44,
          45,
          46,
          47,
          48,
          49,
          50,
          51,
          52,
          53,
          54,
          55,
          56,
          57,
          58,
          59,
          60,
          61,
          62,
          63,
          64,
          65,
          66,
          67,
          68,
          69,
          70,
          71,
          72,
          73,
          74,
          75,
          76,
          77,
          78,
          79,
          80,
          81,
          82,
          83,
          84,
          85,
          86,
          87,
          88,
          89,
          90,
          91,
          92,
          93,
          94,
          95,
          96,
          97,
          98,
          99,
          100
         ],
         "xaxis": "x",
         "y": [
          0.24141380460153383,
          0.24908302767589197,
          0.25541847282427477,
          0.26608869623207737,
          0.272757585861954,
          0.2834278092697566,
          0.2930976992330777,
          0.302434144714905,
          0.3104368122707569,
          0.31643881293764586,
          0.322107369123041,
          0.32677559186395466,
          0.33344448149383127,
          0.3431143714571524,
          0.34878292764254754,
          0.35511837279093034,
          0.36378792930976994,
          0.37279093031010335,
          0.3784594864954985,
          0.3864621540513504,
          0.39579859953317775,
          0.40013337779259756,
          0.41113704568189396,
          0.41547182394131377,
          0.42247415805268423,
          0.43081027009003003,
          0.43947982660886964,
          0.4491497165721907,
          0.4558186062020674,
          0.4638212737579193,
          0.4701567189063021,
          0.47715905301767253,
          0.48216072024008005,
          0.49116372124041346,
          0.49549849949983327,
          0.5011670556852285,
          0.5108369456485495,
          0.5195065021673891,
          0.5265088362787596,
          0.5361787262420807,
          0.543514504834945,
          0.5505168389463154,
          0.5578526175391797,
          0.5628542847615872,
          0.5698566188729577,
          0.5781927309103034,
          0.5838612870956985,
          0.5921973991330444,
          0.5985328442814272,
          0.606535511837279,
          0.6138712904301434,
          0.622540846948983,
          0.6308769589863288,
          0.6398799599866623,
          0.6475491830610204,
          0.6518839613204401,
          0.6592197399133044,
          0.6665555185061687,
          0.6728909636545515,
          0.6792264088029343,
          0.6855618539513171,
          0.6938979659886629,
          0.7005668556185395,
          0.7079026342114038,
          0.7182394131377126,
          0.727242414138046,
          0.7325775258419474,
          0.7409136378792931,
          0.7492497499166388,
          0.7545848616205402,
          0.7605868622874291,
          0.7679226408802934,
          0.7789263087695899,
          0.784594864954985,
          0.7932644214738246,
          0.8006002000666889,
          0.8072690896965655,
          0.8146048682894298,
          0.8236078692897633,
          0.8306102034011337,
          0.8372790930310103,
          0.8459486495498499,
          0.8542847615871957,
          0.8602867622540847,
          0.8686228742914305,
          0.8739579859953318,
          0.8836278759586529,
          0.8939646548849617,
          0.9036345448482828,
          0.9116372124041348,
          0.9196398799599866,
          0.9293097699233077,
          0.9369789929976658,
          0.9449816605535178,
          0.9523174391463821,
          0.9599866622207403,
          0.9686562187395799,
          0.9759919973324441,
          0.9846615538512837,
          0.9903301100366789,
          1
         ],
         "yaxis": "y"
        },
        {
         "hovertemplate": "variable=balanced_accuracy<br>Conocidos=%{x}<br>value=%{y}<extra></extra>",
         "legendgroup": "balanced_accuracy",
         "line": {
          "color": "#FFA15A",
          "dash": "solid"
         },
         "marker": {
          "symbol": "circle"
         },
         "mode": "lines",
         "name": "balanced_accuracy",
         "orientation": "v",
         "showlegend": true,
         "type": "scatter",
         "x": [
          0,
          1,
          2,
          3,
          4,
          5,
          6,
          7,
          8,
          9,
          10,
          11,
          12,
          13,
          14,
          15,
          16,
          17,
          18,
          19,
          20,
          21,
          22,
          23,
          24,
          25,
          26,
          27,
          28,
          29,
          30,
          31,
          32,
          33,
          34,
          35,
          36,
          37,
          38,
          39,
          40,
          41,
          42,
          43,
          44,
          45,
          46,
          47,
          48,
          49,
          50,
          51,
          52,
          53,
          54,
          55,
          56,
          57,
          58,
          59,
          60,
          61,
          62,
          63,
          64,
          65,
          66,
          67,
          68,
          69,
          70,
          71,
          72,
          73,
          74,
          75,
          76,
          77,
          78,
          79,
          80,
          81,
          82,
          83,
          84,
          85,
          86,
          87,
          88,
          89,
          90,
          91,
          92,
          93,
          94,
          95,
          96,
          97,
          98,
          99,
          100
         ],
         "xaxis": "x",
         "y": [
          0.19781671101270798,
          0.20618131098249964,
          0.2111574324537683,
          0.22406039388258678,
          0.22970225737882072,
          0.2404422865416705,
          0.25483498732479254,
          0.2625031917642178,
          0.26913493352636453,
          0.2763653779535479,
          0.28091708604757687,
          0.2846832588553653,
          0.29235354515652345,
          0.3000579291258256,
          0.30471059507396375,
          0.3097845784829009,
          0.3214290791380678,
          0.3288760644686094,
          0.33567933010242185,
          0.34678612694594535,
          0.35672276505436556,
          0.3602954798303001,
          0.3738171503855379,
          0.38190126884506487,
          0.392191374487717,
          0.3995185665569833,
          0.41081525752242093,
          0.42341115949099145,
          0.4311812549349428,
          0.4379431632607048,
          0.4431129118361662,
          0.4489396458390682,
          0.4531862221716548,
          0.46267166546478294,
          0.4726877924240419,
          0.47729726879841533,
          0.4877045741951317,
          0.5015740200243683,
          0.5096185593086305,
          0.517499694252914,
          0.5233960611229556,
          0.5292648359883063,
          0.5396219781543057,
          0.5459393170754256,
          0.5519888868920264,
          0.5611088337995753,
          0.5679346678228325,
          0.5750933975211433,
          0.5825690770791315,
          0.5912423727203053,
          0.5991854861569592,
          0.6063148380734251,
          0.6175839370341718,
          0.6312873477639065,
          0.6375436878316332,
          0.6410114007771895,
          0.6493510050860827,
          0.6576122199303116,
          0.66310980614985,
          0.6705096925869661,
          0.675577035675842,
          0.6870034131385659,
          0.6945656016929054,
          0.7006232910411929,
          0.7094165518525626,
          0.7167554394362853,
          0.7210075389567662,
          0.7298554692954579,
          0.7388872905018403,
          0.7454412770285791,
          0.75051023682227,
          0.7568834312343402,
          0.7700670283363509,
          0.7749121726773657,
          0.7888082308723161,
          0.7947855835508146,
          0.8024896221103962,
          0.8129168651370342,
          0.8202921013229728,
          0.8258719834902548,
          0.8356816856081087,
          0.8426549077339136,
          0.8520974995979543,
          0.8568438144351536,
          0.8636630230477607,
          0.8680944698870151,
          0.8757819777271058,
          0.8862100657361127,
          0.8984018373670862,
          0.9050024232146022,
          0.9182006038309792,
          0.9261154910336856,
          0.9366461191858868,
          0.9432809568644739,
          0.9513362120242155,
          0.9596910757575051,
          0.9670413162825453,
          0.9736962634999747,
          0.9848556480090874,
          0.9917696077335112,
          1
         ],
         "yaxis": "y"
        }
       ],
       "layout": {
        "legend": {
         "title": {
          "text": "variable"
         },
         "tracegroupgap": 0
        },
        "margin": {
         "t": 60
        },
        "template": {
         "data": {
          "bar": [
           {
            "error_x": {
             "color": "#2a3f5f"
            },
            "error_y": {
             "color": "#2a3f5f"
            },
            "marker": {
             "line": {
              "color": "#E5ECF6",
              "width": 0.5
             },
             "pattern": {
              "fillmode": "overlay",
              "size": 10,
              "solidity": 0.2
             }
            },
            "type": "bar"
           }
          ],
          "barpolar": [
           {
            "marker": {
             "line": {
              "color": "#E5ECF6",
              "width": 0.5
             },
             "pattern": {
              "fillmode": "overlay",
              "size": 10,
              "solidity": 0.2
             }
            },
            "type": "barpolar"
           }
          ],
          "carpet": [
           {
            "aaxis": {
             "endlinecolor": "#2a3f5f",
             "gridcolor": "white",
             "linecolor": "white",
             "minorgridcolor": "white",
             "startlinecolor": "#2a3f5f"
            },
            "baxis": {
             "endlinecolor": "#2a3f5f",
             "gridcolor": "white",
             "linecolor": "white",
             "minorgridcolor": "white",
             "startlinecolor": "#2a3f5f"
            },
            "type": "carpet"
           }
          ],
          "choropleth": [
           {
            "colorbar": {
             "outlinewidth": 0,
             "ticks": ""
            },
            "type": "choropleth"
           }
          ],
          "contour": [
           {
            "colorbar": {
             "outlinewidth": 0,
             "ticks": ""
            },
            "colorscale": [
             [
              0,
              "#0d0887"
             ],
             [
              0.1111111111111111,
              "#46039f"
             ],
             [
              0.2222222222222222,
              "#7201a8"
             ],
             [
              0.3333333333333333,
              "#9c179e"
             ],
             [
              0.4444444444444444,
              "#bd3786"
             ],
             [
              0.5555555555555556,
              "#d8576b"
             ],
             [
              0.6666666666666666,
              "#ed7953"
             ],
             [
              0.7777777777777778,
              "#fb9f3a"
             ],
             [
              0.8888888888888888,
              "#fdca26"
             ],
             [
              1,
              "#f0f921"
             ]
            ],
            "type": "contour"
           }
          ],
          "contourcarpet": [
           {
            "colorbar": {
             "outlinewidth": 0,
             "ticks": ""
            },
            "type": "contourcarpet"
           }
          ],
          "heatmap": [
           {
            "colorbar": {
             "outlinewidth": 0,
             "ticks": ""
            },
            "colorscale": [
             [
              0,
              "#0d0887"
             ],
             [
              0.1111111111111111,
              "#46039f"
             ],
             [
              0.2222222222222222,
              "#7201a8"
             ],
             [
              0.3333333333333333,
              "#9c179e"
             ],
             [
              0.4444444444444444,
              "#bd3786"
             ],
             [
              0.5555555555555556,
              "#d8576b"
             ],
             [
              0.6666666666666666,
              "#ed7953"
             ],
             [
              0.7777777777777778,
              "#fb9f3a"
             ],
             [
              0.8888888888888888,
              "#fdca26"
             ],
             [
              1,
              "#f0f921"
             ]
            ],
            "type": "heatmap"
           }
          ],
          "heatmapgl": [
           {
            "colorbar": {
             "outlinewidth": 0,
             "ticks": ""
            },
            "colorscale": [
             [
              0,
              "#0d0887"
             ],
             [
              0.1111111111111111,
              "#46039f"
             ],
             [
              0.2222222222222222,
              "#7201a8"
             ],
             [
              0.3333333333333333,
              "#9c179e"
             ],
             [
              0.4444444444444444,
              "#bd3786"
             ],
             [
              0.5555555555555556,
              "#d8576b"
             ],
             [
              0.6666666666666666,
              "#ed7953"
             ],
             [
              0.7777777777777778,
              "#fb9f3a"
             ],
             [
              0.8888888888888888,
              "#fdca26"
             ],
             [
              1,
              "#f0f921"
             ]
            ],
            "type": "heatmapgl"
           }
          ],
          "histogram": [
           {
            "marker": {
             "pattern": {
              "fillmode": "overlay",
              "size": 10,
              "solidity": 0.2
             }
            },
            "type": "histogram"
           }
          ],
          "histogram2d": [
           {
            "colorbar": {
             "outlinewidth": 0,
             "ticks": ""
            },
            "colorscale": [
             [
              0,
              "#0d0887"
             ],
             [
              0.1111111111111111,
              "#46039f"
             ],
             [
              0.2222222222222222,
              "#7201a8"
             ],
             [
              0.3333333333333333,
              "#9c179e"
             ],
             [
              0.4444444444444444,
              "#bd3786"
             ],
             [
              0.5555555555555556,
              "#d8576b"
             ],
             [
              0.6666666666666666,
              "#ed7953"
             ],
             [
              0.7777777777777778,
              "#fb9f3a"
             ],
             [
              0.8888888888888888,
              "#fdca26"
             ],
             [
              1,
              "#f0f921"
             ]
            ],
            "type": "histogram2d"
           }
          ],
          "histogram2dcontour": [
           {
            "colorbar": {
             "outlinewidth": 0,
             "ticks": ""
            },
            "colorscale": [
             [
              0,
              "#0d0887"
             ],
             [
              0.1111111111111111,
              "#46039f"
             ],
             [
              0.2222222222222222,
              "#7201a8"
             ],
             [
              0.3333333333333333,
              "#9c179e"
             ],
             [
              0.4444444444444444,
              "#bd3786"
             ],
             [
              0.5555555555555556,
              "#d8576b"
             ],
             [
              0.6666666666666666,
              "#ed7953"
             ],
             [
              0.7777777777777778,
              "#fb9f3a"
             ],
             [
              0.8888888888888888,
              "#fdca26"
             ],
             [
              1,
              "#f0f921"
             ]
            ],
            "type": "histogram2dcontour"
           }
          ],
          "mesh3d": [
           {
            "colorbar": {
             "outlinewidth": 0,
             "ticks": ""
            },
            "type": "mesh3d"
           }
          ],
          "parcoords": [
           {
            "line": {
             "colorbar": {
              "outlinewidth": 0,
              "ticks": ""
             }
            },
            "type": "parcoords"
           }
          ],
          "pie": [
           {
            "automargin": true,
            "type": "pie"
           }
          ],
          "scatter": [
           {
            "fillpattern": {
             "fillmode": "overlay",
             "size": 10,
             "solidity": 0.2
            },
            "type": "scatter"
           }
          ],
          "scatter3d": [
           {
            "line": {
             "colorbar": {
              "outlinewidth": 0,
              "ticks": ""
             }
            },
            "marker": {
             "colorbar": {
              "outlinewidth": 0,
              "ticks": ""
             }
            },
            "type": "scatter3d"
           }
          ],
          "scattercarpet": [
           {
            "marker": {
             "colorbar": {
              "outlinewidth": 0,
              "ticks": ""
             }
            },
            "type": "scattercarpet"
           }
          ],
          "scattergeo": [
           {
            "marker": {
             "colorbar": {
              "outlinewidth": 0,
              "ticks": ""
             }
            },
            "type": "scattergeo"
           }
          ],
          "scattergl": [
           {
            "marker": {
             "colorbar": {
              "outlinewidth": 0,
              "ticks": ""
             }
            },
            "type": "scattergl"
           }
          ],
          "scattermapbox": [
           {
            "marker": {
             "colorbar": {
              "outlinewidth": 0,
              "ticks": ""
             }
            },
            "type": "scattermapbox"
           }
          ],
          "scatterpolar": [
           {
            "marker": {
             "colorbar": {
              "outlinewidth": 0,
              "ticks": ""
             }
            },
            "type": "scatterpolar"
           }
          ],
          "scatterpolargl": [
           {
            "marker": {
             "colorbar": {
              "outlinewidth": 0,
              "ticks": ""
             }
            },
            "type": "scatterpolargl"
           }
          ],
          "scatterternary": [
           {
            "marker": {
             "colorbar": {
              "outlinewidth": 0,
              "ticks": ""
             }
            },
            "type": "scatterternary"
           }
          ],
          "surface": [
           {
            "colorbar": {
             "outlinewidth": 0,
             "ticks": ""
            },
            "colorscale": [
             [
              0,
              "#0d0887"
             ],
             [
              0.1111111111111111,
              "#46039f"
             ],
             [
              0.2222222222222222,
              "#7201a8"
             ],
             [
              0.3333333333333333,
              "#9c179e"
             ],
             [
              0.4444444444444444,
              "#bd3786"
             ],
             [
              0.5555555555555556,
              "#d8576b"
             ],
             [
              0.6666666666666666,
              "#ed7953"
             ],
             [
              0.7777777777777778,
              "#fb9f3a"
             ],
             [
              0.8888888888888888,
              "#fdca26"
             ],
             [
              1,
              "#f0f921"
             ]
            ],
            "type": "surface"
           }
          ],
          "table": [
           {
            "cells": {
             "fill": {
              "color": "#EBF0F8"
             },
             "line": {
              "color": "white"
             }
            },
            "header": {
             "fill": {
              "color": "#C8D4E3"
             },
             "line": {
              "color": "white"
             }
            },
            "type": "table"
           }
          ]
         },
         "layout": {
          "annotationdefaults": {
           "arrowcolor": "#2a3f5f",
           "arrowhead": 0,
           "arrowwidth": 1
          },
          "autotypenumbers": "strict",
          "coloraxis": {
           "colorbar": {
            "outlinewidth": 0,
            "ticks": ""
           }
          },
          "colorscale": {
           "diverging": [
            [
             0,
             "#8e0152"
            ],
            [
             0.1,
             "#c51b7d"
            ],
            [
             0.2,
             "#de77ae"
            ],
            [
             0.3,
             "#f1b6da"
            ],
            [
             0.4,
             "#fde0ef"
            ],
            [
             0.5,
             "#f7f7f7"
            ],
            [
             0.6,
             "#e6f5d0"
            ],
            [
             0.7,
             "#b8e186"
            ],
            [
             0.8,
             "#7fbc41"
            ],
            [
             0.9,
             "#4d9221"
            ],
            [
             1,
             "#276419"
            ]
           ],
           "sequential": [
            [
             0,
             "#0d0887"
            ],
            [
             0.1111111111111111,
             "#46039f"
            ],
            [
             0.2222222222222222,
             "#7201a8"
            ],
            [
             0.3333333333333333,
             "#9c179e"
            ],
            [
             0.4444444444444444,
             "#bd3786"
            ],
            [
             0.5555555555555556,
             "#d8576b"
            ],
            [
             0.6666666666666666,
             "#ed7953"
            ],
            [
             0.7777777777777778,
             "#fb9f3a"
            ],
            [
             0.8888888888888888,
             "#fdca26"
            ],
            [
             1,
             "#f0f921"
            ]
           ],
           "sequentialminus": [
            [
             0,
             "#0d0887"
            ],
            [
             0.1111111111111111,
             "#46039f"
            ],
            [
             0.2222222222222222,
             "#7201a8"
            ],
            [
             0.3333333333333333,
             "#9c179e"
            ],
            [
             0.4444444444444444,
             "#bd3786"
            ],
            [
             0.5555555555555556,
             "#d8576b"
            ],
            [
             0.6666666666666666,
             "#ed7953"
            ],
            [
             0.7777777777777778,
             "#fb9f3a"
            ],
            [
             0.8888888888888888,
             "#fdca26"
            ],
            [
             1,
             "#f0f921"
            ]
           ]
          },
          "colorway": [
           "#636efa",
           "#EF553B",
           "#00cc96",
           "#ab63fa",
           "#FFA15A",
           "#19d3f3",
           "#FF6692",
           "#B6E880",
           "#FF97FF",
           "#FECB52"
          ],
          "font": {
           "color": "#2a3f5f"
          },
          "geo": {
           "bgcolor": "white",
           "lakecolor": "white",
           "landcolor": "#E5ECF6",
           "showlakes": true,
           "showland": true,
           "subunitcolor": "white"
          },
          "hoverlabel": {
           "align": "left"
          },
          "hovermode": "closest",
          "mapbox": {
           "style": "light"
          },
          "paper_bgcolor": "white",
          "plot_bgcolor": "#E5ECF6",
          "polar": {
           "angularaxis": {
            "gridcolor": "white",
            "linecolor": "white",
            "ticks": ""
           },
           "bgcolor": "#E5ECF6",
           "radialaxis": {
            "gridcolor": "white",
            "linecolor": "white",
            "ticks": ""
           }
          },
          "scene": {
           "xaxis": {
            "backgroundcolor": "#E5ECF6",
            "gridcolor": "white",
            "gridwidth": 2,
            "linecolor": "white",
            "showbackground": true,
            "ticks": "",
            "zerolinecolor": "white"
           },
           "yaxis": {
            "backgroundcolor": "#E5ECF6",
            "gridcolor": "white",
            "gridwidth": 2,
            "linecolor": "white",
            "showbackground": true,
            "ticks": "",
            "zerolinecolor": "white"
           },
           "zaxis": {
            "backgroundcolor": "#E5ECF6",
            "gridcolor": "white",
            "gridwidth": 2,
            "linecolor": "white",
            "showbackground": true,
            "ticks": "",
            "zerolinecolor": "white"
           }
          },
          "shapedefaults": {
           "line": {
            "color": "#2a3f5f"
           }
          },
          "ternary": {
           "aaxis": {
            "gridcolor": "white",
            "linecolor": "white",
            "ticks": ""
           },
           "baxis": {
            "gridcolor": "white",
            "linecolor": "white",
            "ticks": ""
           },
           "bgcolor": "#E5ECF6",
           "caxis": {
            "gridcolor": "white",
            "linecolor": "white",
            "ticks": ""
           }
          },
          "title": {
           "x": 0.05
          },
          "xaxis": {
           "automargin": true,
           "gridcolor": "white",
           "linecolor": "white",
           "ticks": "",
           "title": {
            "standoff": 15
           },
           "zerolinecolor": "white",
           "zerolinewidth": 2
          },
          "yaxis": {
           "automargin": true,
           "gridcolor": "white",
           "linecolor": "white",
           "ticks": "",
           "title": {
            "standoff": 15
           },
           "zerolinecolor": "white",
           "zerolinewidth": 2
          }
         }
        },
        "xaxis": {
         "anchor": "y",
         "domain": [
          0,
          1
         ],
         "title": {
          "text": "Conocidos"
         }
        },
        "yaxis": {
         "anchor": "x",
         "domain": [
          0,
          1
         ],
         "title": {
          "text": "value"
         }
        }
       }
      }
     },
     "metadata": {},
     "output_type": "display_data"
    }
   ],
   "source": [
    "#Grafico el comportamiento de la métrica a medida que incremento los aciertos. Tambien muestro lor resultados de otras metricas como Accuracy y Balanced Accuracy\n",
    "px.line(kappa_progression,x='Conocidos',y=['kappa',\n",
    "                                           'kappa_cerca',\n",
    "                                           'kappa_lejos',\n",
    "                                           'accuracy',\n",
    "                                           'balanced_accuracy'])"
   ]
  },
  {
   "cell_type": "code",
   "execution_count": 21,
   "metadata": {},
   "outputs": [
    {
     "data": {
      "application/vnd.plotly.v1+json": {
       "config": {
        "plotlyServerURL": "https://plot.ly"
       },
       "data": [
        {
         "type": "heatmap",
         "x": [
          0,
          1,
          2,
          3,
          4
         ],
         "y": [
          0,
          1,
          2,
          3,
          4
         ],
         "z": [
          [
           53.65853658536586,
           46.34146341463415,
           0,
           0,
           0
          ],
          [
           0,
           51.29449838187702,
           48.70550161812297,
           0,
           0
          ],
          [
           0,
           0,
           49.566294919454776,
           50.43370508054523,
           0
          ],
          [
           0,
           0,
           0,
           49.84662576687116,
           50.15337423312884
          ],
          [
           0,
           0,
           0,
           48.92857142857142,
           51.07142857142857
          ]
         ]
        }
       ],
       "layout": {
        "annotations": [
         {
          "font": {
           "color": "white"
          },
          "showarrow": false,
          "text": "53.7 - 44",
          "x": 0,
          "xref": "x",
          "y": 0,
          "yref": "y"
         },
         {
          "font": {
           "color": "white"
          },
          "showarrow": false,
          "text": "46.3 - 38",
          "x": 1,
          "xref": "x",
          "y": 0,
          "yref": "y"
         },
         {
          "font": {
           "color": "white"
          },
          "showarrow": false,
          "text": "0.0 - 0",
          "x": 2,
          "xref": "x",
          "y": 0,
          "yref": "y"
         },
         {
          "font": {
           "color": "white"
          },
          "showarrow": false,
          "text": "0.0 - 0",
          "x": 3,
          "xref": "x",
          "y": 0,
          "yref": "y"
         },
         {
          "font": {
           "color": "white"
          },
          "showarrow": false,
          "text": "0.0 - 0",
          "x": 4,
          "xref": "x",
          "y": 0,
          "yref": "y"
         },
         {
          "font": {
           "color": "white"
          },
          "showarrow": false,
          "text": "0.0 - 0",
          "x": 0,
          "xref": "x",
          "y": 1,
          "yref": "y"
         },
         {
          "font": {
           "color": "white"
          },
          "showarrow": false,
          "text": "51.3 - 317",
          "x": 1,
          "xref": "x",
          "y": 1,
          "yref": "y"
         },
         {
          "font": {
           "color": "white"
          },
          "showarrow": false,
          "text": "48.7 - 301",
          "x": 2,
          "xref": "x",
          "y": 1,
          "yref": "y"
         },
         {
          "font": {
           "color": "white"
          },
          "showarrow": false,
          "text": "0.0 - 0",
          "x": 3,
          "xref": "x",
          "y": 1,
          "yref": "y"
         },
         {
          "font": {
           "color": "white"
          },
          "showarrow": false,
          "text": "0.0 - 0",
          "x": 4,
          "xref": "x",
          "y": 1,
          "yref": "y"
         },
         {
          "font": {
           "color": "white"
          },
          "showarrow": false,
          "text": "0.0 - 0",
          "x": 0,
          "xref": "x",
          "y": 2,
          "yref": "y"
         },
         {
          "font": {
           "color": "white"
          },
          "showarrow": false,
          "text": "0.0 - 0",
          "x": 1,
          "xref": "x",
          "y": 2,
          "yref": "y"
         },
         {
          "font": {
           "color": "white"
          },
          "showarrow": false,
          "text": "49.6 - 400",
          "x": 2,
          "xref": "x",
          "y": 2,
          "yref": "y"
         },
         {
          "font": {
           "color": "white"
          },
          "showarrow": false,
          "text": "50.4 - 407",
          "x": 3,
          "xref": "x",
          "y": 2,
          "yref": "y"
         },
         {
          "font": {
           "color": "white"
          },
          "showarrow": false,
          "text": "0.0 - 0",
          "x": 4,
          "xref": "x",
          "y": 2,
          "yref": "y"
         },
         {
          "font": {
           "color": "white"
          },
          "showarrow": false,
          "text": "0.0 - 0",
          "x": 0,
          "xref": "x",
          "y": 3,
          "yref": "y"
         },
         {
          "font": {
           "color": "white"
          },
          "showarrow": false,
          "text": "0.0 - 0",
          "x": 1,
          "xref": "x",
          "y": 3,
          "yref": "y"
         },
         {
          "font": {
           "color": "white"
          },
          "showarrow": false,
          "text": "0.0 - 0",
          "x": 2,
          "xref": "x",
          "y": 3,
          "yref": "y"
         },
         {
          "font": {
           "color": "white"
          },
          "showarrow": false,
          "text": "49.8 - 325",
          "x": 3,
          "xref": "x",
          "y": 3,
          "yref": "y"
         },
         {
          "font": {
           "color": "white"
          },
          "showarrow": false,
          "text": "50.2 - 327",
          "x": 4,
          "xref": "x",
          "y": 3,
          "yref": "y"
         },
         {
          "font": {
           "color": "white"
          },
          "showarrow": false,
          "text": "0.0 - 0",
          "x": 0,
          "xref": "x",
          "y": 4,
          "yref": "y"
         },
         {
          "font": {
           "color": "white"
          },
          "showarrow": false,
          "text": "0.0 - 0",
          "x": 1,
          "xref": "x",
          "y": 4,
          "yref": "y"
         },
         {
          "font": {
           "color": "white"
          },
          "showarrow": false,
          "text": "0.0 - 0",
          "x": 2,
          "xref": "x",
          "y": 4,
          "yref": "y"
         },
         {
          "font": {
           "color": "white"
          },
          "showarrow": false,
          "text": "48.9 - 411",
          "x": 3,
          "xref": "x",
          "y": 4,
          "yref": "y"
         },
         {
          "font": {
           "color": "white"
          },
          "showarrow": false,
          "text": "51.1 - 429",
          "x": 4,
          "xref": "x",
          "y": 4,
          "yref": "y"
         }
        ],
        "height": 800,
        "template": {
         "data": {
          "bar": [
           {
            "error_x": {
             "color": "#2a3f5f"
            },
            "error_y": {
             "color": "#2a3f5f"
            },
            "marker": {
             "line": {
              "color": "#E5ECF6",
              "width": 0.5
             },
             "pattern": {
              "fillmode": "overlay",
              "size": 10,
              "solidity": 0.2
             }
            },
            "type": "bar"
           }
          ],
          "barpolar": [
           {
            "marker": {
             "line": {
              "color": "#E5ECF6",
              "width": 0.5
             },
             "pattern": {
              "fillmode": "overlay",
              "size": 10,
              "solidity": 0.2
             }
            },
            "type": "barpolar"
           }
          ],
          "carpet": [
           {
            "aaxis": {
             "endlinecolor": "#2a3f5f",
             "gridcolor": "white",
             "linecolor": "white",
             "minorgridcolor": "white",
             "startlinecolor": "#2a3f5f"
            },
            "baxis": {
             "endlinecolor": "#2a3f5f",
             "gridcolor": "white",
             "linecolor": "white",
             "minorgridcolor": "white",
             "startlinecolor": "#2a3f5f"
            },
            "type": "carpet"
           }
          ],
          "choropleth": [
           {
            "colorbar": {
             "outlinewidth": 0,
             "ticks": ""
            },
            "type": "choropleth"
           }
          ],
          "contour": [
           {
            "colorbar": {
             "outlinewidth": 0,
             "ticks": ""
            },
            "colorscale": [
             [
              0,
              "#0d0887"
             ],
             [
              0.1111111111111111,
              "#46039f"
             ],
             [
              0.2222222222222222,
              "#7201a8"
             ],
             [
              0.3333333333333333,
              "#9c179e"
             ],
             [
              0.4444444444444444,
              "#bd3786"
             ],
             [
              0.5555555555555556,
              "#d8576b"
             ],
             [
              0.6666666666666666,
              "#ed7953"
             ],
             [
              0.7777777777777778,
              "#fb9f3a"
             ],
             [
              0.8888888888888888,
              "#fdca26"
             ],
             [
              1,
              "#f0f921"
             ]
            ],
            "type": "contour"
           }
          ],
          "contourcarpet": [
           {
            "colorbar": {
             "outlinewidth": 0,
             "ticks": ""
            },
            "type": "contourcarpet"
           }
          ],
          "heatmap": [
           {
            "colorbar": {
             "outlinewidth": 0,
             "ticks": ""
            },
            "colorscale": [
             [
              0,
              "#0d0887"
             ],
             [
              0.1111111111111111,
              "#46039f"
             ],
             [
              0.2222222222222222,
              "#7201a8"
             ],
             [
              0.3333333333333333,
              "#9c179e"
             ],
             [
              0.4444444444444444,
              "#bd3786"
             ],
             [
              0.5555555555555556,
              "#d8576b"
             ],
             [
              0.6666666666666666,
              "#ed7953"
             ],
             [
              0.7777777777777778,
              "#fb9f3a"
             ],
             [
              0.8888888888888888,
              "#fdca26"
             ],
             [
              1,
              "#f0f921"
             ]
            ],
            "type": "heatmap"
           }
          ],
          "heatmapgl": [
           {
            "colorbar": {
             "outlinewidth": 0,
             "ticks": ""
            },
            "colorscale": [
             [
              0,
              "#0d0887"
             ],
             [
              0.1111111111111111,
              "#46039f"
             ],
             [
              0.2222222222222222,
              "#7201a8"
             ],
             [
              0.3333333333333333,
              "#9c179e"
             ],
             [
              0.4444444444444444,
              "#bd3786"
             ],
             [
              0.5555555555555556,
              "#d8576b"
             ],
             [
              0.6666666666666666,
              "#ed7953"
             ],
             [
              0.7777777777777778,
              "#fb9f3a"
             ],
             [
              0.8888888888888888,
              "#fdca26"
             ],
             [
              1,
              "#f0f921"
             ]
            ],
            "type": "heatmapgl"
           }
          ],
          "histogram": [
           {
            "marker": {
             "pattern": {
              "fillmode": "overlay",
              "size": 10,
              "solidity": 0.2
             }
            },
            "type": "histogram"
           }
          ],
          "histogram2d": [
           {
            "colorbar": {
             "outlinewidth": 0,
             "ticks": ""
            },
            "colorscale": [
             [
              0,
              "#0d0887"
             ],
             [
              0.1111111111111111,
              "#46039f"
             ],
             [
              0.2222222222222222,
              "#7201a8"
             ],
             [
              0.3333333333333333,
              "#9c179e"
             ],
             [
              0.4444444444444444,
              "#bd3786"
             ],
             [
              0.5555555555555556,
              "#d8576b"
             ],
             [
              0.6666666666666666,
              "#ed7953"
             ],
             [
              0.7777777777777778,
              "#fb9f3a"
             ],
             [
              0.8888888888888888,
              "#fdca26"
             ],
             [
              1,
              "#f0f921"
             ]
            ],
            "type": "histogram2d"
           }
          ],
          "histogram2dcontour": [
           {
            "colorbar": {
             "outlinewidth": 0,
             "ticks": ""
            },
            "colorscale": [
             [
              0,
              "#0d0887"
             ],
             [
              0.1111111111111111,
              "#46039f"
             ],
             [
              0.2222222222222222,
              "#7201a8"
             ],
             [
              0.3333333333333333,
              "#9c179e"
             ],
             [
              0.4444444444444444,
              "#bd3786"
             ],
             [
              0.5555555555555556,
              "#d8576b"
             ],
             [
              0.6666666666666666,
              "#ed7953"
             ],
             [
              0.7777777777777778,
              "#fb9f3a"
             ],
             [
              0.8888888888888888,
              "#fdca26"
             ],
             [
              1,
              "#f0f921"
             ]
            ],
            "type": "histogram2dcontour"
           }
          ],
          "mesh3d": [
           {
            "colorbar": {
             "outlinewidth": 0,
             "ticks": ""
            },
            "type": "mesh3d"
           }
          ],
          "parcoords": [
           {
            "line": {
             "colorbar": {
              "outlinewidth": 0,
              "ticks": ""
             }
            },
            "type": "parcoords"
           }
          ],
          "pie": [
           {
            "automargin": true,
            "type": "pie"
           }
          ],
          "scatter": [
           {
            "fillpattern": {
             "fillmode": "overlay",
             "size": 10,
             "solidity": 0.2
            },
            "type": "scatter"
           }
          ],
          "scatter3d": [
           {
            "line": {
             "colorbar": {
              "outlinewidth": 0,
              "ticks": ""
             }
            },
            "marker": {
             "colorbar": {
              "outlinewidth": 0,
              "ticks": ""
             }
            },
            "type": "scatter3d"
           }
          ],
          "scattercarpet": [
           {
            "marker": {
             "colorbar": {
              "outlinewidth": 0,
              "ticks": ""
             }
            },
            "type": "scattercarpet"
           }
          ],
          "scattergeo": [
           {
            "marker": {
             "colorbar": {
              "outlinewidth": 0,
              "ticks": ""
             }
            },
            "type": "scattergeo"
           }
          ],
          "scattergl": [
           {
            "marker": {
             "colorbar": {
              "outlinewidth": 0,
              "ticks": ""
             }
            },
            "type": "scattergl"
           }
          ],
          "scattermapbox": [
           {
            "marker": {
             "colorbar": {
              "outlinewidth": 0,
              "ticks": ""
             }
            },
            "type": "scattermapbox"
           }
          ],
          "scatterpolar": [
           {
            "marker": {
             "colorbar": {
              "outlinewidth": 0,
              "ticks": ""
             }
            },
            "type": "scatterpolar"
           }
          ],
          "scatterpolargl": [
           {
            "marker": {
             "colorbar": {
              "outlinewidth": 0,
              "ticks": ""
             }
            },
            "type": "scatterpolargl"
           }
          ],
          "scatterternary": [
           {
            "marker": {
             "colorbar": {
              "outlinewidth": 0,
              "ticks": ""
             }
            },
            "type": "scatterternary"
           }
          ],
          "surface": [
           {
            "colorbar": {
             "outlinewidth": 0,
             "ticks": ""
            },
            "colorscale": [
             [
              0,
              "#0d0887"
             ],
             [
              0.1111111111111111,
              "#46039f"
             ],
             [
              0.2222222222222222,
              "#7201a8"
             ],
             [
              0.3333333333333333,
              "#9c179e"
             ],
             [
              0.4444444444444444,
              "#bd3786"
             ],
             [
              0.5555555555555556,
              "#d8576b"
             ],
             [
              0.6666666666666666,
              "#ed7953"
             ],
             [
              0.7777777777777778,
              "#fb9f3a"
             ],
             [
              0.8888888888888888,
              "#fdca26"
             ],
             [
              1,
              "#f0f921"
             ]
            ],
            "type": "surface"
           }
          ],
          "table": [
           {
            "cells": {
             "fill": {
              "color": "#EBF0F8"
             },
             "line": {
              "color": "white"
             }
            },
            "header": {
             "fill": {
              "color": "#C8D4E3"
             },
             "line": {
              "color": "white"
             }
            },
            "type": "table"
           }
          ]
         },
         "layout": {
          "annotationdefaults": {
           "arrowcolor": "#2a3f5f",
           "arrowhead": 0,
           "arrowwidth": 1
          },
          "autotypenumbers": "strict",
          "coloraxis": {
           "colorbar": {
            "outlinewidth": 0,
            "ticks": ""
           }
          },
          "colorscale": {
           "diverging": [
            [
             0,
             "#8e0152"
            ],
            [
             0.1,
             "#c51b7d"
            ],
            [
             0.2,
             "#de77ae"
            ],
            [
             0.3,
             "#f1b6da"
            ],
            [
             0.4,
             "#fde0ef"
            ],
            [
             0.5,
             "#f7f7f7"
            ],
            [
             0.6,
             "#e6f5d0"
            ],
            [
             0.7,
             "#b8e186"
            ],
            [
             0.8,
             "#7fbc41"
            ],
            [
             0.9,
             "#4d9221"
            ],
            [
             1,
             "#276419"
            ]
           ],
           "sequential": [
            [
             0,
             "#0d0887"
            ],
            [
             0.1111111111111111,
             "#46039f"
            ],
            [
             0.2222222222222222,
             "#7201a8"
            ],
            [
             0.3333333333333333,
             "#9c179e"
            ],
            [
             0.4444444444444444,
             "#bd3786"
            ],
            [
             0.5555555555555556,
             "#d8576b"
            ],
            [
             0.6666666666666666,
             "#ed7953"
            ],
            [
             0.7777777777777778,
             "#fb9f3a"
            ],
            [
             0.8888888888888888,
             "#fdca26"
            ],
            [
             1,
             "#f0f921"
            ]
           ],
           "sequentialminus": [
            [
             0,
             "#0d0887"
            ],
            [
             0.1111111111111111,
             "#46039f"
            ],
            [
             0.2222222222222222,
             "#7201a8"
            ],
            [
             0.3333333333333333,
             "#9c179e"
            ],
            [
             0.4444444444444444,
             "#bd3786"
            ],
            [
             0.5555555555555556,
             "#d8576b"
            ],
            [
             0.6666666666666666,
             "#ed7953"
            ],
            [
             0.7777777777777778,
             "#fb9f3a"
            ],
            [
             0.8888888888888888,
             "#fdca26"
            ],
            [
             1,
             "#f0f921"
            ]
           ]
          },
          "colorway": [
           "#636efa",
           "#EF553B",
           "#00cc96",
           "#ab63fa",
           "#FFA15A",
           "#19d3f3",
           "#FF6692",
           "#B6E880",
           "#FF97FF",
           "#FECB52"
          ],
          "font": {
           "color": "#2a3f5f"
          },
          "geo": {
           "bgcolor": "white",
           "lakecolor": "white",
           "landcolor": "#E5ECF6",
           "showlakes": true,
           "showland": true,
           "subunitcolor": "white"
          },
          "hoverlabel": {
           "align": "left"
          },
          "hovermode": "closest",
          "mapbox": {
           "style": "light"
          },
          "paper_bgcolor": "white",
          "plot_bgcolor": "#E5ECF6",
          "polar": {
           "angularaxis": {
            "gridcolor": "white",
            "linecolor": "white",
            "ticks": ""
           },
           "bgcolor": "#E5ECF6",
           "radialaxis": {
            "gridcolor": "white",
            "linecolor": "white",
            "ticks": ""
           }
          },
          "scene": {
           "xaxis": {
            "backgroundcolor": "#E5ECF6",
            "gridcolor": "white",
            "gridwidth": 2,
            "linecolor": "white",
            "showbackground": true,
            "ticks": "",
            "zerolinecolor": "white"
           },
           "yaxis": {
            "backgroundcolor": "#E5ECF6",
            "gridcolor": "white",
            "gridwidth": 2,
            "linecolor": "white",
            "showbackground": true,
            "ticks": "",
            "zerolinecolor": "white"
           },
           "zaxis": {
            "backgroundcolor": "#E5ECF6",
            "gridcolor": "white",
            "gridwidth": 2,
            "linecolor": "white",
            "showbackground": true,
            "ticks": "",
            "zerolinecolor": "white"
           }
          },
          "shapedefaults": {
           "line": {
            "color": "#2a3f5f"
           }
          },
          "ternary": {
           "aaxis": {
            "gridcolor": "white",
            "linecolor": "white",
            "ticks": ""
           },
           "baxis": {
            "gridcolor": "white",
            "linecolor": "white",
            "ticks": ""
           },
           "bgcolor": "#E5ECF6",
           "caxis": {
            "gridcolor": "white",
            "linecolor": "white",
            "ticks": ""
           }
          },
          "title": {
           "x": 0.05
          },
          "xaxis": {
           "automargin": true,
           "gridcolor": "white",
           "linecolor": "white",
           "ticks": "",
           "title": {
            "standoff": 15
           },
           "zerolinecolor": "white",
           "zerolinewidth": 2
          },
          "yaxis": {
           "automargin": true,
           "gridcolor": "white",
           "linecolor": "white",
           "ticks": "",
           "title": {
            "standoff": 15
           },
           "zerolinecolor": "white",
           "zerolinewidth": 2
          }
         }
        },
        "title": {
         "text": "Kappa 0.7986296093994049"
        },
        "width": 800,
        "xaxis": {
         "title": {
          "text": "Predicted value"
         }
        },
        "yaxis": {
         "title": {
          "text": "Real value"
         }
        }
       }
      }
     },
     "metadata": {},
     "output_type": "display_data"
    }
   ],
   "source": [
    "\n",
    "#A modo de ejemplo muestro kappa y matriz de confusion para 50% de aciertos donde los errores quedan cerca de la clase correcta\n",
    "y_simulado_cerca = [y_test.iloc[sample] if random_list[sample]<50/100 else y_cerca[sample] for sample in range(len(y_test))]\n",
    "\n",
    "display(plot_confusion_matrix(y_test,y_simulado_cerca, \n",
    "                              title = \"Kappa \" + str(cohen_kappa_score(y_test,y_simulado_cerca, weights = 'quadratic'))))\n",
    "\n"
   ]
  },
  {
   "cell_type": "code",
   "execution_count": 22,
   "metadata": {},
   "outputs": [
    {
     "data": {
      "application/vnd.plotly.v1+json": {
       "config": {
        "plotlyServerURL": "https://plot.ly"
       },
       "data": [
        {
         "type": "heatmap",
         "x": [
          0,
          1,
          2,
          3,
          4
         ],
         "y": [
          0,
          1,
          2,
          3,
          4
         ],
         "z": [
          [
           53.65853658536586,
           0,
           0,
           0,
           46.34146341463415
          ],
          [
           0,
           51.29449838187702,
           0,
           0,
           48.70550161812297
          ],
          [
           50.43370508054523,
           0,
           49.566294919454776,
           0,
           0
          ],
          [
           50.15337423312884,
           0,
           0,
           49.84662576687116,
           0
          ],
          [
           48.92857142857142,
           0,
           0,
           0,
           51.07142857142857
          ]
         ]
        }
       ],
       "layout": {
        "annotations": [
         {
          "font": {
           "color": "white"
          },
          "showarrow": false,
          "text": "53.7 - 44",
          "x": 0,
          "xref": "x",
          "y": 0,
          "yref": "y"
         },
         {
          "font": {
           "color": "white"
          },
          "showarrow": false,
          "text": "0.0 - 0",
          "x": 1,
          "xref": "x",
          "y": 0,
          "yref": "y"
         },
         {
          "font": {
           "color": "white"
          },
          "showarrow": false,
          "text": "0.0 - 0",
          "x": 2,
          "xref": "x",
          "y": 0,
          "yref": "y"
         },
         {
          "font": {
           "color": "white"
          },
          "showarrow": false,
          "text": "0.0 - 0",
          "x": 3,
          "xref": "x",
          "y": 0,
          "yref": "y"
         },
         {
          "font": {
           "color": "white"
          },
          "showarrow": false,
          "text": "46.3 - 38",
          "x": 4,
          "xref": "x",
          "y": 0,
          "yref": "y"
         },
         {
          "font": {
           "color": "white"
          },
          "showarrow": false,
          "text": "0.0 - 0",
          "x": 0,
          "xref": "x",
          "y": 1,
          "yref": "y"
         },
         {
          "font": {
           "color": "white"
          },
          "showarrow": false,
          "text": "51.3 - 317",
          "x": 1,
          "xref": "x",
          "y": 1,
          "yref": "y"
         },
         {
          "font": {
           "color": "white"
          },
          "showarrow": false,
          "text": "0.0 - 0",
          "x": 2,
          "xref": "x",
          "y": 1,
          "yref": "y"
         },
         {
          "font": {
           "color": "white"
          },
          "showarrow": false,
          "text": "0.0 - 0",
          "x": 3,
          "xref": "x",
          "y": 1,
          "yref": "y"
         },
         {
          "font": {
           "color": "white"
          },
          "showarrow": false,
          "text": "48.7 - 301",
          "x": 4,
          "xref": "x",
          "y": 1,
          "yref": "y"
         },
         {
          "font": {
           "color": "white"
          },
          "showarrow": false,
          "text": "50.4 - 407",
          "x": 0,
          "xref": "x",
          "y": 2,
          "yref": "y"
         },
         {
          "font": {
           "color": "white"
          },
          "showarrow": false,
          "text": "0.0 - 0",
          "x": 1,
          "xref": "x",
          "y": 2,
          "yref": "y"
         },
         {
          "font": {
           "color": "white"
          },
          "showarrow": false,
          "text": "49.6 - 400",
          "x": 2,
          "xref": "x",
          "y": 2,
          "yref": "y"
         },
         {
          "font": {
           "color": "white"
          },
          "showarrow": false,
          "text": "0.0 - 0",
          "x": 3,
          "xref": "x",
          "y": 2,
          "yref": "y"
         },
         {
          "font": {
           "color": "white"
          },
          "showarrow": false,
          "text": "0.0 - 0",
          "x": 4,
          "xref": "x",
          "y": 2,
          "yref": "y"
         },
         {
          "font": {
           "color": "white"
          },
          "showarrow": false,
          "text": "50.2 - 327",
          "x": 0,
          "xref": "x",
          "y": 3,
          "yref": "y"
         },
         {
          "font": {
           "color": "white"
          },
          "showarrow": false,
          "text": "0.0 - 0",
          "x": 1,
          "xref": "x",
          "y": 3,
          "yref": "y"
         },
         {
          "font": {
           "color": "white"
          },
          "showarrow": false,
          "text": "0.0 - 0",
          "x": 2,
          "xref": "x",
          "y": 3,
          "yref": "y"
         },
         {
          "font": {
           "color": "white"
          },
          "showarrow": false,
          "text": "49.8 - 325",
          "x": 3,
          "xref": "x",
          "y": 3,
          "yref": "y"
         },
         {
          "font": {
           "color": "white"
          },
          "showarrow": false,
          "text": "0.0 - 0",
          "x": 4,
          "xref": "x",
          "y": 3,
          "yref": "y"
         },
         {
          "font": {
           "color": "white"
          },
          "showarrow": false,
          "text": "48.9 - 411",
          "x": 0,
          "xref": "x",
          "y": 4,
          "yref": "y"
         },
         {
          "font": {
           "color": "white"
          },
          "showarrow": false,
          "text": "0.0 - 0",
          "x": 1,
          "xref": "x",
          "y": 4,
          "yref": "y"
         },
         {
          "font": {
           "color": "white"
          },
          "showarrow": false,
          "text": "0.0 - 0",
          "x": 2,
          "xref": "x",
          "y": 4,
          "yref": "y"
         },
         {
          "font": {
           "color": "white"
          },
          "showarrow": false,
          "text": "0.0 - 0",
          "x": 3,
          "xref": "x",
          "y": 4,
          "yref": "y"
         },
         {
          "font": {
           "color": "white"
          },
          "showarrow": false,
          "text": "51.1 - 429",
          "x": 4,
          "xref": "x",
          "y": 4,
          "yref": "y"
         }
        ],
        "height": 800,
        "template": {
         "data": {
          "bar": [
           {
            "error_x": {
             "color": "#2a3f5f"
            },
            "error_y": {
             "color": "#2a3f5f"
            },
            "marker": {
             "line": {
              "color": "#E5ECF6",
              "width": 0.5
             },
             "pattern": {
              "fillmode": "overlay",
              "size": 10,
              "solidity": 0.2
             }
            },
            "type": "bar"
           }
          ],
          "barpolar": [
           {
            "marker": {
             "line": {
              "color": "#E5ECF6",
              "width": 0.5
             },
             "pattern": {
              "fillmode": "overlay",
              "size": 10,
              "solidity": 0.2
             }
            },
            "type": "barpolar"
           }
          ],
          "carpet": [
           {
            "aaxis": {
             "endlinecolor": "#2a3f5f",
             "gridcolor": "white",
             "linecolor": "white",
             "minorgridcolor": "white",
             "startlinecolor": "#2a3f5f"
            },
            "baxis": {
             "endlinecolor": "#2a3f5f",
             "gridcolor": "white",
             "linecolor": "white",
             "minorgridcolor": "white",
             "startlinecolor": "#2a3f5f"
            },
            "type": "carpet"
           }
          ],
          "choropleth": [
           {
            "colorbar": {
             "outlinewidth": 0,
             "ticks": ""
            },
            "type": "choropleth"
           }
          ],
          "contour": [
           {
            "colorbar": {
             "outlinewidth": 0,
             "ticks": ""
            },
            "colorscale": [
             [
              0,
              "#0d0887"
             ],
             [
              0.1111111111111111,
              "#46039f"
             ],
             [
              0.2222222222222222,
              "#7201a8"
             ],
             [
              0.3333333333333333,
              "#9c179e"
             ],
             [
              0.4444444444444444,
              "#bd3786"
             ],
             [
              0.5555555555555556,
              "#d8576b"
             ],
             [
              0.6666666666666666,
              "#ed7953"
             ],
             [
              0.7777777777777778,
              "#fb9f3a"
             ],
             [
              0.8888888888888888,
              "#fdca26"
             ],
             [
              1,
              "#f0f921"
             ]
            ],
            "type": "contour"
           }
          ],
          "contourcarpet": [
           {
            "colorbar": {
             "outlinewidth": 0,
             "ticks": ""
            },
            "type": "contourcarpet"
           }
          ],
          "heatmap": [
           {
            "colorbar": {
             "outlinewidth": 0,
             "ticks": ""
            },
            "colorscale": [
             [
              0,
              "#0d0887"
             ],
             [
              0.1111111111111111,
              "#46039f"
             ],
             [
              0.2222222222222222,
              "#7201a8"
             ],
             [
              0.3333333333333333,
              "#9c179e"
             ],
             [
              0.4444444444444444,
              "#bd3786"
             ],
             [
              0.5555555555555556,
              "#d8576b"
             ],
             [
              0.6666666666666666,
              "#ed7953"
             ],
             [
              0.7777777777777778,
              "#fb9f3a"
             ],
             [
              0.8888888888888888,
              "#fdca26"
             ],
             [
              1,
              "#f0f921"
             ]
            ],
            "type": "heatmap"
           }
          ],
          "heatmapgl": [
           {
            "colorbar": {
             "outlinewidth": 0,
             "ticks": ""
            },
            "colorscale": [
             [
              0,
              "#0d0887"
             ],
             [
              0.1111111111111111,
              "#46039f"
             ],
             [
              0.2222222222222222,
              "#7201a8"
             ],
             [
              0.3333333333333333,
              "#9c179e"
             ],
             [
              0.4444444444444444,
              "#bd3786"
             ],
             [
              0.5555555555555556,
              "#d8576b"
             ],
             [
              0.6666666666666666,
              "#ed7953"
             ],
             [
              0.7777777777777778,
              "#fb9f3a"
             ],
             [
              0.8888888888888888,
              "#fdca26"
             ],
             [
              1,
              "#f0f921"
             ]
            ],
            "type": "heatmapgl"
           }
          ],
          "histogram": [
           {
            "marker": {
             "pattern": {
              "fillmode": "overlay",
              "size": 10,
              "solidity": 0.2
             }
            },
            "type": "histogram"
           }
          ],
          "histogram2d": [
           {
            "colorbar": {
             "outlinewidth": 0,
             "ticks": ""
            },
            "colorscale": [
             [
              0,
              "#0d0887"
             ],
             [
              0.1111111111111111,
              "#46039f"
             ],
             [
              0.2222222222222222,
              "#7201a8"
             ],
             [
              0.3333333333333333,
              "#9c179e"
             ],
             [
              0.4444444444444444,
              "#bd3786"
             ],
             [
              0.5555555555555556,
              "#d8576b"
             ],
             [
              0.6666666666666666,
              "#ed7953"
             ],
             [
              0.7777777777777778,
              "#fb9f3a"
             ],
             [
              0.8888888888888888,
              "#fdca26"
             ],
             [
              1,
              "#f0f921"
             ]
            ],
            "type": "histogram2d"
           }
          ],
          "histogram2dcontour": [
           {
            "colorbar": {
             "outlinewidth": 0,
             "ticks": ""
            },
            "colorscale": [
             [
              0,
              "#0d0887"
             ],
             [
              0.1111111111111111,
              "#46039f"
             ],
             [
              0.2222222222222222,
              "#7201a8"
             ],
             [
              0.3333333333333333,
              "#9c179e"
             ],
             [
              0.4444444444444444,
              "#bd3786"
             ],
             [
              0.5555555555555556,
              "#d8576b"
             ],
             [
              0.6666666666666666,
              "#ed7953"
             ],
             [
              0.7777777777777778,
              "#fb9f3a"
             ],
             [
              0.8888888888888888,
              "#fdca26"
             ],
             [
              1,
              "#f0f921"
             ]
            ],
            "type": "histogram2dcontour"
           }
          ],
          "mesh3d": [
           {
            "colorbar": {
             "outlinewidth": 0,
             "ticks": ""
            },
            "type": "mesh3d"
           }
          ],
          "parcoords": [
           {
            "line": {
             "colorbar": {
              "outlinewidth": 0,
              "ticks": ""
             }
            },
            "type": "parcoords"
           }
          ],
          "pie": [
           {
            "automargin": true,
            "type": "pie"
           }
          ],
          "scatter": [
           {
            "fillpattern": {
             "fillmode": "overlay",
             "size": 10,
             "solidity": 0.2
            },
            "type": "scatter"
           }
          ],
          "scatter3d": [
           {
            "line": {
             "colorbar": {
              "outlinewidth": 0,
              "ticks": ""
             }
            },
            "marker": {
             "colorbar": {
              "outlinewidth": 0,
              "ticks": ""
             }
            },
            "type": "scatter3d"
           }
          ],
          "scattercarpet": [
           {
            "marker": {
             "colorbar": {
              "outlinewidth": 0,
              "ticks": ""
             }
            },
            "type": "scattercarpet"
           }
          ],
          "scattergeo": [
           {
            "marker": {
             "colorbar": {
              "outlinewidth": 0,
              "ticks": ""
             }
            },
            "type": "scattergeo"
           }
          ],
          "scattergl": [
           {
            "marker": {
             "colorbar": {
              "outlinewidth": 0,
              "ticks": ""
             }
            },
            "type": "scattergl"
           }
          ],
          "scattermapbox": [
           {
            "marker": {
             "colorbar": {
              "outlinewidth": 0,
              "ticks": ""
             }
            },
            "type": "scattermapbox"
           }
          ],
          "scatterpolar": [
           {
            "marker": {
             "colorbar": {
              "outlinewidth": 0,
              "ticks": ""
             }
            },
            "type": "scatterpolar"
           }
          ],
          "scatterpolargl": [
           {
            "marker": {
             "colorbar": {
              "outlinewidth": 0,
              "ticks": ""
             }
            },
            "type": "scatterpolargl"
           }
          ],
          "scatterternary": [
           {
            "marker": {
             "colorbar": {
              "outlinewidth": 0,
              "ticks": ""
             }
            },
            "type": "scatterternary"
           }
          ],
          "surface": [
           {
            "colorbar": {
             "outlinewidth": 0,
             "ticks": ""
            },
            "colorscale": [
             [
              0,
              "#0d0887"
             ],
             [
              0.1111111111111111,
              "#46039f"
             ],
             [
              0.2222222222222222,
              "#7201a8"
             ],
             [
              0.3333333333333333,
              "#9c179e"
             ],
             [
              0.4444444444444444,
              "#bd3786"
             ],
             [
              0.5555555555555556,
              "#d8576b"
             ],
             [
              0.6666666666666666,
              "#ed7953"
             ],
             [
              0.7777777777777778,
              "#fb9f3a"
             ],
             [
              0.8888888888888888,
              "#fdca26"
             ],
             [
              1,
              "#f0f921"
             ]
            ],
            "type": "surface"
           }
          ],
          "table": [
           {
            "cells": {
             "fill": {
              "color": "#EBF0F8"
             },
             "line": {
              "color": "white"
             }
            },
            "header": {
             "fill": {
              "color": "#C8D4E3"
             },
             "line": {
              "color": "white"
             }
            },
            "type": "table"
           }
          ]
         },
         "layout": {
          "annotationdefaults": {
           "arrowcolor": "#2a3f5f",
           "arrowhead": 0,
           "arrowwidth": 1
          },
          "autotypenumbers": "strict",
          "coloraxis": {
           "colorbar": {
            "outlinewidth": 0,
            "ticks": ""
           }
          },
          "colorscale": {
           "diverging": [
            [
             0,
             "#8e0152"
            ],
            [
             0.1,
             "#c51b7d"
            ],
            [
             0.2,
             "#de77ae"
            ],
            [
             0.3,
             "#f1b6da"
            ],
            [
             0.4,
             "#fde0ef"
            ],
            [
             0.5,
             "#f7f7f7"
            ],
            [
             0.6,
             "#e6f5d0"
            ],
            [
             0.7,
             "#b8e186"
            ],
            [
             0.8,
             "#7fbc41"
            ],
            [
             0.9,
             "#4d9221"
            ],
            [
             1,
             "#276419"
            ]
           ],
           "sequential": [
            [
             0,
             "#0d0887"
            ],
            [
             0.1111111111111111,
             "#46039f"
            ],
            [
             0.2222222222222222,
             "#7201a8"
            ],
            [
             0.3333333333333333,
             "#9c179e"
            ],
            [
             0.4444444444444444,
             "#bd3786"
            ],
            [
             0.5555555555555556,
             "#d8576b"
            ],
            [
             0.6666666666666666,
             "#ed7953"
            ],
            [
             0.7777777777777778,
             "#fb9f3a"
            ],
            [
             0.8888888888888888,
             "#fdca26"
            ],
            [
             1,
             "#f0f921"
            ]
           ],
           "sequentialminus": [
            [
             0,
             "#0d0887"
            ],
            [
             0.1111111111111111,
             "#46039f"
            ],
            [
             0.2222222222222222,
             "#7201a8"
            ],
            [
             0.3333333333333333,
             "#9c179e"
            ],
            [
             0.4444444444444444,
             "#bd3786"
            ],
            [
             0.5555555555555556,
             "#d8576b"
            ],
            [
             0.6666666666666666,
             "#ed7953"
            ],
            [
             0.7777777777777778,
             "#fb9f3a"
            ],
            [
             0.8888888888888888,
             "#fdca26"
            ],
            [
             1,
             "#f0f921"
            ]
           ]
          },
          "colorway": [
           "#636efa",
           "#EF553B",
           "#00cc96",
           "#ab63fa",
           "#FFA15A",
           "#19d3f3",
           "#FF6692",
           "#B6E880",
           "#FF97FF",
           "#FECB52"
          ],
          "font": {
           "color": "#2a3f5f"
          },
          "geo": {
           "bgcolor": "white",
           "lakecolor": "white",
           "landcolor": "#E5ECF6",
           "showlakes": true,
           "showland": true,
           "subunitcolor": "white"
          },
          "hoverlabel": {
           "align": "left"
          },
          "hovermode": "closest",
          "mapbox": {
           "style": "light"
          },
          "paper_bgcolor": "white",
          "plot_bgcolor": "#E5ECF6",
          "polar": {
           "angularaxis": {
            "gridcolor": "white",
            "linecolor": "white",
            "ticks": ""
           },
           "bgcolor": "#E5ECF6",
           "radialaxis": {
            "gridcolor": "white",
            "linecolor": "white",
            "ticks": ""
           }
          },
          "scene": {
           "xaxis": {
            "backgroundcolor": "#E5ECF6",
            "gridcolor": "white",
            "gridwidth": 2,
            "linecolor": "white",
            "showbackground": true,
            "ticks": "",
            "zerolinecolor": "white"
           },
           "yaxis": {
            "backgroundcolor": "#E5ECF6",
            "gridcolor": "white",
            "gridwidth": 2,
            "linecolor": "white",
            "showbackground": true,
            "ticks": "",
            "zerolinecolor": "white"
           },
           "zaxis": {
            "backgroundcolor": "#E5ECF6",
            "gridcolor": "white",
            "gridwidth": 2,
            "linecolor": "white",
            "showbackground": true,
            "ticks": "",
            "zerolinecolor": "white"
           }
          },
          "shapedefaults": {
           "line": {
            "color": "#2a3f5f"
           }
          },
          "ternary": {
           "aaxis": {
            "gridcolor": "white",
            "linecolor": "white",
            "ticks": ""
           },
           "baxis": {
            "gridcolor": "white",
            "linecolor": "white",
            "ticks": ""
           },
           "bgcolor": "#E5ECF6",
           "caxis": {
            "gridcolor": "white",
            "linecolor": "white",
            "ticks": ""
           }
          },
          "title": {
           "x": 0.05
          },
          "xaxis": {
           "automargin": true,
           "gridcolor": "white",
           "linecolor": "white",
           "ticks": "",
           "title": {
            "standoff": 15
           },
           "zerolinecolor": "white",
           "zerolinewidth": 2
          },
          "yaxis": {
           "automargin": true,
           "gridcolor": "white",
           "linecolor": "white",
           "ticks": "",
           "title": {
            "standoff": 15
           },
           "zerolinecolor": "white",
           "zerolinewidth": 2
          }
         }
        },
        "title": {
         "text": "Kappa -0.012170159155414861"
        },
        "width": 800,
        "xaxis": {
         "title": {
          "text": "Predicted value"
         }
        },
        "yaxis": {
         "title": {
          "text": "Real value"
         }
        }
       }
      }
     },
     "metadata": {},
     "output_type": "display_data"
    }
   ],
   "source": [
    "\n",
    "#A modo de ejemplo muestro kappa y matriz de confusion para 50% de aciertos donde los errores quedan lejos de la clase correcta\n",
    "y_simulado_lejos = [y_test.iloc[sample] if random_list[sample]<50/100 else y_lejos[sample] for sample in range(len(y_test))]\n",
    "\n",
    "display(plot_confusion_matrix(y_test,y_simulado_lejos, \n",
    "                              title = \"Kappa \" + str(cohen_kappa_score(y_test,y_simulado_lejos, weights = 'quadratic'))))\n"
   ]
  },
  {
   "cell_type": "code",
   "execution_count": 23,
   "metadata": {},
   "outputs": [
    {
     "name": "stdout",
     "output_type": "stream",
     "text": [
      "[LightGBM] [Info] Number of positive: 328, number of negative: 11666\n",
      "[LightGBM] [Info] Number of positive: 2472, number of negative: 9522\n",
      "[LightGBM] [Info] Number of positive: 3230, number of negative: 8764\n",
      "[LightGBM] [Info] Number of positive: 2607, number of negative: 9387\n",
      "[LightGBM] [Info] Number of positive: 3357, number of negative: 8637\n",
      "[LightGBM] [Info] Auto-choosing row-wise multi-threading, the overhead of testing was 0.004102 seconds.\n",
      "You can set `force_row_wise=true` to remove the overhead.\n",
      "And if memory is not enough, you can set `force_col_wise=true`.\n",
      "[LightGBM] [Info] Total Bins 438\n",
      "[LightGBM] [Info] Number of data points in the train set: 11994, number of used features: 19\n",
      "[LightGBM] [Info] [binary:BoostFromScore]: pavg=0.027347 -> initscore=-3.571420\n",
      "[LightGBM] [Info] Start training from score -3.571420\n",
      "[LightGBM] [Info] [binary:BoostFromScore]: pavg=0.206103 -> initscore=-1.348577\n",
      "[LightGBM] [Info] Start training from score -1.348577\n",
      "[LightGBM] [Info] [binary:BoostFromScore]: pavg=0.269301 -> initscore=-0.998170\n",
      "[LightGBM] [Info] Start training from score -0.998170\n",
      "[LightGBM] [Info] [binary:BoostFromScore]: pavg=0.217359 -> initscore=-1.281126\n",
      "[LightGBM] [Info] Start training from score -1.281126\n",
      "[LightGBM] [Info] [binary:BoostFromScore]: pavg=0.279890 -> initscore=-0.945008\n",
      "[LightGBM] [Info] Start training from score -0.945008\n"
     ]
    }
   ],
   "source": [
    "#Pruebo un modelo alternativo donde en vez de usar la version multiclass real de lightGBM utilizo One vs All\n",
    "\n",
    "lgb_params = params = {\n",
    "                        'objective': 'multiclassova',\n",
    "                        'num_class': len(y_train.unique())\n",
    "                        }\n",
    "\n",
    "\n",
    "lgb_train_dataset = lgb.Dataset(data=X_train,\n",
    "                                label=y_train)\n",
    "\n",
    "\n",
    "lgb_model = lgb.train(lgb_params,\n",
    "                      lgb_train_dataset)"
   ]
  },
  {
   "cell_type": "code",
   "execution_count": 24,
   "metadata": {},
   "outputs": [
    {
     "data": {
      "application/vnd.plotly.v1+json": {
       "config": {
        "plotlyServerURL": "https://plot.ly"
       },
       "data": [
        {
         "type": "heatmap",
         "x": [
          0,
          1,
          2,
          3,
          4
         ],
         "y": [
          0,
          1,
          2,
          3,
          4
         ],
         "z": [
          [
           7.317073170731707,
           39.02439024390244,
           28.04878048780488,
           7.317073170731707,
           18.29268292682927
          ],
          [
           0.48543689320388345,
           32.847896440129446,
           37.37864077669903,
           7.766990291262135,
           21.521035598705502
          ],
          [
           0.12391573729863693,
           21.437422552664188,
           38.53779429987608,
           11.152416356877323,
           28.74845105328377
          ],
          [
           0.4601226993865031,
           16.87116564417178,
           33.58895705521473,
           19.32515337423313,
           29.754601226993866
          ],
          [
           0.11904761904761905,
           9.047619047619047,
           21.785714285714285,
           6.190476190476191,
           62.857142857142854
          ]
         ]
        }
       ],
       "layout": {
        "annotations": [
         {
          "font": {
           "color": "white"
          },
          "showarrow": false,
          "text": "7.3 - 6",
          "x": 0,
          "xref": "x",
          "y": 0,
          "yref": "y"
         },
         {
          "font": {
           "color": "white"
          },
          "showarrow": false,
          "text": "39.0 - 32",
          "x": 1,
          "xref": "x",
          "y": 0,
          "yref": "y"
         },
         {
          "font": {
           "color": "white"
          },
          "showarrow": false,
          "text": "28.0 - 23",
          "x": 2,
          "xref": "x",
          "y": 0,
          "yref": "y"
         },
         {
          "font": {
           "color": "white"
          },
          "showarrow": false,
          "text": "7.3 - 6",
          "x": 3,
          "xref": "x",
          "y": 0,
          "yref": "y"
         },
         {
          "font": {
           "color": "white"
          },
          "showarrow": false,
          "text": "18.3 - 15",
          "x": 4,
          "xref": "x",
          "y": 0,
          "yref": "y"
         },
         {
          "font": {
           "color": "white"
          },
          "showarrow": false,
          "text": "0.5 - 3",
          "x": 0,
          "xref": "x",
          "y": 1,
          "yref": "y"
         },
         {
          "font": {
           "color": "white"
          },
          "showarrow": false,
          "text": "32.8 - 203",
          "x": 1,
          "xref": "x",
          "y": 1,
          "yref": "y"
         },
         {
          "font": {
           "color": "white"
          },
          "showarrow": false,
          "text": "37.4 - 231",
          "x": 2,
          "xref": "x",
          "y": 1,
          "yref": "y"
         },
         {
          "font": {
           "color": "white"
          },
          "showarrow": false,
          "text": "7.8 - 48",
          "x": 3,
          "xref": "x",
          "y": 1,
          "yref": "y"
         },
         {
          "font": {
           "color": "white"
          },
          "showarrow": false,
          "text": "21.5 - 133",
          "x": 4,
          "xref": "x",
          "y": 1,
          "yref": "y"
         },
         {
          "font": {
           "color": "white"
          },
          "showarrow": false,
          "text": "0.1 - 1",
          "x": 0,
          "xref": "x",
          "y": 2,
          "yref": "y"
         },
         {
          "font": {
           "color": "white"
          },
          "showarrow": false,
          "text": "21.4 - 173",
          "x": 1,
          "xref": "x",
          "y": 2,
          "yref": "y"
         },
         {
          "font": {
           "color": "white"
          },
          "showarrow": false,
          "text": "38.5 - 311",
          "x": 2,
          "xref": "x",
          "y": 2,
          "yref": "y"
         },
         {
          "font": {
           "color": "white"
          },
          "showarrow": false,
          "text": "11.2 - 90",
          "x": 3,
          "xref": "x",
          "y": 2,
          "yref": "y"
         },
         {
          "font": {
           "color": "white"
          },
          "showarrow": false,
          "text": "28.7 - 232",
          "x": 4,
          "xref": "x",
          "y": 2,
          "yref": "y"
         },
         {
          "font": {
           "color": "white"
          },
          "showarrow": false,
          "text": "0.5 - 3",
          "x": 0,
          "xref": "x",
          "y": 3,
          "yref": "y"
         },
         {
          "font": {
           "color": "white"
          },
          "showarrow": false,
          "text": "16.9 - 110",
          "x": 1,
          "xref": "x",
          "y": 3,
          "yref": "y"
         },
         {
          "font": {
           "color": "white"
          },
          "showarrow": false,
          "text": "33.6 - 219",
          "x": 2,
          "xref": "x",
          "y": 3,
          "yref": "y"
         },
         {
          "font": {
           "color": "white"
          },
          "showarrow": false,
          "text": "19.3 - 126",
          "x": 3,
          "xref": "x",
          "y": 3,
          "yref": "y"
         },
         {
          "font": {
           "color": "white"
          },
          "showarrow": false,
          "text": "29.8 - 194",
          "x": 4,
          "xref": "x",
          "y": 3,
          "yref": "y"
         },
         {
          "font": {
           "color": "white"
          },
          "showarrow": false,
          "text": "0.1 - 1",
          "x": 0,
          "xref": "x",
          "y": 4,
          "yref": "y"
         },
         {
          "font": {
           "color": "white"
          },
          "showarrow": false,
          "text": "9.0 - 76",
          "x": 1,
          "xref": "x",
          "y": 4,
          "yref": "y"
         },
         {
          "font": {
           "color": "white"
          },
          "showarrow": false,
          "text": "21.8 - 183",
          "x": 2,
          "xref": "x",
          "y": 4,
          "yref": "y"
         },
         {
          "font": {
           "color": "white"
          },
          "showarrow": false,
          "text": "6.2 - 52",
          "x": 3,
          "xref": "x",
          "y": 4,
          "yref": "y"
         },
         {
          "font": {
           "color": "white"
          },
          "showarrow": false,
          "text": "62.9 - 528",
          "x": 4,
          "xref": "x",
          "y": 4,
          "yref": "y"
         }
        ],
        "height": 800,
        "template": {
         "data": {
          "bar": [
           {
            "error_x": {
             "color": "#2a3f5f"
            },
            "error_y": {
             "color": "#2a3f5f"
            },
            "marker": {
             "line": {
              "color": "#E5ECF6",
              "width": 0.5
             },
             "pattern": {
              "fillmode": "overlay",
              "size": 10,
              "solidity": 0.2
             }
            },
            "type": "bar"
           }
          ],
          "barpolar": [
           {
            "marker": {
             "line": {
              "color": "#E5ECF6",
              "width": 0.5
             },
             "pattern": {
              "fillmode": "overlay",
              "size": 10,
              "solidity": 0.2
             }
            },
            "type": "barpolar"
           }
          ],
          "carpet": [
           {
            "aaxis": {
             "endlinecolor": "#2a3f5f",
             "gridcolor": "white",
             "linecolor": "white",
             "minorgridcolor": "white",
             "startlinecolor": "#2a3f5f"
            },
            "baxis": {
             "endlinecolor": "#2a3f5f",
             "gridcolor": "white",
             "linecolor": "white",
             "minorgridcolor": "white",
             "startlinecolor": "#2a3f5f"
            },
            "type": "carpet"
           }
          ],
          "choropleth": [
           {
            "colorbar": {
             "outlinewidth": 0,
             "ticks": ""
            },
            "type": "choropleth"
           }
          ],
          "contour": [
           {
            "colorbar": {
             "outlinewidth": 0,
             "ticks": ""
            },
            "colorscale": [
             [
              0,
              "#0d0887"
             ],
             [
              0.1111111111111111,
              "#46039f"
             ],
             [
              0.2222222222222222,
              "#7201a8"
             ],
             [
              0.3333333333333333,
              "#9c179e"
             ],
             [
              0.4444444444444444,
              "#bd3786"
             ],
             [
              0.5555555555555556,
              "#d8576b"
             ],
             [
              0.6666666666666666,
              "#ed7953"
             ],
             [
              0.7777777777777778,
              "#fb9f3a"
             ],
             [
              0.8888888888888888,
              "#fdca26"
             ],
             [
              1,
              "#f0f921"
             ]
            ],
            "type": "contour"
           }
          ],
          "contourcarpet": [
           {
            "colorbar": {
             "outlinewidth": 0,
             "ticks": ""
            },
            "type": "contourcarpet"
           }
          ],
          "heatmap": [
           {
            "colorbar": {
             "outlinewidth": 0,
             "ticks": ""
            },
            "colorscale": [
             [
              0,
              "#0d0887"
             ],
             [
              0.1111111111111111,
              "#46039f"
             ],
             [
              0.2222222222222222,
              "#7201a8"
             ],
             [
              0.3333333333333333,
              "#9c179e"
             ],
             [
              0.4444444444444444,
              "#bd3786"
             ],
             [
              0.5555555555555556,
              "#d8576b"
             ],
             [
              0.6666666666666666,
              "#ed7953"
             ],
             [
              0.7777777777777778,
              "#fb9f3a"
             ],
             [
              0.8888888888888888,
              "#fdca26"
             ],
             [
              1,
              "#f0f921"
             ]
            ],
            "type": "heatmap"
           }
          ],
          "heatmapgl": [
           {
            "colorbar": {
             "outlinewidth": 0,
             "ticks": ""
            },
            "colorscale": [
             [
              0,
              "#0d0887"
             ],
             [
              0.1111111111111111,
              "#46039f"
             ],
             [
              0.2222222222222222,
              "#7201a8"
             ],
             [
              0.3333333333333333,
              "#9c179e"
             ],
             [
              0.4444444444444444,
              "#bd3786"
             ],
             [
              0.5555555555555556,
              "#d8576b"
             ],
             [
              0.6666666666666666,
              "#ed7953"
             ],
             [
              0.7777777777777778,
              "#fb9f3a"
             ],
             [
              0.8888888888888888,
              "#fdca26"
             ],
             [
              1,
              "#f0f921"
             ]
            ],
            "type": "heatmapgl"
           }
          ],
          "histogram": [
           {
            "marker": {
             "pattern": {
              "fillmode": "overlay",
              "size": 10,
              "solidity": 0.2
             }
            },
            "type": "histogram"
           }
          ],
          "histogram2d": [
           {
            "colorbar": {
             "outlinewidth": 0,
             "ticks": ""
            },
            "colorscale": [
             [
              0,
              "#0d0887"
             ],
             [
              0.1111111111111111,
              "#46039f"
             ],
             [
              0.2222222222222222,
              "#7201a8"
             ],
             [
              0.3333333333333333,
              "#9c179e"
             ],
             [
              0.4444444444444444,
              "#bd3786"
             ],
             [
              0.5555555555555556,
              "#d8576b"
             ],
             [
              0.6666666666666666,
              "#ed7953"
             ],
             [
              0.7777777777777778,
              "#fb9f3a"
             ],
             [
              0.8888888888888888,
              "#fdca26"
             ],
             [
              1,
              "#f0f921"
             ]
            ],
            "type": "histogram2d"
           }
          ],
          "histogram2dcontour": [
           {
            "colorbar": {
             "outlinewidth": 0,
             "ticks": ""
            },
            "colorscale": [
             [
              0,
              "#0d0887"
             ],
             [
              0.1111111111111111,
              "#46039f"
             ],
             [
              0.2222222222222222,
              "#7201a8"
             ],
             [
              0.3333333333333333,
              "#9c179e"
             ],
             [
              0.4444444444444444,
              "#bd3786"
             ],
             [
              0.5555555555555556,
              "#d8576b"
             ],
             [
              0.6666666666666666,
              "#ed7953"
             ],
             [
              0.7777777777777778,
              "#fb9f3a"
             ],
             [
              0.8888888888888888,
              "#fdca26"
             ],
             [
              1,
              "#f0f921"
             ]
            ],
            "type": "histogram2dcontour"
           }
          ],
          "mesh3d": [
           {
            "colorbar": {
             "outlinewidth": 0,
             "ticks": ""
            },
            "type": "mesh3d"
           }
          ],
          "parcoords": [
           {
            "line": {
             "colorbar": {
              "outlinewidth": 0,
              "ticks": ""
             }
            },
            "type": "parcoords"
           }
          ],
          "pie": [
           {
            "automargin": true,
            "type": "pie"
           }
          ],
          "scatter": [
           {
            "fillpattern": {
             "fillmode": "overlay",
             "size": 10,
             "solidity": 0.2
            },
            "type": "scatter"
           }
          ],
          "scatter3d": [
           {
            "line": {
             "colorbar": {
              "outlinewidth": 0,
              "ticks": ""
             }
            },
            "marker": {
             "colorbar": {
              "outlinewidth": 0,
              "ticks": ""
             }
            },
            "type": "scatter3d"
           }
          ],
          "scattercarpet": [
           {
            "marker": {
             "colorbar": {
              "outlinewidth": 0,
              "ticks": ""
             }
            },
            "type": "scattercarpet"
           }
          ],
          "scattergeo": [
           {
            "marker": {
             "colorbar": {
              "outlinewidth": 0,
              "ticks": ""
             }
            },
            "type": "scattergeo"
           }
          ],
          "scattergl": [
           {
            "marker": {
             "colorbar": {
              "outlinewidth": 0,
              "ticks": ""
             }
            },
            "type": "scattergl"
           }
          ],
          "scattermapbox": [
           {
            "marker": {
             "colorbar": {
              "outlinewidth": 0,
              "ticks": ""
             }
            },
            "type": "scattermapbox"
           }
          ],
          "scatterpolar": [
           {
            "marker": {
             "colorbar": {
              "outlinewidth": 0,
              "ticks": ""
             }
            },
            "type": "scatterpolar"
           }
          ],
          "scatterpolargl": [
           {
            "marker": {
             "colorbar": {
              "outlinewidth": 0,
              "ticks": ""
             }
            },
            "type": "scatterpolargl"
           }
          ],
          "scatterternary": [
           {
            "marker": {
             "colorbar": {
              "outlinewidth": 0,
              "ticks": ""
             }
            },
            "type": "scatterternary"
           }
          ],
          "surface": [
           {
            "colorbar": {
             "outlinewidth": 0,
             "ticks": ""
            },
            "colorscale": [
             [
              0,
              "#0d0887"
             ],
             [
              0.1111111111111111,
              "#46039f"
             ],
             [
              0.2222222222222222,
              "#7201a8"
             ],
             [
              0.3333333333333333,
              "#9c179e"
             ],
             [
              0.4444444444444444,
              "#bd3786"
             ],
             [
              0.5555555555555556,
              "#d8576b"
             ],
             [
              0.6666666666666666,
              "#ed7953"
             ],
             [
              0.7777777777777778,
              "#fb9f3a"
             ],
             [
              0.8888888888888888,
              "#fdca26"
             ],
             [
              1,
              "#f0f921"
             ]
            ],
            "type": "surface"
           }
          ],
          "table": [
           {
            "cells": {
             "fill": {
              "color": "#EBF0F8"
             },
             "line": {
              "color": "white"
             }
            },
            "header": {
             "fill": {
              "color": "#C8D4E3"
             },
             "line": {
              "color": "white"
             }
            },
            "type": "table"
           }
          ]
         },
         "layout": {
          "annotationdefaults": {
           "arrowcolor": "#2a3f5f",
           "arrowhead": 0,
           "arrowwidth": 1
          },
          "autotypenumbers": "strict",
          "coloraxis": {
           "colorbar": {
            "outlinewidth": 0,
            "ticks": ""
           }
          },
          "colorscale": {
           "diverging": [
            [
             0,
             "#8e0152"
            ],
            [
             0.1,
             "#c51b7d"
            ],
            [
             0.2,
             "#de77ae"
            ],
            [
             0.3,
             "#f1b6da"
            ],
            [
             0.4,
             "#fde0ef"
            ],
            [
             0.5,
             "#f7f7f7"
            ],
            [
             0.6,
             "#e6f5d0"
            ],
            [
             0.7,
             "#b8e186"
            ],
            [
             0.8,
             "#7fbc41"
            ],
            [
             0.9,
             "#4d9221"
            ],
            [
             1,
             "#276419"
            ]
           ],
           "sequential": [
            [
             0,
             "#0d0887"
            ],
            [
             0.1111111111111111,
             "#46039f"
            ],
            [
             0.2222222222222222,
             "#7201a8"
            ],
            [
             0.3333333333333333,
             "#9c179e"
            ],
            [
             0.4444444444444444,
             "#bd3786"
            ],
            [
             0.5555555555555556,
             "#d8576b"
            ],
            [
             0.6666666666666666,
             "#ed7953"
            ],
            [
             0.7777777777777778,
             "#fb9f3a"
            ],
            [
             0.8888888888888888,
             "#fdca26"
            ],
            [
             1,
             "#f0f921"
            ]
           ],
           "sequentialminus": [
            [
             0,
             "#0d0887"
            ],
            [
             0.1111111111111111,
             "#46039f"
            ],
            [
             0.2222222222222222,
             "#7201a8"
            ],
            [
             0.3333333333333333,
             "#9c179e"
            ],
            [
             0.4444444444444444,
             "#bd3786"
            ],
            [
             0.5555555555555556,
             "#d8576b"
            ],
            [
             0.6666666666666666,
             "#ed7953"
            ],
            [
             0.7777777777777778,
             "#fb9f3a"
            ],
            [
             0.8888888888888888,
             "#fdca26"
            ],
            [
             1,
             "#f0f921"
            ]
           ]
          },
          "colorway": [
           "#636efa",
           "#EF553B",
           "#00cc96",
           "#ab63fa",
           "#FFA15A",
           "#19d3f3",
           "#FF6692",
           "#B6E880",
           "#FF97FF",
           "#FECB52"
          ],
          "font": {
           "color": "#2a3f5f"
          },
          "geo": {
           "bgcolor": "white",
           "lakecolor": "white",
           "landcolor": "#E5ECF6",
           "showlakes": true,
           "showland": true,
           "subunitcolor": "white"
          },
          "hoverlabel": {
           "align": "left"
          },
          "hovermode": "closest",
          "mapbox": {
           "style": "light"
          },
          "paper_bgcolor": "white",
          "plot_bgcolor": "#E5ECF6",
          "polar": {
           "angularaxis": {
            "gridcolor": "white",
            "linecolor": "white",
            "ticks": ""
           },
           "bgcolor": "#E5ECF6",
           "radialaxis": {
            "gridcolor": "white",
            "linecolor": "white",
            "ticks": ""
           }
          },
          "scene": {
           "xaxis": {
            "backgroundcolor": "#E5ECF6",
            "gridcolor": "white",
            "gridwidth": 2,
            "linecolor": "white",
            "showbackground": true,
            "ticks": "",
            "zerolinecolor": "white"
           },
           "yaxis": {
            "backgroundcolor": "#E5ECF6",
            "gridcolor": "white",
            "gridwidth": 2,
            "linecolor": "white",
            "showbackground": true,
            "ticks": "",
            "zerolinecolor": "white"
           },
           "zaxis": {
            "backgroundcolor": "#E5ECF6",
            "gridcolor": "white",
            "gridwidth": 2,
            "linecolor": "white",
            "showbackground": true,
            "ticks": "",
            "zerolinecolor": "white"
           }
          },
          "shapedefaults": {
           "line": {
            "color": "#2a3f5f"
           }
          },
          "ternary": {
           "aaxis": {
            "gridcolor": "white",
            "linecolor": "white",
            "ticks": ""
           },
           "baxis": {
            "gridcolor": "white",
            "linecolor": "white",
            "ticks": ""
           },
           "bgcolor": "#E5ECF6",
           "caxis": {
            "gridcolor": "white",
            "linecolor": "white",
            "ticks": ""
           }
          },
          "title": {
           "x": 0.05
          },
          "xaxis": {
           "automargin": true,
           "gridcolor": "white",
           "linecolor": "white",
           "ticks": "",
           "title": {
            "standoff": 15
           },
           "zerolinecolor": "white",
           "zerolinewidth": 2
          },
          "yaxis": {
           "automargin": true,
           "gridcolor": "white",
           "linecolor": "white",
           "ticks": "",
           "title": {
            "standoff": 15
           },
           "zerolinecolor": "white",
           "zerolinewidth": 2
          }
         }
        },
        "title": {
         "text": "Conf Matrix"
        },
        "width": 800,
        "xaxis": {
         "title": {
          "text": "Predicted value"
         }
        },
        "yaxis": {
         "title": {
          "text": "Real value"
         }
        }
       }
      }
     },
     "metadata": {},
     "output_type": "display_data"
    },
    {
     "data": {
      "text/plain": [
       "{'kappa': np.float64(0.33093403829656054),\n",
       " 'accuracy': 0.3914638212737579,\n",
       " 'balanced_accuracy': np.float64(0.32177012028422647)}"
      ]
     },
     "execution_count": 24,
     "metadata": {},
     "output_type": "execute_result"
    }
   ],
   "source": [
    "#MAtriz de confusion y Kappa dfe OVA\n",
    "y_pred = lgb_model.predict(X_test).argmax(axis=1)\n",
    "\n",
    "display(plot_confusion_matrix(y_test,y_pred))\n",
    "\n",
    "{'kappa':cohen_kappa_score(y_test,\n",
    "                y_pred,\n",
    "                weights = 'quadratic'),\n",
    " 'accuracy':accuracy_score(y_test,y_pred),\n",
    " 'balanced_accuracy':balanced_accuracy_score(y_test,y_pred)}\n",
    "\n",
    "\n"
   ]
  },
  {
   "cell_type": "markdown",
   "metadata": {},
   "source": [
    "## Optimizacion de hiperparametros modelo train/test"
   ]
  },
  {
   "cell_type": "code",
   "execution_count": 26,
   "metadata": {},
   "outputs": [],
   "source": [
    "\n",
    "#Funcion que vamos a optimizar. Optuna requiere que usemos el objeto trial para generar los parametros a optimizar\n",
    "def lgb_objective(trial):\n",
    "    #PArametros para LightGBM\n",
    "    lgb_params = {      \n",
    "                        #PArametros fijos\n",
    "                        'objective': 'multiclass',\n",
    "                        'verbosity':-1,\n",
    "                        'num_class': len(y_train.unique()),\n",
    "                        #Hiperparametros a optimizar utilizando suggest_float o suggest_int segun el tipo de dato\n",
    "                        #Se indica el nombre del parametro, valor minimo, valor maximo \n",
    "                        #en elgunos casos el parametro log=True para parametros que requieren buscar en esa escala\n",
    "                        'lambda_l1': trial.suggest_float('lambda_l1', 1e-8, 10.0, log=True),\n",
    "                        'lambda_l2': trial.suggest_float('lambda_l2', 1e-8, 10.0, log=True),\n",
    "                        'num_leaves': trial.suggest_int('num_leaves', 2, 256),\n",
    "                        'feature_fraction': trial.suggest_float('feature_fraction', 0.4, 1.0),\n",
    "                        'bagging_fraction': trial.suggest_float('bagging_fraction', 0.4, 1.0),\n",
    "                        'bagging_freq': trial.suggest_int('bagging_freq', 1, 7),\n",
    "                        'min_child_samples': trial.suggest_int('min_child_samples', 5, 100),\n",
    "                        } \n",
    "\n",
    "    #Genero objeto dataset de entrenamiento\n",
    "    lgb_train_dataset = lgb.Dataset(data=X_train,\n",
    "                                    label=y_train)\n",
    "\n",
    "    #ajuste de modelo\n",
    "    lgb_model = lgb.train(lgb_params,\n",
    "                        lgb_train_dataset)\n",
    "    \n",
    "    #Devuelvo el score en test\n",
    "    return(cohen_kappa_score(y_test,lgb_model.predict(X_test).argmax(axis=1),\n",
    "                             weights = 'quadratic'))"
   ]
  },
  {
   "cell_type": "code",
   "execution_count": 27,
   "metadata": {},
   "outputs": [
    {
     "name": "stderr",
     "output_type": "stream",
     "text": [
      "[I 2024-10-14 21:08:25,982] A new study created in RDB with name: 04 - LGB Multiclass\n",
      "[I 2024-10-14 21:08:31,653] Trial 0 finished with value: 0.3036823880606597 and parameters: {'lambda_l1': 3.31595354318583e-05, 'lambda_l2': 6.989411553328888e-08, 'num_leaves': 137, 'feature_fraction': 0.8782127670608136, 'bagging_fraction': 0.5030025332219563, 'bagging_freq': 7, 'min_child_samples': 58}. Best is trial 0 with value: 0.3036823880606597.\n",
      "[I 2024-10-14 21:08:36,100] Trial 1 finished with value: 0.3160989102788708 and parameters: {'lambda_l1': 0.0030334396084573667, 'lambda_l2': 1.530182237755428e-06, 'num_leaves': 66, 'feature_fraction': 0.7100446313815104, 'bagging_fraction': 0.5362923647504951, 'bagging_freq': 6, 'min_child_samples': 24}. Best is trial 1 with value: 0.3160989102788708.\n",
      "[I 2024-10-14 21:08:41,588] Trial 2 finished with value: 0.30636348357789966 and parameters: {'lambda_l1': 7.53711784683966e-07, 'lambda_l2': 0.26434620863263103, 'num_leaves': 156, 'feature_fraction': 0.6617336572405091, 'bagging_fraction': 0.40732284476112546, 'bagging_freq': 1, 'min_child_samples': 61}. Best is trial 1 with value: 0.3160989102788708.\n",
      "[I 2024-10-14 21:08:48,885] Trial 3 finished with value: 0.3112835644509303 and parameters: {'lambda_l1': 1.128499942543112e-08, 'lambda_l2': 0.08051356654130455, 'num_leaves': 105, 'feature_fraction': 0.6543028451602795, 'bagging_fraction': 0.8601745173162724, 'bagging_freq': 5, 'min_child_samples': 59}. Best is trial 1 with value: 0.3160989102788708.\n",
      "[I 2024-10-14 21:08:55,001] Trial 4 finished with value: 0.30428796515469825 and parameters: {'lambda_l1': 0.0002756909589199028, 'lambda_l2': 7.063156846589652e-06, 'num_leaves': 153, 'feature_fraction': 0.450025251196693, 'bagging_fraction': 0.8491266044469548, 'bagging_freq': 4, 'min_child_samples': 87}. Best is trial 1 with value: 0.3160989102788708.\n",
      "[I 2024-10-14 21:09:02,756] Trial 5 finished with value: 0.3107935823900062 and parameters: {'lambda_l1': 8.178760106001099e-08, 'lambda_l2': 4.8020789178436046e-08, 'num_leaves': 100, 'feature_fraction': 0.6780489319588863, 'bagging_fraction': 0.40678502749781914, 'bagging_freq': 2, 'min_child_samples': 50}. Best is trial 1 with value: 0.3160989102788708.\n",
      "[I 2024-10-14 21:09:04,765] Trial 6 finished with value: 0.31362554289775546 and parameters: {'lambda_l1': 1.0137368043301917e-08, 'lambda_l2': 1.1969816346323768e-05, 'num_leaves': 18, 'feature_fraction': 0.7673113924771876, 'bagging_fraction': 0.41597668565520657, 'bagging_freq': 3, 'min_child_samples': 93}. Best is trial 1 with value: 0.3160989102788708.\n",
      "[I 2024-10-14 21:09:12,798] Trial 7 finished with value: 0.2849330346204316 and parameters: {'lambda_l1': 0.12444071270304691, 'lambda_l2': 1.83659643107214e-08, 'num_leaves': 165, 'feature_fraction': 0.9263474303925305, 'bagging_fraction': 0.5145789584861528, 'bagging_freq': 5, 'min_child_samples': 5}. Best is trial 1 with value: 0.3160989102788708.\n",
      "[I 2024-10-14 21:09:22,705] Trial 8 finished with value: 0.3087740682625788 and parameters: {'lambda_l1': 1.5115878018378782e-06, 'lambda_l2': 0.004139485219423363, 'num_leaves': 212, 'feature_fraction': 0.4766425076169112, 'bagging_fraction': 0.9862097451496937, 'bagging_freq': 3, 'min_child_samples': 55}. Best is trial 1 with value: 0.3160989102788708.\n",
      "[I 2024-10-14 21:09:26,662] Trial 9 finished with value: 0.3089696709143821 and parameters: {'lambda_l1': 0.0016084759723262471, 'lambda_l2': 8.946335755564165, 'num_leaves': 86, 'feature_fraction': 0.45788179599766754, 'bagging_fraction': 0.5822496842017871, 'bagging_freq': 4, 'min_child_samples': 56}. Best is trial 1 with value: 0.3160989102788708.\n",
      "[I 2024-10-14 21:09:29,300] Trial 10 finished with value: 0.3139429110068064 and parameters: {'lambda_l1': 7.557560936288704, 'lambda_l2': 2.6798978532311583e-05, 'num_leaves': 20, 'feature_fraction': 0.781572256132679, 'bagging_fraction': 0.6609808695985812, 'bagging_freq': 7, 'min_child_samples': 10}. Best is trial 1 with value: 0.3160989102788708.\n",
      "[I 2024-10-14 21:09:31,013] Trial 11 finished with value: 0.31753148808482823 and parameters: {'lambda_l1': 7.358664062013229, 'lambda_l2': 8.157011163749997e-06, 'num_leaves': 8, 'feature_fraction': 0.8021790987624774, 'bagging_fraction': 0.676723123605005, 'bagging_freq': 7, 'min_child_samples': 7}. Best is trial 11 with value: 0.31753148808482823.\n",
      "[I 2024-10-14 21:09:35,282] Trial 12 finished with value: 0.3043352370825345 and parameters: {'lambda_l1': 4.808360785629748, 'lambda_l2': 1.0070946046128046e-06, 'num_leaves': 57, 'feature_fraction': 0.8246766936215217, 'bagging_fraction': 0.702808066650746, 'bagging_freq': 6, 'min_child_samples': 25}. Best is trial 11 with value: 0.31753148808482823.\n",
      "[I 2024-10-14 21:09:39,008] Trial 13 finished with value: 0.3143951074535304 and parameters: {'lambda_l1': 0.04344332393373519, 'lambda_l2': 0.0005248808524501836, 'num_leaves': 54, 'feature_fraction': 0.990137608321352, 'bagging_fraction': 0.6872701502459726, 'bagging_freq': 6, 'min_child_samples': 32}. Best is trial 11 with value: 0.31753148808482823.\n",
      "[I 2024-10-14 21:09:40,612] Trial 14 finished with value: 0.31098770319641444 and parameters: {'lambda_l1': 0.10497303762785855, 'lambda_l2': 7.535095166535827e-07, 'num_leaves': 4, 'feature_fraction': 0.5637885933337647, 'bagging_fraction': 0.7662820795146896, 'bagging_freq': 6, 'min_child_samples': 23}. Best is trial 11 with value: 0.31753148808482823.\n",
      "[I 2024-10-14 21:09:44,359] Trial 15 finished with value: 0.3232832619883822 and parameters: {'lambda_l1': 0.005637691677338151, 'lambda_l2': 0.0009573548140407337, 'num_leaves': 51, 'feature_fraction': 0.569993747008157, 'bagging_fraction': 0.6223308788612125, 'bagging_freq': 7, 'min_child_samples': 38}. Best is trial 15 with value: 0.3232832619883822.\n",
      "[I 2024-10-14 21:09:49,944] Trial 16 finished with value: 0.3128954626108551 and parameters: {'lambda_l1': 1.4330751981882812, 'lambda_l2': 0.0002896403852269876, 'num_leaves': 39, 'feature_fraction': 0.5772405279379099, 'bagging_fraction': 0.6158167422481817, 'bagging_freq': 7, 'min_child_samples': 41}. Best is trial 15 with value: 0.3232832619883822.\n",
      "[I 2024-10-14 21:09:58,241] Trial 17 finished with value: 0.3115648460512086 and parameters: {'lambda_l1': 0.019431499317638563, 'lambda_l2': 0.00022093622845018864, 'num_leaves': 255, 'feature_fraction': 0.5486568660958863, 'bagging_fraction': 0.7806694617285428, 'bagging_freq': 5, 'min_child_samples': 69}. Best is trial 15 with value: 0.3232832619883822.\n",
      "[I 2024-10-14 21:09:59,519] Trial 18 finished with value: 0.2649586659692793 and parameters: {'lambda_l1': 9.724262294989406e-06, 'lambda_l2': 0.013986397835971963, 'num_leaves': 2, 'feature_fraction': 0.40526941228630853, 'bagging_fraction': 0.76213257951978, 'bagging_freq': 7, 'min_child_samples': 14}. Best is trial 15 with value: 0.3232832619883822.\n",
      "[I 2024-10-14 21:10:03,657] Trial 19 finished with value: 0.3190532091390065 and parameters: {'lambda_l1': 0.5575300309618241, 'lambda_l2': 0.0038731152512501144, 'num_leaves': 37, 'feature_fraction': 0.7298157174845046, 'bagging_fraction': 0.5944762303562674, 'bagging_freq': 5, 'min_child_samples': 40}. Best is trial 15 with value: 0.3232832619883822.\n",
      "[I 2024-10-14 21:10:09,258] Trial 20 finished with value: 0.3151770679708318 and parameters: {'lambda_l1': 0.5420605896169642, 'lambda_l2': 1.20994418371752, 'num_leaves': 85, 'feature_fraction': 0.6082136899971616, 'bagging_fraction': 0.5893090312806898, 'bagging_freq': 5, 'min_child_samples': 39}. Best is trial 15 with value: 0.3232832619883822.\n",
      "[I 2024-10-14 21:10:15,339] Trial 21 finished with value: 0.315544713167619 and parameters: {'lambda_l1': 0.6354631844666724, 'lambda_l2': 0.002337623024806949, 'num_leaves': 35, 'feature_fraction': 0.7348511399020119, 'bagging_fraction': 0.6409960362524455, 'bagging_freq': 6, 'min_child_samples': 76}. Best is trial 15 with value: 0.3232832619883822.\n",
      "[I 2024-10-14 21:10:22,566] Trial 22 finished with value: 0.3278169259303434 and parameters: {'lambda_l1': 0.0027348684795808907, 'lambda_l2': 0.022930175696307467, 'num_leaves': 35, 'feature_fraction': 0.8270068235804835, 'bagging_fraction': 0.7202923246542283, 'bagging_freq': 7, 'min_child_samples': 43}. Best is trial 22 with value: 0.3278169259303434.\n",
      "[I 2024-10-14 21:10:25,595] Trial 23 finished with value: 0.3072618680269733 and parameters: {'lambda_l1': 0.0044099537404324925, 'lambda_l2': 0.03168324226971809, 'num_leaves': 37, 'feature_fraction': 0.8567916991292527, 'bagging_fraction': 0.5560808701370223, 'bagging_freq': 3, 'min_child_samples': 44}. Best is trial 22 with value: 0.3278169259303434.\n",
      "[I 2024-10-14 21:10:29,344] Trial 24 finished with value: 0.29993047717019616 and parameters: {'lambda_l1': 0.00016146776981591185, 'lambda_l2': 0.0027789864695792793, 'num_leaves': 74, 'feature_fraction': 0.7405380602380668, 'bagging_fraction': 0.4769917351976883, 'bagging_freq': 4, 'min_child_samples': 33}. Best is trial 22 with value: 0.3278169259303434.\n",
      "[I 2024-10-14 21:10:34,941] Trial 25 finished with value: 0.290804188525549 and parameters: {'lambda_l1': 0.009449066938514215, 'lambda_l2': 0.4037245523133924, 'num_leaves': 120, 'feature_fraction': 0.9197410469988703, 'bagging_fraction': 0.7143730904341264, 'bagging_freq': 6, 'min_child_samples': 47}. Best is trial 22 with value: 0.3278169259303434.\n",
      "[I 2024-10-14 21:10:38,588] Trial 26 finished with value: 0.32052282771417384 and parameters: {'lambda_l1': 0.0008579198638904127, 'lambda_l2': 0.0159137799439247, 'num_leaves': 43, 'feature_fraction': 0.6186311079482725, 'bagging_fraction': 0.6163231409045468, 'bagging_freq': 7, 'min_child_samples': 32}. Best is trial 22 with value: 0.3278169259303434.\n",
      "[I 2024-10-14 21:10:42,132] Trial 27 finished with value: 0.31151564511694485 and parameters: {'lambda_l1': 0.0008500603994581963, 'lambda_l2': 0.00010505579046524235, 'num_leaves': 50, 'feature_fraction': 0.518331499843519, 'bagging_fraction': 0.8390734438101366, 'bagging_freq': 7, 'min_child_samples': 31}. Best is trial 22 with value: 0.3278169259303434.\n",
      "[I 2024-10-14 21:10:47,081] Trial 28 finished with value: 0.33654006371145595 and parameters: {'lambda_l1': 0.00030951135881118443, 'lambda_l2': 0.031295513587521695, 'num_leaves': 195, 'feature_fraction': 0.6245538396626488, 'bagging_fraction': 0.7344844878111088, 'bagging_freq': 7, 'min_child_samples': 67}. Best is trial 28 with value: 0.33654006371145595.\n",
      "[I 2024-10-14 21:10:51,074] Trial 29 finished with value: 0.312740284931851 and parameters: {'lambda_l1': 2.5444983502849266e-05, 'lambda_l2': 3.6238294251810386, 'num_leaves': 186, 'feature_fraction': 0.632133799193685, 'bagging_fraction': 0.7364216276391602, 'bagging_freq': 7, 'min_child_samples': 70}. Best is trial 28 with value: 0.33654006371145595.\n",
      "[I 2024-10-14 21:11:04,414] Trial 30 finished with value: 0.30970505123381675 and parameters: {'lambda_l1': 0.00016299540424951655, 'lambda_l2': 0.16587878585787544, 'num_leaves': 222, 'feature_fraction': 0.5190922298908545, 'bagging_fraction': 0.8004120824820022, 'bagging_freq': 6, 'min_child_samples': 65}. Best is trial 28 with value: 0.33654006371145595.\n",
      "[I 2024-10-14 21:11:10,673] Trial 31 finished with value: 0.3142585215600141 and parameters: {'lambda_l1': 0.00071865945694149, 'lambda_l2': 0.019234472262948756, 'num_leaves': 131, 'feature_fraction': 0.5800042960824957, 'bagging_fraction': 0.6339870478631312, 'bagging_freq': 7, 'min_child_samples': 77}. Best is trial 28 with value: 0.33654006371145595.\n",
      "[I 2024-10-14 21:11:19,611] Trial 32 finished with value: 0.2832160082618971 and parameters: {'lambda_l1': 7.026510956259827e-05, 'lambda_l2': 0.0011342611829589521, 'num_leaves': 205, 'feature_fraction': 0.6192531316798896, 'bagging_fraction': 0.4743876894519985, 'bagging_freq': 7, 'min_child_samples': 21}. Best is trial 28 with value: 0.33654006371145595.\n",
      "[I 2024-10-14 21:11:25,214] Trial 33 finished with value: 0.30698460698545105 and parameters: {'lambda_l1': 0.002124945346679483, 'lambda_l2': 0.040889058432963, 'num_leaves': 74, 'feature_fraction': 0.6916818997715402, 'bagging_fraction': 0.7287010040873139, 'bagging_freq': 6, 'min_child_samples': 50}. Best is trial 28 with value: 0.33654006371145595.\n",
      "[I 2024-10-14 21:11:36,719] Trial 34 finished with value: 0.29372070326701494 and parameters: {'lambda_l1': 0.009325718445791055, 'lambda_l2': 0.00850637448308292, 'num_leaves': 249, 'feature_fraction': 0.6504761396676668, 'bagging_fraction': 0.9207876332825111, 'bagging_freq': 7, 'min_child_samples': 37}. Best is trial 28 with value: 0.33654006371145595.\n",
      "[I 2024-10-14 21:11:43,209] Trial 35 finished with value: 0.30340245169590707 and parameters: {'lambda_l1': 8.657961220692031e-06, 'lambda_l2': 0.10129053308569613, 'num_leaves': 105, 'feature_fraction': 0.5203684220274646, 'bagging_fraction': 0.5405215760248236, 'bagging_freq': 1, 'min_child_samples': 29}. Best is trial 28 with value: 0.33654006371145595.\n",
      "[I 2024-10-14 21:11:50,592] Trial 36 finished with value: 0.3219726858670088 and parameters: {'lambda_l1': 0.0006111302509683172, 'lambda_l2': 0.3124323008833791, 'num_leaves': 146, 'feature_fraction': 0.6049071637090047, 'bagging_fraction': 0.6451395209580365, 'bagging_freq': 7, 'min_child_samples': 60}. Best is trial 28 with value: 0.33654006371145595.\n",
      "[I 2024-10-14 21:11:57,231] Trial 37 finished with value: 0.315736205925923 and parameters: {'lambda_l1': 4.09976504990113e-05, 'lambda_l2': 0.6242800334427533, 'num_leaves': 150, 'feature_fraction': 0.6951608879075128, 'bagging_fraction': 0.8281516301535934, 'bagging_freq': 6, 'min_child_samples': 63}. Best is trial 28 with value: 0.33654006371145595.\n",
      "[I 2024-10-14 21:12:02,667] Trial 38 finished with value: 0.3142346559081114 and parameters: {'lambda_l1': 0.0003339266683837606, 'lambda_l2': 1.005025534842678, 'num_leaves': 174, 'feature_fraction': 0.653529776903643, 'bagging_fraction': 0.6612145068717227, 'bagging_freq': 7, 'min_child_samples': 83}. Best is trial 28 with value: 0.33654006371145595.\n",
      "[I 2024-10-14 21:12:13,907] Trial 39 finished with value: 0.3089935986436302 and parameters: {'lambda_l1': 0.004292026659914045, 'lambda_l2': 0.0922561681556298, 'num_leaves': 144, 'feature_fraction': 0.5900614430144948, 'bagging_fraction': 0.7467330893232326, 'bagging_freq': 6, 'min_child_samples': 52}. Best is trial 28 with value: 0.33654006371145595.\n",
      "[I 2024-10-14 21:12:23,018] Trial 40 finished with value: 0.30290554479225706 and parameters: {'lambda_l1': 2.68956300845185e-06, 'lambda_l2': 5.713830551542502e-05, 'num_leaves': 190, 'feature_fraction': 0.5362685215418584, 'bagging_fraction': 0.8831922522247745, 'bagging_freq': 2, 'min_child_samples': 59}. Best is trial 28 with value: 0.33654006371145595.\n",
      "[I 2024-10-14 21:12:31,026] Trial 41 finished with value: 0.31787602933384396 and parameters: {'lambda_l1': 0.0004962382207895574, 'lambda_l2': 0.008072457696624333, 'num_leaves': 231, 'feature_fraction': 0.604022740971313, 'bagging_fraction': 0.6147564760359611, 'bagging_freq': 7, 'min_child_samples': 45}. Best is trial 28 with value: 0.33654006371145595.\n",
      "[I 2024-10-14 21:12:34,413] Trial 42 finished with value: 0.3286279035827073 and parameters: {'lambda_l1': 0.001351063914654643, 'lambda_l2': 0.0007884836774807811, 'num_leaves': 26, 'feature_fraction': 0.4842957622746852, 'bagging_fraction': 0.5590275759836544, 'bagging_freq': 7, 'min_child_samples': 17}. Best is trial 28 with value: 0.33654006371145595.\n",
      "[I 2024-10-14 21:12:37,971] Trial 43 finished with value: 0.3170033954324858 and parameters: {'lambda_l1': 0.02749543158824903, 'lambda_l2': 0.001001608831496791, 'num_leaves': 21, 'feature_fraction': 0.4799785314633932, 'bagging_fraction': 0.5201719311025255, 'bagging_freq': 7, 'min_child_samples': 15}. Best is trial 28 with value: 0.33654006371145595.\n",
      "[I 2024-10-14 21:12:43,217] Trial 44 finished with value: 0.30928254535588373 and parameters: {'lambda_l1': 0.0015055214948570075, 'lambda_l2': 0.04818217404990888, 'num_leaves': 121, 'feature_fraction': 0.41294967136166927, 'bagging_fraction': 0.5669079846294107, 'bagging_freq': 7, 'min_child_samples': 97}. Best is trial 28 with value: 0.33654006371145595.\n",
      "[I 2024-10-14 21:12:52,214] Trial 45 finished with value: 0.3000720994393924 and parameters: {'lambda_l1': 1.5418879429188589e-07, 'lambda_l2': 0.25284953296983687, 'num_leaves': 166, 'feature_fraction': 0.4728828600714058, 'bagging_fraction': 0.6955984678467543, 'bagging_freq': 6, 'min_child_samples': 56}. Best is trial 28 with value: 0.33654006371145595.\n",
      "[I 2024-10-14 21:12:56,138] Trial 46 finished with value: 0.31338266207679477 and parameters: {'lambda_l1': 0.07048857778746996, 'lambda_l2': 0.0009780132581394753, 'num_leaves': 27, 'feature_fraction': 0.5044307101308578, 'bagging_fraction': 0.6590452204368237, 'bagging_freq': 5, 'min_child_samples': 69}. Best is trial 28 with value: 0.33654006371145595.\n",
      "[I 2024-10-14 21:13:03,315] Trial 47 finished with value: 0.3197747899300777 and parameters: {'lambda_l1': 0.00010799595938916654, 'lambda_l2': 2.0031364354469274, 'num_leaves': 94, 'feature_fraction': 0.5576050676274511, 'bagging_fraction': 0.799053998157121, 'bagging_freq': 7, 'min_child_samples': 20}. Best is trial 28 with value: 0.33654006371145595.\n",
      "[I 2024-10-14 21:13:07,550] Trial 48 finished with value: 0.30021332568683756 and parameters: {'lambda_l1': 0.011136174674422118, 'lambda_l2': 2.6834204839849726e-06, 'num_leaves': 66, 'feature_fraction': 0.44188689473237475, 'bagging_fraction': 0.4904020714355559, 'bagging_freq': 6, 'min_child_samples': 49}. Best is trial 28 with value: 0.33654006371145595.\n",
      "[I 2024-10-14 21:13:12,796] Trial 49 finished with value: 0.31175873245139574 and parameters: {'lambda_l1': 0.003150790115230805, 'lambda_l2': 9.767887996268144e-05, 'num_leaves': 190, 'feature_fraction': 0.6729541122946915, 'bagging_fraction': 0.6800819008202077, 'bagging_freq': 7, 'min_child_samples': 75}. Best is trial 28 with value: 0.33654006371145595.\n",
      "[I 2024-10-14 21:13:17,937] Trial 50 finished with value: 0.3195777335989153 and parameters: {'lambda_l1': 0.00026537253723703296, 'lambda_l2': 0.000449818744817622, 'num_leaves': 113, 'feature_fraction': 0.9807886485752901, 'bagging_fraction': 0.6369177237041068, 'bagging_freq': 6, 'min_child_samples': 65}. Best is trial 28 with value: 0.33654006371145595.\n",
      "[I 2024-10-14 21:13:21,523] Trial 51 finished with value: 0.3060752356681411 and parameters: {'lambda_l1': 0.0011084220954055198, 'lambda_l2': 0.008429273609654078, 'num_leaves': 49, 'feature_fraction': 0.6361519393946964, 'bagging_fraction': 0.44415154745833046, 'bagging_freq': 7, 'min_child_samples': 35}. Best is trial 28 with value: 0.33654006371145595.\n",
      "[I 2024-10-14 21:13:23,274] Trial 52 finished with value: 0.3170614417288895 and parameters: {'lambda_l1': 0.005510751265095242, 'lambda_l2': 0.019316013275575323, 'num_leaves': 10, 'feature_fraction': 0.5657122103396183, 'bagging_fraction': 0.6088436509138752, 'bagging_freq': 7, 'min_child_samples': 42}. Best is trial 28 with value: 0.33654006371145595.\n",
      "[I 2024-10-14 21:13:27,796] Trial 53 finished with value: 0.32228879034024893 and parameters: {'lambda_l1': 0.0004388627932129813, 'lambda_l2': 0.0017146923188475797, 'num_leaves': 60, 'feature_fraction': 0.6096867115626046, 'bagging_fraction': 0.577591381942287, 'bagging_freq': 7, 'min_child_samples': 27}. Best is trial 28 with value: 0.33654006371145595.\n",
      "[I 2024-10-14 21:13:33,132] Trial 54 finished with value: 0.3264384267482676 and parameters: {'lambda_l1': 0.0003984099503960586, 'lambda_l2': 0.0018958852759075645, 'num_leaves': 63, 'feature_fraction': 0.7153623874528006, 'bagging_fraction': 0.56616911136226, 'bagging_freq': 7, 'min_child_samples': 26}. Best is trial 28 with value: 0.33654006371145595.\n",
      "[I 2024-10-14 21:13:38,310] Trial 55 finished with value: 0.3049218069824047 and parameters: {'lambda_l1': 3.689673244832797e-05, 'lambda_l2': 0.0017078374758598088, 'num_leaves': 64, 'feature_fraction': 0.7676049707760757, 'bagging_fraction': 0.531759032263991, 'bagging_freq': 7, 'min_child_samples': 27}. Best is trial 28 with value: 0.33654006371145595.\n",
      "[I 2024-10-14 21:13:42,061] Trial 56 finished with value: 0.3203206211245696 and parameters: {'lambda_l1': 0.00026689978459729167, 'lambda_l2': 2.2605747543619316e-05, 'num_leaves': 27, 'feature_fraction': 0.7933749451608072, 'bagging_fraction': 0.5678602390444081, 'bagging_freq': 5, 'min_child_samples': 17}. Best is trial 28 with value: 0.33654006371145595.\n",
      "[I 2024-10-14 21:13:46,816] Trial 57 finished with value: 0.31416090560468923 and parameters: {'lambda_l1': 1.297858354920845e-05, 'lambda_l2': 0.004707425666915724, 'num_leaves': 79, 'feature_fraction': 0.85953981062761, 'bagging_fraction': 0.5021708985062393, 'bagging_freq': 6, 'min_child_samples': 10}. Best is trial 28 with value: 0.33654006371145595.\n",
      "[I 2024-10-14 21:13:51,509] Trial 58 finished with value: 0.30876619854190923 and parameters: {'lambda_l1': 0.0019771765854912334, 'lambda_l2': 0.0001619923202764779, 'num_leaves': 57, 'feature_fraction': 0.8217017108793183, 'bagging_fraction': 0.5524126177562041, 'bagging_freq': 7, 'min_child_samples': 26}. Best is trial 28 with value: 0.33654006371145595.\n",
      "[I 2024-10-14 21:13:54,191] Trial 59 finished with value: 0.32816801927087635 and parameters: {'lambda_l1': 0.02968865584239575, 'lambda_l2': 0.0005876460975975575, 'num_leaves': 13, 'feature_fraction': 0.7535664415593267, 'bagging_fraction': 0.5815889348845233, 'bagging_freq': 7, 'min_child_samples': 36}. Best is trial 28 with value: 0.33654006371145595.\n",
      "[I 2024-10-14 21:13:56,422] Trial 60 finished with value: 0.3377390140424946 and parameters: {'lambda_l1': 0.1773943725748066, 'lambda_l2': 0.0005343709039546058, 'num_leaves': 12, 'feature_fraction': 0.756793379577987, 'bagging_fraction': 0.597727218300172, 'bagging_freq': 6, 'min_child_samples': 37}. Best is trial 60 with value: 0.3377390140424946.\n",
      "[I 2024-10-14 21:13:58,322] Trial 61 finished with value: 0.3193791549875784 and parameters: {'lambda_l1': 0.2572011942061549, 'lambda_l2': 0.00042191622717154426, 'num_leaves': 12, 'feature_fraction': 0.7234426846867611, 'bagging_fraction': 0.5968767292485678, 'bagging_freq': 7, 'min_child_samples': 36}. Best is trial 60 with value: 0.3377390140424946.\n",
      "[I 2024-10-14 21:14:01,112] Trial 62 finished with value: 0.3184742345227196 and parameters: {'lambda_l1': 0.03897232736504695, 'lambda_l2': 0.0006120481286821265, 'num_leaves': 27, 'feature_fraction': 0.7703524915152761, 'bagging_fraction': 0.7154427702358224, 'bagging_freq': 6, 'min_child_samples': 39}. Best is trial 60 with value: 0.3377390140424946.\n",
      "[I 2024-10-14 21:14:04,019] Trial 63 finished with value: 0.3103791085227081 and parameters: {'lambda_l1': 0.22278308497187782, 'lambda_l2': 3.704060471458492e-05, 'num_leaves': 18, 'feature_fraction': 0.7512536401450838, 'bagging_fraction': 0.5420972664409187, 'bagging_freq': 7, 'min_child_samples': 44}. Best is trial 60 with value: 0.3377390140424946.\n",
      "[I 2024-10-14 21:14:08,218] Trial 64 finished with value: 0.3145973468570933 and parameters: {'lambda_l1': 0.01755595498172654, 'lambda_l2': 0.00024187306525830801, 'num_leaves': 44, 'feature_fraction': 0.8162462245557502, 'bagging_fraction': 0.5843670429051043, 'bagging_freq': 6, 'min_child_samples': 19}. Best is trial 60 with value: 0.3377390140424946.\n",
      "[I 2024-10-14 21:14:11,922] Trial 65 finished with value: 0.33447361720097757 and parameters: {'lambda_l1': 0.08365871096374494, 'lambda_l2': 0.003505457501793129, 'num_leaves': 33, 'feature_fraction': 0.7125386765908591, 'bagging_fraction': 0.6216868506609643, 'bagging_freq': 7, 'min_child_samples': 24}. Best is trial 60 with value: 0.3377390140424946.\n",
      "[I 2024-10-14 21:14:15,408] Trial 66 finished with value: 0.31634571530729805 and parameters: {'lambda_l1': 0.08726591311920566, 'lambda_l2': 0.004218155317402497, 'num_leaves': 31, 'feature_fraction': 0.711659437300598, 'bagging_fraction': 0.6658521556391859, 'bagging_freq': 7, 'min_child_samples': 24}. Best is trial 60 with value: 0.3377390140424946.\n",
      "[I 2024-10-14 21:14:17,383] Trial 67 finished with value: 0.32065183906230743 and parameters: {'lambda_l1': 0.22458565194337088, 'lambda_l2': 0.00668954033655311, 'num_leaves': 17, 'feature_fraction': 0.7461382730556594, 'bagging_fraction': 0.5225073991544751, 'bagging_freq': 6, 'min_child_samples': 14}. Best is trial 60 with value: 0.3377390140424946.\n",
      "[I 2024-10-14 21:14:18,905] Trial 68 finished with value: 0.32236571118877577 and parameters: {'lambda_l1': 0.05764429198710996, 'lambda_l2': 0.002512725245440889, 'num_leaves': 5, 'feature_fraction': 0.8371614951404365, 'bagging_fraction': 0.7591540424677509, 'bagging_freq': 7, 'min_child_samples': 8}. Best is trial 60 with value: 0.3377390140424946.\n",
      "[I 2024-10-14 21:14:22,270] Trial 69 finished with value: 0.31058467842444404 and parameters: {'lambda_l1': 3.019012498128255, 'lambda_l2': 1.1891019627293945e-07, 'num_leaves': 42, 'feature_fraction': 0.9028461356742797, 'bagging_fraction': 0.6045655332752846, 'bagging_freq': 3, 'min_child_samples': 29}. Best is trial 60 with value: 0.3377390140424946.\n",
      "[I 2024-10-14 21:14:24,416] Trial 70 finished with value: 0.31950311933268793 and parameters: {'lambda_l1': 1.8009983584175802, 'lambda_l2': 0.0374506380350848, 'num_leaves': 15, 'feature_fraction': 0.7924373325906149, 'bagging_fraction': 0.4551594090484484, 'bagging_freq': 7, 'min_child_samples': 34}. Best is trial 60 with value: 0.3377390140424946.\n",
      "[I 2024-10-14 21:14:28,619] Trial 71 finished with value: 0.3157050202607298 and parameters: {'lambda_l1': 0.006317864778446434, 'lambda_l2': 0.0006635282756278075, 'num_leaves': 52, 'feature_fraction': 0.6785480177824901, 'bagging_fraction': 0.6263608783342369, 'bagging_freq': 7, 'min_child_samples': 38}. Best is trial 60 with value: 0.3377390140424946.\n",
      "[I 2024-10-14 21:14:31,064] Trial 72 finished with value: 0.3230486679867467 and parameters: {'lambda_l1': 0.01665415329760647, 'lambda_l2': 0.00010277824998418512, 'num_leaves': 22, 'feature_fraction': 0.7137426773091444, 'bagging_fraction': 0.7139100450303487, 'bagging_freq': 7, 'min_child_samples': 30}. Best is trial 60 with value: 0.3377390140424946.\n",
      "[I 2024-10-14 21:14:34,237] Trial 73 finished with value: 0.31985911456125693 and parameters: {'lambda_l1': 0.03161094571866765, 'lambda_l2': 0.013302189680864234, 'num_leaves': 35, 'feature_fraction': 0.7563348584691196, 'bagging_fraction': 0.5633614703343436, 'bagging_freq': 4, 'min_child_samples': 21}. Best is trial 60 with value: 0.3377390140424946.\n",
      "[I 2024-10-14 21:14:37,885] Trial 74 finished with value: 0.3099577494658551 and parameters: {'lambda_l1': 0.1503261545332322, 'lambda_l2': 0.0013553779397186916, 'num_leaves': 45, 'feature_fraction': 0.6963154917486524, 'bagging_fraction': 0.6468803065486284, 'bagging_freq': 7, 'min_child_samples': 47}. Best is trial 60 with value: 0.3377390140424946.\n",
      "[I 2024-10-14 21:14:39,189] Trial 75 finished with value: 0.2966029390185533 and parameters: {'lambda_l1': 0.002581637457190049, 'lambda_l2': 0.0003213804831812184, 'num_leaves': 3, 'feature_fraction': 0.7813139899923023, 'bagging_fraction': 0.5881243265049906, 'bagging_freq': 6, 'min_child_samples': 32}. Best is trial 60 with value: 0.3377390140424946.\n",
      "[I 2024-10-14 21:14:42,733] Trial 76 finished with value: 0.3254299033608242 and parameters: {'lambda_l1': 0.6687840065045157, 'lambda_l2': 0.003396887993896563, 'num_leaves': 34, 'feature_fraction': 0.6815029823832469, 'bagging_fraction': 0.6179814123706693, 'bagging_freq': 7, 'min_child_samples': 41}. Best is trial 60 with value: 0.3377390140424946.\n",
      "[I 2024-10-14 21:14:46,266] Trial 77 finished with value: 0.3359533084432694 and parameters: {'lambda_l1': 0.8889862174770321, 'lambda_l2': 0.002943084452439211, 'num_leaves': 30, 'feature_fraction': 0.6736329105164679, 'bagging_fraction': 0.6876068288952735, 'bagging_freq': 7, 'min_child_samples': 41}. Best is trial 60 with value: 0.3377390140424946.\n",
      "[I 2024-10-14 21:14:48,081] Trial 78 finished with value: 0.31062028195089675 and parameters: {'lambda_l1': 0.9330075898894181, 'lambda_l2': 0.025258317300096443, 'num_leaves': 10, 'feature_fraction': 0.7252280019028386, 'bagging_fraction': 0.740769313929182, 'bagging_freq': 6, 'min_child_samples': 23}. Best is trial 60 with value: 0.3377390140424946.\n",
      "[I 2024-10-14 21:14:50,897] Trial 79 finished with value: 0.31610318524192516 and parameters: {'lambda_l1': 0.33516858407257216, 'lambda_l2': 0.0001552745029641583, 'num_leaves': 27, 'feature_fraction': 0.658036884975605, 'bagging_fraction': 0.6795354865596837, 'bagging_freq': 7, 'min_child_samples': 53}. Best is trial 60 with value: 0.3377390140424946.\n",
      "[I 2024-10-14 21:14:54,727] Trial 80 finished with value: 0.30932292441112186 and parameters: {'lambda_l1': 3.7318907189271515, 'lambda_l2': 0.07294774048861842, 'num_leaves': 69, 'feature_fraction': 0.7068461694055171, 'bagging_fraction': 0.6965845219989034, 'bagging_freq': 7, 'min_child_samples': 42}. Best is trial 60 with value: 0.3377390140424946.\n",
      "[I 2024-10-14 21:14:57,483] Trial 81 finished with value: 0.3320815777721159 and parameters: {'lambda_l1': 1.0811762506054536, 'lambda_l2': 0.0041515433502291674, 'num_leaves': 35, 'feature_fraction': 0.6781798121297923, 'bagging_fraction': 0.5515222215939167, 'bagging_freq': 7, 'min_child_samples': 46}. Best is trial 60 with value: 0.3377390140424946.\n",
      "[I 2024-10-14 21:15:00,240] Trial 82 finished with value: 0.31403695725998626 and parameters: {'lambda_l1': 0.9908706809732091, 'lambda_l2': 0.01219548486863171, 'num_leaves': 22, 'feature_fraction': 0.6409681609853087, 'bagging_fraction': 0.5498924533347727, 'bagging_freq': 7, 'min_child_samples': 46}. Best is trial 60 with value: 0.3377390140424946.\n",
      "[I 2024-10-14 21:15:04,127] Trial 83 finished with value: 0.31956644256745703 and parameters: {'lambda_l1': 1.8962727159065396, 'lambda_l2': 0.0022555618245209126, 'num_leaves': 39, 'feature_fraction': 0.670776011226042, 'bagging_fraction': 0.5008105196242604, 'bagging_freq': 7, 'min_child_samples': 51}. Best is trial 60 with value: 0.3377390140424946.\n",
      "[I 2024-10-14 21:15:07,129] Trial 84 finished with value: 0.3168049622788426 and parameters: {'lambda_l1': 0.3930320274210541, 'lambda_l2': 0.006047513161797908, 'num_leaves': 29, 'feature_fraction': 0.7255068528295562, 'bagging_fraction': 0.5743417159192487, 'bagging_freq': 7, 'min_child_samples': 12}. Best is trial 60 with value: 0.3377390140424946.\n",
      "[I 2024-10-14 21:15:09,099] Trial 85 finished with value: 0.31638191826744555 and parameters: {'lambda_l1': 6.250901393961423, 'lambda_l2': 0.0008905008845874028, 'num_leaves': 13, 'feature_fraction': 0.7373406977577831, 'bagging_fraction': 0.5288881626218258, 'bagging_freq': 7, 'min_child_samples': 89}. Best is trial 60 with value: 0.3377390140424946.\n",
      "[I 2024-10-14 21:15:13,678] Trial 86 finished with value: 0.33128831966157546 and parameters: {'lambda_l1': 0.10276931920587513, 'lambda_l2': 0.06357790189377167, 'num_leaves': 48, 'feature_fraction': 0.6870485992055532, 'bagging_fraction': 0.7250288043862996, 'bagging_freq': 6, 'min_child_samples': 48}. Best is trial 60 with value: 0.3377390140424946.\n",
      "[I 2024-10-14 21:15:17,691] Trial 87 finished with value: 0.31317514857085527 and parameters: {'lambda_l1': 0.09219302254125883, 'lambda_l2': 0.15589317951510437, 'num_leaves': 48, 'feature_fraction': 0.66391223392641, 'bagging_fraction': 0.773753340736366, 'bagging_freq': 5, 'min_child_samples': 53}. Best is trial 60 with value: 0.3377390140424946.\n",
      "[I 2024-10-14 21:15:22,191] Trial 88 finished with value: 0.32729978938979243 and parameters: {'lambda_l1': 0.14333616810761016, 'lambda_l2': 0.063845324884697, 'num_leaves': 39, 'feature_fraction': 0.6929009671844931, 'bagging_fraction': 0.7218971075428996, 'bagging_freq': 6, 'min_child_samples': 48}. Best is trial 60 with value: 0.3377390140424946.\n",
      "[I 2024-10-14 21:15:23,116] Trial 89 finished with value: 0.2563115408207016 and parameters: {'lambda_l1': 9.145791257937644, 'lambda_l2': 0.012394863291150039, 'num_leaves': 2, 'feature_fraction': 0.811617529385473, 'bagging_fraction': 0.7575840831473134, 'bagging_freq': 6, 'min_child_samples': 56}. Best is trial 60 with value: 0.3377390140424946.\n",
      "[I 2024-10-14 21:15:25,815] Trial 90 finished with value: 0.31800006164850025 and parameters: {'lambda_l1': 0.5328061429703471, 'lambda_l2': 0.12596945466668674, 'num_leaves': 23, 'feature_fraction': 0.8852975931006433, 'bagging_fraction': 0.7968239499391411, 'bagging_freq': 6, 'min_child_samples': 42}. Best is trial 60 with value: 0.3377390140424946.\n",
      "[I 2024-10-14 21:15:29,377] Trial 91 finished with value: 0.31191445260011985 and parameters: {'lambda_l1': 0.15871741766681158, 'lambda_l2': 0.05950156291966193, 'num_leaves': 39, 'feature_fraction': 0.684064116345707, 'bagging_fraction': 0.7255754857939427, 'bagging_freq': 5, 'min_child_samples': 47}. Best is trial 60 with value: 0.3377390140424946.\n",
      "[I 2024-10-14 21:15:32,758] Trial 92 finished with value: 0.30926056585988937 and parameters: {'lambda_l1': 0.13764495283680722, 'lambda_l2': 0.037881384565467704, 'num_leaves': 33, 'feature_fraction': 0.6980208978618705, 'bagging_fraction': 0.708525751088611, 'bagging_freq': 6, 'min_child_samples': 49}. Best is trial 60 with value: 0.3377390140424946.\n",
      "[I 2024-10-14 21:15:37,206] Trial 93 finished with value: 0.32433397217526694 and parameters: {'lambda_l1': 1.262865411220897, 'lambda_l2': 0.026151540747130456, 'num_leaves': 55, 'feature_fraction': 0.6278333626466538, 'bagging_fraction': 0.7508728147277662, 'bagging_freq': 5, 'min_child_samples': 44}. Best is trial 60 with value: 0.3377390140424946.\n",
      "[I 2024-10-14 21:15:39,927] Trial 94 finished with value: 0.31611953444801333 and parameters: {'lambda_l1': 0.05694248029374875, 'lambda_l2': 0.21754959190359344, 'num_leaves': 19, 'feature_fraction': 0.6438496085483436, 'bagging_fraction': 0.7282908725290522, 'bagging_freq': 2, 'min_child_samples': 37}. Best is trial 60 with value: 0.3377390140424946.\n",
      "[I 2024-10-14 21:15:41,917] Trial 95 finished with value: 0.3237145952281829 and parameters: {'lambda_l1': 0.02350298543935459, 'lambda_l2': 0.6295112842118792, 'num_leaves': 10, 'feature_fraction': 0.8485127665051457, 'bagging_fraction': 0.6905616326248446, 'bagging_freq': 6, 'min_child_samples': 49}. Best is trial 60 with value: 0.3377390140424946.\n",
      "[I 2024-10-14 21:15:47,184] Trial 96 finished with value: 0.30593373221614173 and parameters: {'lambda_l1': 0.04779132690724997, 'lambda_l2': 0.004918243010841299, 'num_leaves': 205, 'feature_fraction': 0.7569228422780231, 'bagging_fraction': 0.6507801601580161, 'bagging_freq': 7, 'min_child_samples': 58}. Best is trial 60 with value: 0.3377390140424946.\n",
      "[I 2024-10-14 21:15:50,306] Trial 97 finished with value: 0.3303167790897562 and parameters: {'lambda_l1': 0.011289163270451423, 'lambda_l2': 0.017924388659039277, 'num_leaves': 33, 'feature_fraction': 0.6920395852491757, 'bagging_fraction': 0.6634507458575575, 'bagging_freq': 6, 'min_child_samples': 34}. Best is trial 60 with value: 0.3377390140424946.\n",
      "[I 2024-10-14 21:15:53,180] Trial 98 finished with value: 0.30264644175579525 and parameters: {'lambda_l1': 0.011228400112129463, 'lambda_l2': 0.021068248569470625, 'num_leaves': 31, 'feature_fraction': 0.4257714960543295, 'bagging_fraction': 0.6702517029454025, 'bagging_freq': 7, 'min_child_samples': 34}. Best is trial 60 with value: 0.3377390140424946.\n",
      "[I 2024-10-14 21:15:57,328] Trial 99 finished with value: 0.3195384146716479 and parameters: {'lambda_l1': 0.0013568393543014548, 'lambda_l2': 0.0029019565789100564, 'num_leaves': 47, 'feature_fraction': 0.6622894636682475, 'bagging_fraction': 0.5994917822209359, 'bagging_freq': 4, 'min_child_samples': 40}. Best is trial 60 with value: 0.3377390140424946.\n"
     ]
    }
   ],
   "source": [
    "#Defino el estudio a optimizar\n",
    "study = optuna.create_study(direction='maximize', #buscamos maximizar la metrica\n",
    "                            storage=\"sqlite:///db.sqlite3\",  #generar una base sqlite\n",
    "                            study_name=\"04 - LGB Multiclass\", #nombre del experimento\n",
    "                            load_if_exists=True) #continuar si ya existe\n",
    "\n",
    "#Corremos 100 trials para buscar mejores parametros\n",
    "study.optimize(lgb_objective, n_trials=100)"
   ]
  },
  {
   "cell_type": "code",
   "execution_count": 29,
   "metadata": {},
   "outputs": [
    {
     "data": {
      "text/plain": [
       "{'lambda_l1': 0.1773943725748066,\n",
       " 'lambda_l2': 0.0005343709039546058,\n",
       " 'num_leaves': 12,\n",
       " 'feature_fraction': 0.756793379577987,\n",
       " 'bagging_fraction': 0.597727218300172,\n",
       " 'bagging_freq': 6,\n",
       " 'min_child_samples': 37}"
      ]
     },
     "execution_count": 29,
     "metadata": {},
     "output_type": "execute_result"
    }
   ],
   "source": [
    "#Obtenemos mejor resultado\n",
    "study.best_params"
   ]
  },
  {
   "cell_type": "code",
   "execution_count": 30,
   "metadata": {},
   "outputs": [
    {
     "data": {
      "application/vnd.plotly.v1+json": {
       "config": {
        "plotlyServerURL": "https://plot.ly"
       },
       "data": [
        {
         "type": "heatmap",
         "x": [
          0,
          1,
          2,
          3,
          4
         ],
         "y": [
          0,
          1,
          2,
          3,
          4
         ],
         "z": [
          [
           4.878048780487805,
           39.02439024390244,
           28.04878048780488,
           8.536585365853659,
           19.51219512195122
          ],
          [
           0.9708737864077669,
           33.49514563106796,
           38.996763754045304,
           5.9870550161812295,
           20.550161812297734
          ],
          [
           0.37174721189591076,
           22.800495662949196,
           38.04213135068154,
           10.90458488228005,
           27.881040892193308
          ],
          [
           0,
           15.644171779141105,
           38.036809815950924,
           16.257668711656443,
           30.061349693251532
          ],
          [
           0,
           10,
           21.30952380952381,
           6.309523809523809,
           62.38095238095238
          ]
         ]
        }
       ],
       "layout": {
        "annotations": [
         {
          "font": {
           "color": "white"
          },
          "showarrow": false,
          "text": "4.9 - 4",
          "x": 0,
          "xref": "x",
          "y": 0,
          "yref": "y"
         },
         {
          "font": {
           "color": "white"
          },
          "showarrow": false,
          "text": "39.0 - 32",
          "x": 1,
          "xref": "x",
          "y": 0,
          "yref": "y"
         },
         {
          "font": {
           "color": "white"
          },
          "showarrow": false,
          "text": "28.0 - 23",
          "x": 2,
          "xref": "x",
          "y": 0,
          "yref": "y"
         },
         {
          "font": {
           "color": "white"
          },
          "showarrow": false,
          "text": "8.5 - 7",
          "x": 3,
          "xref": "x",
          "y": 0,
          "yref": "y"
         },
         {
          "font": {
           "color": "white"
          },
          "showarrow": false,
          "text": "19.5 - 16",
          "x": 4,
          "xref": "x",
          "y": 0,
          "yref": "y"
         },
         {
          "font": {
           "color": "white"
          },
          "showarrow": false,
          "text": "1.0 - 6",
          "x": 0,
          "xref": "x",
          "y": 1,
          "yref": "y"
         },
         {
          "font": {
           "color": "white"
          },
          "showarrow": false,
          "text": "33.5 - 207",
          "x": 1,
          "xref": "x",
          "y": 1,
          "yref": "y"
         },
         {
          "font": {
           "color": "white"
          },
          "showarrow": false,
          "text": "39.0 - 241",
          "x": 2,
          "xref": "x",
          "y": 1,
          "yref": "y"
         },
         {
          "font": {
           "color": "white"
          },
          "showarrow": false,
          "text": "6.0 - 37",
          "x": 3,
          "xref": "x",
          "y": 1,
          "yref": "y"
         },
         {
          "font": {
           "color": "white"
          },
          "showarrow": false,
          "text": "20.6 - 127",
          "x": 4,
          "xref": "x",
          "y": 1,
          "yref": "y"
         },
         {
          "font": {
           "color": "white"
          },
          "showarrow": false,
          "text": "0.4 - 3",
          "x": 0,
          "xref": "x",
          "y": 2,
          "yref": "y"
         },
         {
          "font": {
           "color": "white"
          },
          "showarrow": false,
          "text": "22.8 - 184",
          "x": 1,
          "xref": "x",
          "y": 2,
          "yref": "y"
         },
         {
          "font": {
           "color": "white"
          },
          "showarrow": false,
          "text": "38.0 - 307",
          "x": 2,
          "xref": "x",
          "y": 2,
          "yref": "y"
         },
         {
          "font": {
           "color": "white"
          },
          "showarrow": false,
          "text": "10.9 - 88",
          "x": 3,
          "xref": "x",
          "y": 2,
          "yref": "y"
         },
         {
          "font": {
           "color": "white"
          },
          "showarrow": false,
          "text": "27.9 - 225",
          "x": 4,
          "xref": "x",
          "y": 2,
          "yref": "y"
         },
         {
          "font": {
           "color": "white"
          },
          "showarrow": false,
          "text": "0.0 - 0",
          "x": 0,
          "xref": "x",
          "y": 3,
          "yref": "y"
         },
         {
          "font": {
           "color": "white"
          },
          "showarrow": false,
          "text": "15.6 - 102",
          "x": 1,
          "xref": "x",
          "y": 3,
          "yref": "y"
         },
         {
          "font": {
           "color": "white"
          },
          "showarrow": false,
          "text": "38.0 - 248",
          "x": 2,
          "xref": "x",
          "y": 3,
          "yref": "y"
         },
         {
          "font": {
           "color": "white"
          },
          "showarrow": false,
          "text": "16.3 - 106",
          "x": 3,
          "xref": "x",
          "y": 3,
          "yref": "y"
         },
         {
          "font": {
           "color": "white"
          },
          "showarrow": false,
          "text": "30.1 - 196",
          "x": 4,
          "xref": "x",
          "y": 3,
          "yref": "y"
         },
         {
          "font": {
           "color": "white"
          },
          "showarrow": false,
          "text": "0.0 - 0",
          "x": 0,
          "xref": "x",
          "y": 4,
          "yref": "y"
         },
         {
          "font": {
           "color": "white"
          },
          "showarrow": false,
          "text": "10.0 - 84",
          "x": 1,
          "xref": "x",
          "y": 4,
          "yref": "y"
         },
         {
          "font": {
           "color": "white"
          },
          "showarrow": false,
          "text": "21.3 - 179",
          "x": 2,
          "xref": "x",
          "y": 4,
          "yref": "y"
         },
         {
          "font": {
           "color": "white"
          },
          "showarrow": false,
          "text": "6.3 - 53",
          "x": 3,
          "xref": "x",
          "y": 4,
          "yref": "y"
         },
         {
          "font": {
           "color": "white"
          },
          "showarrow": false,
          "text": "62.4 - 524",
          "x": 4,
          "xref": "x",
          "y": 4,
          "yref": "y"
         }
        ],
        "height": 800,
        "template": {
         "data": {
          "bar": [
           {
            "error_x": {
             "color": "#2a3f5f"
            },
            "error_y": {
             "color": "#2a3f5f"
            },
            "marker": {
             "line": {
              "color": "#E5ECF6",
              "width": 0.5
             },
             "pattern": {
              "fillmode": "overlay",
              "size": 10,
              "solidity": 0.2
             }
            },
            "type": "bar"
           }
          ],
          "barpolar": [
           {
            "marker": {
             "line": {
              "color": "#E5ECF6",
              "width": 0.5
             },
             "pattern": {
              "fillmode": "overlay",
              "size": 10,
              "solidity": 0.2
             }
            },
            "type": "barpolar"
           }
          ],
          "carpet": [
           {
            "aaxis": {
             "endlinecolor": "#2a3f5f",
             "gridcolor": "white",
             "linecolor": "white",
             "minorgridcolor": "white",
             "startlinecolor": "#2a3f5f"
            },
            "baxis": {
             "endlinecolor": "#2a3f5f",
             "gridcolor": "white",
             "linecolor": "white",
             "minorgridcolor": "white",
             "startlinecolor": "#2a3f5f"
            },
            "type": "carpet"
           }
          ],
          "choropleth": [
           {
            "colorbar": {
             "outlinewidth": 0,
             "ticks": ""
            },
            "type": "choropleth"
           }
          ],
          "contour": [
           {
            "colorbar": {
             "outlinewidth": 0,
             "ticks": ""
            },
            "colorscale": [
             [
              0,
              "#0d0887"
             ],
             [
              0.1111111111111111,
              "#46039f"
             ],
             [
              0.2222222222222222,
              "#7201a8"
             ],
             [
              0.3333333333333333,
              "#9c179e"
             ],
             [
              0.4444444444444444,
              "#bd3786"
             ],
             [
              0.5555555555555556,
              "#d8576b"
             ],
             [
              0.6666666666666666,
              "#ed7953"
             ],
             [
              0.7777777777777778,
              "#fb9f3a"
             ],
             [
              0.8888888888888888,
              "#fdca26"
             ],
             [
              1,
              "#f0f921"
             ]
            ],
            "type": "contour"
           }
          ],
          "contourcarpet": [
           {
            "colorbar": {
             "outlinewidth": 0,
             "ticks": ""
            },
            "type": "contourcarpet"
           }
          ],
          "heatmap": [
           {
            "colorbar": {
             "outlinewidth": 0,
             "ticks": ""
            },
            "colorscale": [
             [
              0,
              "#0d0887"
             ],
             [
              0.1111111111111111,
              "#46039f"
             ],
             [
              0.2222222222222222,
              "#7201a8"
             ],
             [
              0.3333333333333333,
              "#9c179e"
             ],
             [
              0.4444444444444444,
              "#bd3786"
             ],
             [
              0.5555555555555556,
              "#d8576b"
             ],
             [
              0.6666666666666666,
              "#ed7953"
             ],
             [
              0.7777777777777778,
              "#fb9f3a"
             ],
             [
              0.8888888888888888,
              "#fdca26"
             ],
             [
              1,
              "#f0f921"
             ]
            ],
            "type": "heatmap"
           }
          ],
          "heatmapgl": [
           {
            "colorbar": {
             "outlinewidth": 0,
             "ticks": ""
            },
            "colorscale": [
             [
              0,
              "#0d0887"
             ],
             [
              0.1111111111111111,
              "#46039f"
             ],
             [
              0.2222222222222222,
              "#7201a8"
             ],
             [
              0.3333333333333333,
              "#9c179e"
             ],
             [
              0.4444444444444444,
              "#bd3786"
             ],
             [
              0.5555555555555556,
              "#d8576b"
             ],
             [
              0.6666666666666666,
              "#ed7953"
             ],
             [
              0.7777777777777778,
              "#fb9f3a"
             ],
             [
              0.8888888888888888,
              "#fdca26"
             ],
             [
              1,
              "#f0f921"
             ]
            ],
            "type": "heatmapgl"
           }
          ],
          "histogram": [
           {
            "marker": {
             "pattern": {
              "fillmode": "overlay",
              "size": 10,
              "solidity": 0.2
             }
            },
            "type": "histogram"
           }
          ],
          "histogram2d": [
           {
            "colorbar": {
             "outlinewidth": 0,
             "ticks": ""
            },
            "colorscale": [
             [
              0,
              "#0d0887"
             ],
             [
              0.1111111111111111,
              "#46039f"
             ],
             [
              0.2222222222222222,
              "#7201a8"
             ],
             [
              0.3333333333333333,
              "#9c179e"
             ],
             [
              0.4444444444444444,
              "#bd3786"
             ],
             [
              0.5555555555555556,
              "#d8576b"
             ],
             [
              0.6666666666666666,
              "#ed7953"
             ],
             [
              0.7777777777777778,
              "#fb9f3a"
             ],
             [
              0.8888888888888888,
              "#fdca26"
             ],
             [
              1,
              "#f0f921"
             ]
            ],
            "type": "histogram2d"
           }
          ],
          "histogram2dcontour": [
           {
            "colorbar": {
             "outlinewidth": 0,
             "ticks": ""
            },
            "colorscale": [
             [
              0,
              "#0d0887"
             ],
             [
              0.1111111111111111,
              "#46039f"
             ],
             [
              0.2222222222222222,
              "#7201a8"
             ],
             [
              0.3333333333333333,
              "#9c179e"
             ],
             [
              0.4444444444444444,
              "#bd3786"
             ],
             [
              0.5555555555555556,
              "#d8576b"
             ],
             [
              0.6666666666666666,
              "#ed7953"
             ],
             [
              0.7777777777777778,
              "#fb9f3a"
             ],
             [
              0.8888888888888888,
              "#fdca26"
             ],
             [
              1,
              "#f0f921"
             ]
            ],
            "type": "histogram2dcontour"
           }
          ],
          "mesh3d": [
           {
            "colorbar": {
             "outlinewidth": 0,
             "ticks": ""
            },
            "type": "mesh3d"
           }
          ],
          "parcoords": [
           {
            "line": {
             "colorbar": {
              "outlinewidth": 0,
              "ticks": ""
             }
            },
            "type": "parcoords"
           }
          ],
          "pie": [
           {
            "automargin": true,
            "type": "pie"
           }
          ],
          "scatter": [
           {
            "fillpattern": {
             "fillmode": "overlay",
             "size": 10,
             "solidity": 0.2
            },
            "type": "scatter"
           }
          ],
          "scatter3d": [
           {
            "line": {
             "colorbar": {
              "outlinewidth": 0,
              "ticks": ""
             }
            },
            "marker": {
             "colorbar": {
              "outlinewidth": 0,
              "ticks": ""
             }
            },
            "type": "scatter3d"
           }
          ],
          "scattercarpet": [
           {
            "marker": {
             "colorbar": {
              "outlinewidth": 0,
              "ticks": ""
             }
            },
            "type": "scattercarpet"
           }
          ],
          "scattergeo": [
           {
            "marker": {
             "colorbar": {
              "outlinewidth": 0,
              "ticks": ""
             }
            },
            "type": "scattergeo"
           }
          ],
          "scattergl": [
           {
            "marker": {
             "colorbar": {
              "outlinewidth": 0,
              "ticks": ""
             }
            },
            "type": "scattergl"
           }
          ],
          "scattermapbox": [
           {
            "marker": {
             "colorbar": {
              "outlinewidth": 0,
              "ticks": ""
             }
            },
            "type": "scattermapbox"
           }
          ],
          "scatterpolar": [
           {
            "marker": {
             "colorbar": {
              "outlinewidth": 0,
              "ticks": ""
             }
            },
            "type": "scatterpolar"
           }
          ],
          "scatterpolargl": [
           {
            "marker": {
             "colorbar": {
              "outlinewidth": 0,
              "ticks": ""
             }
            },
            "type": "scatterpolargl"
           }
          ],
          "scatterternary": [
           {
            "marker": {
             "colorbar": {
              "outlinewidth": 0,
              "ticks": ""
             }
            },
            "type": "scatterternary"
           }
          ],
          "surface": [
           {
            "colorbar": {
             "outlinewidth": 0,
             "ticks": ""
            },
            "colorscale": [
             [
              0,
              "#0d0887"
             ],
             [
              0.1111111111111111,
              "#46039f"
             ],
             [
              0.2222222222222222,
              "#7201a8"
             ],
             [
              0.3333333333333333,
              "#9c179e"
             ],
             [
              0.4444444444444444,
              "#bd3786"
             ],
             [
              0.5555555555555556,
              "#d8576b"
             ],
             [
              0.6666666666666666,
              "#ed7953"
             ],
             [
              0.7777777777777778,
              "#fb9f3a"
             ],
             [
              0.8888888888888888,
              "#fdca26"
             ],
             [
              1,
              "#f0f921"
             ]
            ],
            "type": "surface"
           }
          ],
          "table": [
           {
            "cells": {
             "fill": {
              "color": "#EBF0F8"
             },
             "line": {
              "color": "white"
             }
            },
            "header": {
             "fill": {
              "color": "#C8D4E3"
             },
             "line": {
              "color": "white"
             }
            },
            "type": "table"
           }
          ]
         },
         "layout": {
          "annotationdefaults": {
           "arrowcolor": "#2a3f5f",
           "arrowhead": 0,
           "arrowwidth": 1
          },
          "autotypenumbers": "strict",
          "coloraxis": {
           "colorbar": {
            "outlinewidth": 0,
            "ticks": ""
           }
          },
          "colorscale": {
           "diverging": [
            [
             0,
             "#8e0152"
            ],
            [
             0.1,
             "#c51b7d"
            ],
            [
             0.2,
             "#de77ae"
            ],
            [
             0.3,
             "#f1b6da"
            ],
            [
             0.4,
             "#fde0ef"
            ],
            [
             0.5,
             "#f7f7f7"
            ],
            [
             0.6,
             "#e6f5d0"
            ],
            [
             0.7,
             "#b8e186"
            ],
            [
             0.8,
             "#7fbc41"
            ],
            [
             0.9,
             "#4d9221"
            ],
            [
             1,
             "#276419"
            ]
           ],
           "sequential": [
            [
             0,
             "#0d0887"
            ],
            [
             0.1111111111111111,
             "#46039f"
            ],
            [
             0.2222222222222222,
             "#7201a8"
            ],
            [
             0.3333333333333333,
             "#9c179e"
            ],
            [
             0.4444444444444444,
             "#bd3786"
            ],
            [
             0.5555555555555556,
             "#d8576b"
            ],
            [
             0.6666666666666666,
             "#ed7953"
            ],
            [
             0.7777777777777778,
             "#fb9f3a"
            ],
            [
             0.8888888888888888,
             "#fdca26"
            ],
            [
             1,
             "#f0f921"
            ]
           ],
           "sequentialminus": [
            [
             0,
             "#0d0887"
            ],
            [
             0.1111111111111111,
             "#46039f"
            ],
            [
             0.2222222222222222,
             "#7201a8"
            ],
            [
             0.3333333333333333,
             "#9c179e"
            ],
            [
             0.4444444444444444,
             "#bd3786"
            ],
            [
             0.5555555555555556,
             "#d8576b"
            ],
            [
             0.6666666666666666,
             "#ed7953"
            ],
            [
             0.7777777777777778,
             "#fb9f3a"
            ],
            [
             0.8888888888888888,
             "#fdca26"
            ],
            [
             1,
             "#f0f921"
            ]
           ]
          },
          "colorway": [
           "#636efa",
           "#EF553B",
           "#00cc96",
           "#ab63fa",
           "#FFA15A",
           "#19d3f3",
           "#FF6692",
           "#B6E880",
           "#FF97FF",
           "#FECB52"
          ],
          "font": {
           "color": "#2a3f5f"
          },
          "geo": {
           "bgcolor": "white",
           "lakecolor": "white",
           "landcolor": "#E5ECF6",
           "showlakes": true,
           "showland": true,
           "subunitcolor": "white"
          },
          "hoverlabel": {
           "align": "left"
          },
          "hovermode": "closest",
          "mapbox": {
           "style": "light"
          },
          "paper_bgcolor": "white",
          "plot_bgcolor": "#E5ECF6",
          "polar": {
           "angularaxis": {
            "gridcolor": "white",
            "linecolor": "white",
            "ticks": ""
           },
           "bgcolor": "#E5ECF6",
           "radialaxis": {
            "gridcolor": "white",
            "linecolor": "white",
            "ticks": ""
           }
          },
          "scene": {
           "xaxis": {
            "backgroundcolor": "#E5ECF6",
            "gridcolor": "white",
            "gridwidth": 2,
            "linecolor": "white",
            "showbackground": true,
            "ticks": "",
            "zerolinecolor": "white"
           },
           "yaxis": {
            "backgroundcolor": "#E5ECF6",
            "gridcolor": "white",
            "gridwidth": 2,
            "linecolor": "white",
            "showbackground": true,
            "ticks": "",
            "zerolinecolor": "white"
           },
           "zaxis": {
            "backgroundcolor": "#E5ECF6",
            "gridcolor": "white",
            "gridwidth": 2,
            "linecolor": "white",
            "showbackground": true,
            "ticks": "",
            "zerolinecolor": "white"
           }
          },
          "shapedefaults": {
           "line": {
            "color": "#2a3f5f"
           }
          },
          "ternary": {
           "aaxis": {
            "gridcolor": "white",
            "linecolor": "white",
            "ticks": ""
           },
           "baxis": {
            "gridcolor": "white",
            "linecolor": "white",
            "ticks": ""
           },
           "bgcolor": "#E5ECF6",
           "caxis": {
            "gridcolor": "white",
            "linecolor": "white",
            "ticks": ""
           }
          },
          "title": {
           "x": 0.05
          },
          "xaxis": {
           "automargin": true,
           "gridcolor": "white",
           "linecolor": "white",
           "ticks": "",
           "title": {
            "standoff": 15
           },
           "zerolinecolor": "white",
           "zerolinewidth": 2
          },
          "yaxis": {
           "automargin": true,
           "gridcolor": "white",
           "linecolor": "white",
           "ticks": "",
           "title": {
            "standoff": 15
           },
           "zerolinecolor": "white",
           "zerolinewidth": 2
          }
         }
        },
        "title": {
         "text": "Conf Matrix"
        },
        "width": 800,
        "xaxis": {
         "title": {
          "text": "Predicted value"
         }
        },
        "yaxis": {
         "title": {
          "text": "Real value"
         }
        }
       }
      }
     },
     "metadata": {},
     "output_type": "display_data"
    },
    {
     "data": {
      "text/plain": [
       "np.float64(0.3377390140424946)"
      ]
     },
     "execution_count": 30,
     "metadata": {},
     "output_type": "execute_result"
    }
   ],
   "source": [
    "#Vamos a replicar el resultado de la optimizacion reentrenando el modelo con el mejor conjunto de hiperparametros\n",
    "#Generamos parametros incluyendo los fijos y la mejor solución que encontro optuna\n",
    "lgb_params =  {      \n",
    "                        'objective': 'multiclass',\n",
    "                        'verbosity':-1,\n",
    "                        'num_class': len(y_train.unique())} | study.best_params\n",
    "\n",
    "lgb_train_dataset = lgb.Dataset(data=X_train,\n",
    "                                label=y_train)\n",
    "\n",
    "\n",
    "#Entreno\n",
    "lgb_model = lgb.train(lgb_params,\n",
    "                    lgb_train_dataset)\n",
    "\n",
    "#Muestro matriz de confusion y kappa\n",
    "display(plot_confusion_matrix(y_test,lgb_model.predict(X_test).argmax(axis=1)))\n",
    "\n",
    "cohen_kappa_score(y_test,lgb_model.predict(X_test).argmax(axis=1),\n",
    "                             weights = 'quadratic')\n"
   ]
  },
  {
   "cell_type": "markdown",
   "metadata": {},
   "source": [
    "## Modelo con cross validation y conjunto de test"
   ]
  },
  {
   "cell_type": "code",
   "execution_count": 35,
   "metadata": {},
   "outputs": [],
   "source": [
    "#Genero una metrica para que lightGBM haga la evaluación y pueda hacer early_stopping en el cross validation\n",
    "def lgb_custom_metric_kappa(dy_pred, dy_true):\n",
    "    metric_name = 'kappa'\n",
    "    value = cohen_kappa_score(dy_true.get_label(),dy_pred.argmax(axis=1),weights = 'quadratic')\n",
    "    is_higher_better = True\n",
    "    return(metric_name, value, is_higher_better)\n",
    "\n",
    "#Funcion objetivo a optimizar. En este caso vamos a hacer 5fold cv sobre el conjunto de train. \n",
    "# El score de CV es el objetivo a optimizar. Ademas vamos a usar los 5 modelos del CV para estimar el conjunto de test,\n",
    "# registraremos en optuna las predicciones, matriz de confusion y el score en test.\n",
    "# CV Score -> Se usa para determinar el rendimiento de los hiperparametros con precision \n",
    "# Test Score -> Nos permite testear que esta todo OK, no use (ni debo usar) esos datos para nada en el entrenamiento \n",
    "# o la optimizacion de hiperparametros\n",
    "\n",
    "def cv_es_lgb_objective(trial):\n",
    "\n",
    "    #PArametros para LightGBM\n",
    "    lgb_params = {      \n",
    "                        #PArametros fijos\n",
    "                        'objective': 'multiclass',\n",
    "                        'verbosity':-1,\n",
    "                        'num_class': len(y_train.unique()),\n",
    "                        #Hiperparametros a optimizar utilizando suggest_float o suggest_int segun el tipo de dato\n",
    "                        #Se indica el nombre del parametro, valor minimo, valor maximo \n",
    "                        #en elgunos casos el parametro log=True para parametros que requieren buscar en esa escala\n",
    "                        'lambda_l1': trial.suggest_float('lambda_l1', 1e-8, 10.0, log=True),\n",
    "                        'lambda_l2': trial.suggest_float('lambda_l2', 1e-8, 10.0, log=True),\n",
    "                        'num_leaves': trial.suggest_int('num_leaves', 2, 256),\n",
    "                        'feature_fraction': trial.suggest_float('feature_fraction', 0.4, 1.0),\n",
    "                        'bagging_fraction': trial.suggest_float('bagging_fraction', 0.4, 1.0),\n",
    "                        'bagging_freq': trial.suggest_int('bagging_freq', 1, 7),\n",
    "                        'min_child_samples': trial.suggest_int('min_child_samples', 5, 100),\n",
    "                        } \n",
    "\n",
    "    #Voy a generar estimaciones de los 5 modelos del CV sobre los datos test y los acumulo en la matriz scores_ensemble\n",
    "    scores_ensemble = np.zeros((len(y_test),len(y_train.unique())))\n",
    "\n",
    "    #Score del 5 fold CV inicializado en 0\n",
    "    score_folds = 0\n",
    "\n",
    "    #Numero de splits del CV\n",
    "    n_splits = 5\n",
    "\n",
    "    #Objeto para hacer el split estratificado de CV\n",
    "    skf = StratifiedKFold(n_splits=n_splits)\n",
    "\n",
    "    for i, (if_index, oof_index) in enumerate(skf.split(X_train, y_train)):\n",
    "        \n",
    "        #Dataset in fold (donde entreno) \n",
    "        lgb_if_dataset = lgb.Dataset(data=X_train.iloc[if_index],\n",
    "                                        label=y_train.iloc[if_index],\n",
    "                                        free_raw_data=False)\n",
    "        \n",
    "        #Dataset Out of fold (donde mido la performance del CV)\n",
    "        lgb_oof_dataset = lgb.Dataset(data=X_train.iloc[oof_index],\n",
    "                                        label=y_train.iloc[oof_index],\n",
    "                                        free_raw_data=False)\n",
    "\n",
    "        #Entreno el modelo\n",
    "        lgb_model = lgb.train(lgb_params,\n",
    "                                lgb_if_dataset,\n",
    "                                valid_sets=lgb_oof_dataset,\n",
    "                                callbacks=[lgb.early_stopping(10, verbose=False)],\n",
    "                                feval = lgb_custom_metric_kappa\n",
    "                                )\n",
    "        \n",
    "        #Acumulo los scores (probabilidades) de cada clase para cada uno de los modelos que determino en los folds\n",
    "        #Se predice el 20% de los datos que separe para tes y no uso para entrenar en ningun fold\n",
    "        scores_ensemble = scores_ensemble + lgb_model.predict(X_test)\n",
    "        \n",
    "        #Score del fold (registros de dataset train que en este fold quedan out of fold)\n",
    "        score_folds = score_folds + cohen_kappa_score(y_train.iloc[oof_index], \n",
    "                                                            lgb_model.predict(X_train.iloc[oof_index]).argmax(axis=1),weights = 'quadratic')/n_splits\n",
    "\n",
    "\n",
    "    #Guardo prediccion del trial sobre el conjunto de test\n",
    "    # Genero nombre de archivo\n",
    "    predicted_filename = os.path.join(PATH_TO_TEMP_FILES,f'test_{trial.study.study_name}_{trial.number}.joblib')\n",
    "    # Copia del dataset para guardar la prediccion\n",
    "    predicted_df = test.copy()\n",
    "    # Genero columna pred con predicciones sumadas de los 5 folds\n",
    "    predicted_df['pred'] = [scores_ensemble[p,:] for p in range(scores_ensemble.shape[0])]\n",
    "    # Grabo dataframe en temp_artifacts\n",
    "    dump(predicted_df, predicted_filename)\n",
    "    # Indico a optuna que asocie el archivo generado al trial\n",
    "    upload_artifact(trial, predicted_filename, artifact_store)    \n",
    "\n",
    "    #Grabo natriz de confusion\n",
    "    #Nombre de archivo\n",
    "    cm_filename = os.path.join(PATH_TO_TEMP_FILES,f'cm_{trial.study.study_name}_{trial.number}.jpg')\n",
    "    #Grabo archivo\n",
    "    #plot_confusion_matrix(y_test,scores_ensemble.argmax(axis=1)).write_image(cm_filename)\n",
    "    #Asocio al trial\n",
    "    #upload_artifact(trial, cm_filename, artifact_store)\n",
    "\n",
    "    #Determino score en conjunto de test y asocio como metrica adicional en optuna\n",
    "    test_score = cohen_kappa_score(y_test,scores_ensemble.argmax(axis=1),weights = 'quadratic')\n",
    "    trial.set_user_attr(\"test_score\", test_score)\n",
    "\n",
    "    #Devuelvo score del 5fold cv a optuna para que optimice en base a eso\n",
    "    return(score_folds)"
   ]
  },
  {
   "cell_type": "code",
   "execution_count": 36,
   "metadata": {},
   "outputs": [
    {
     "name": "stderr",
     "output_type": "stream",
     "text": [
      "[I 2024-10-14 21:30:44,113] Using an existing study with name '04 - LGB Multiclass CV' instead of creating a new one.\n",
      "/tmp/ipykernel_73806/4174247967.py:86: FutureWarning:\n",
      "\n",
      "upload_artifact() got {'artifact_store', 'file_path', 'study_or_trial'} as positional arguments but they were expected to be given as keyword arguments.\n",
      "\n",
      "[I 2024-10-14 21:32:41,294] Trial 2 finished with value: 0.35421590130707814 and parameters: {'lambda_l1': 6.116423837824806e-07, 'lambda_l2': 2.4454304096501406e-06, 'num_leaves': 107, 'feature_fraction': 0.838470261488709, 'bagging_fraction': 0.7504149503185713, 'bagging_freq': 3, 'min_child_samples': 68}. Best is trial 2 with value: 0.35421590130707814.\n",
      "/tmp/ipykernel_73806/4174247967.py:86: FutureWarning:\n",
      "\n",
      "upload_artifact() got {'artifact_store', 'file_path', 'study_or_trial'} as positional arguments but they were expected to be given as keyword arguments.\n",
      "\n",
      "[I 2024-10-14 21:35:04,232] Trial 3 finished with value: 0.3352806149375446 and parameters: {'lambda_l1': 7.618176118108071e-08, 'lambda_l2': 0.3807054697203938, 'num_leaves': 245, 'feature_fraction': 0.7528589350463643, 'bagging_fraction': 0.6673064412156585, 'bagging_freq': 5, 'min_child_samples': 6}. Best is trial 2 with value: 0.35421590130707814.\n",
      "/tmp/ipykernel_73806/4174247967.py:86: FutureWarning:\n",
      "\n",
      "upload_artifact() got {'artifact_store', 'file_path', 'study_or_trial'} as positional arguments but they were expected to be given as keyword arguments.\n",
      "\n",
      "[I 2024-10-14 21:36:52,143] Trial 4 finished with value: 0.34814021714406 and parameters: {'lambda_l1': 1.7358398030113636e-08, 'lambda_l2': 4.0524085347792735e-07, 'num_leaves': 182, 'feature_fraction': 0.730194964840444, 'bagging_fraction': 0.5359782160060935, 'bagging_freq': 4, 'min_child_samples': 58}. Best is trial 2 with value: 0.35421590130707814.\n",
      "/tmp/ipykernel_73806/4174247967.py:86: FutureWarning:\n",
      "\n",
      "upload_artifact() got {'artifact_store', 'file_path', 'study_or_trial'} as positional arguments but they were expected to be given as keyword arguments.\n",
      "\n",
      "[I 2024-10-14 21:39:57,274] Trial 5 finished with value: 0.3549662085758638 and parameters: {'lambda_l1': 0.0003151551911438914, 'lambda_l2': 0.017442133169425306, 'num_leaves': 173, 'feature_fraction': 0.7029276876162434, 'bagging_fraction': 0.9622984587607434, 'bagging_freq': 4, 'min_child_samples': 68}. Best is trial 5 with value: 0.3549662085758638.\n",
      "/tmp/ipykernel_73806/4174247967.py:86: FutureWarning:\n",
      "\n",
      "upload_artifact() got {'artifact_store', 'file_path', 'study_or_trial'} as positional arguments but they were expected to be given as keyword arguments.\n",
      "\n",
      "[I 2024-10-14 21:41:30,622] Trial 6 finished with value: 0.3491632164090259 and parameters: {'lambda_l1': 1.8477321889837583e-07, 'lambda_l2': 4.93530995894653e-05, 'num_leaves': 248, 'feature_fraction': 0.5101787065772985, 'bagging_fraction': 0.5499405887365328, 'bagging_freq': 1, 'min_child_samples': 30}. Best is trial 5 with value: 0.3549662085758638.\n",
      "/tmp/ipykernel_73806/4174247967.py:86: FutureWarning:\n",
      "\n",
      "upload_artifact() got {'artifact_store', 'file_path', 'study_or_trial'} as positional arguments but they were expected to be given as keyword arguments.\n",
      "\n",
      "[I 2024-10-14 21:41:47,493] Trial 7 finished with value: 0.3504654965538089 and parameters: {'lambda_l1': 0.049326282857582136, 'lambda_l2': 0.005330600963767131, 'num_leaves': 70, 'feature_fraction': 0.9716966785648576, 'bagging_fraction': 0.7252386734524154, 'bagging_freq': 7, 'min_child_samples': 16}. Best is trial 5 with value: 0.3549662085758638.\n",
      "/tmp/ipykernel_73806/4174247967.py:86: FutureWarning:\n",
      "\n",
      "upload_artifact() got {'artifact_store', 'file_path', 'study_or_trial'} as positional arguments but they were expected to be given as keyword arguments.\n",
      "\n",
      "[I 2024-10-14 21:42:02,164] Trial 8 finished with value: 0.3411634812865038 and parameters: {'lambda_l1': 5.3770240581499e-07, 'lambda_l2': 1.0097581476559711e-07, 'num_leaves': 255, 'feature_fraction': 0.9473992097274612, 'bagging_fraction': 0.7112036129136976, 'bagging_freq': 6, 'min_child_samples': 52}. Best is trial 5 with value: 0.3549662085758638.\n",
      "/tmp/ipykernel_73806/4174247967.py:86: FutureWarning:\n",
      "\n",
      "upload_artifact() got {'artifact_store', 'file_path', 'study_or_trial'} as positional arguments but they were expected to be given as keyword arguments.\n",
      "\n",
      "[I 2024-10-14 21:42:15,226] Trial 9 finished with value: 0.3438037343111904 and parameters: {'lambda_l1': 0.009098910970129652, 'lambda_l2': 0.003685754816023555, 'num_leaves': 227, 'feature_fraction': 0.8301801914333622, 'bagging_fraction': 0.42894958017323004, 'bagging_freq': 5, 'min_child_samples': 66}. Best is trial 5 with value: 0.3549662085758638.\n",
      "/tmp/ipykernel_73806/4174247967.py:86: FutureWarning:\n",
      "\n",
      "upload_artifact() got {'artifact_store', 'file_path', 'study_or_trial'} as positional arguments but they were expected to be given as keyword arguments.\n",
      "\n",
      "[I 2024-10-14 21:42:29,492] Trial 10 finished with value: 0.35625746955452053 and parameters: {'lambda_l1': 1.5714907483305395e-08, 'lambda_l2': 0.020324318803627842, 'num_leaves': 28, 'feature_fraction': 0.4952060112962824, 'bagging_fraction': 0.8285287280740112, 'bagging_freq': 6, 'min_child_samples': 27}. Best is trial 10 with value: 0.35625746955452053.\n",
      "/tmp/ipykernel_73806/4174247967.py:86: FutureWarning:\n",
      "\n",
      "upload_artifact() got {'artifact_store', 'file_path', 'study_or_trial'} as positional arguments but they were expected to be given as keyword arguments.\n",
      "\n",
      "[I 2024-10-14 21:42:40,317] Trial 11 finished with value: 0.3513194223395196 and parameters: {'lambda_l1': 0.05588458857521031, 'lambda_l2': 0.00016309974961999172, 'num_leaves': 232, 'feature_fraction': 0.8835538928810573, 'bagging_fraction': 0.8810012892751135, 'bagging_freq': 5, 'min_child_samples': 85}. Best is trial 10 with value: 0.35625746955452053.\n",
      "/tmp/ipykernel_73806/4174247967.py:86: FutureWarning:\n",
      "\n",
      "upload_artifact() got {'artifact_store', 'file_path', 'study_or_trial'} as positional arguments but they were expected to be given as keyword arguments.\n",
      "\n",
      "[I 2024-10-14 21:42:54,795] Trial 12 finished with value: 0.3372142420166451 and parameters: {'lambda_l1': 3.2376356560175926e-05, 'lambda_l2': 0.682299996625106, 'num_leaves': 8, 'feature_fraction': 0.42312862120659783, 'bagging_fraction': 0.8581777638102112, 'bagging_freq': 7, 'min_child_samples': 36}. Best is trial 10 with value: 0.35625746955452053.\n",
      "/tmp/ipykernel_73806/4174247967.py:86: FutureWarning:\n",
      "\n",
      "upload_artifact() got {'artifact_store', 'file_path', 'study_or_trial'} as positional arguments but they were expected to be given as keyword arguments.\n",
      "\n",
      "[I 2024-10-14 21:43:11,352] Trial 13 finished with value: 0.35575827318862185 and parameters: {'lambda_l1': 3.520184428522448, 'lambda_l2': 0.02928272440692701, 'num_leaves': 154, 'feature_fraction': 0.6074171520588066, 'bagging_fraction': 0.9744078769000386, 'bagging_freq': 3, 'min_child_samples': 93}. Best is trial 10 with value: 0.35625746955452053.\n",
      "/tmp/ipykernel_73806/4174247967.py:86: FutureWarning:\n",
      "\n",
      "upload_artifact() got {'artifact_store', 'file_path', 'study_or_trial'} as positional arguments but they were expected to be given as keyword arguments.\n",
      "\n",
      "[I 2024-10-14 21:43:26,011] Trial 14 finished with value: 0.3513295098886743 and parameters: {'lambda_l1': 3.173718916409439, 'lambda_l2': 3.5278662927210056, 'num_leaves': 40, 'feature_fraction': 0.6087475443660455, 'bagging_fraction': 0.9461814032629078, 'bagging_freq': 2, 'min_child_samples': 99}. Best is trial 10 with value: 0.35625746955452053.\n",
      "/tmp/ipykernel_73806/4174247967.py:86: FutureWarning:\n",
      "\n",
      "upload_artifact() got {'artifact_store', 'file_path', 'study_or_trial'} as positional arguments but they were expected to be given as keyword arguments.\n",
      "\n",
      "[I 2024-10-14 21:43:41,134] Trial 15 finished with value: 0.35032243764499693 and parameters: {'lambda_l1': 6.672614649397402, 'lambda_l2': 0.05205908457312221, 'num_leaves': 132, 'feature_fraction': 0.5870771713207554, 'bagging_fraction': 0.8382315831627833, 'bagging_freq': 3, 'min_child_samples': 38}. Best is trial 10 with value: 0.35625746955452053.\n",
      "/tmp/ipykernel_73806/4174247967.py:86: FutureWarning:\n",
      "\n",
      "upload_artifact() got {'artifact_store', 'file_path', 'study_or_trial'} as positional arguments but they were expected to be given as keyword arguments.\n",
      "\n",
      "[I 2024-10-14 21:43:56,207] Trial 16 finished with value: 0.34909754626371337 and parameters: {'lambda_l1': 1.0711760281023835e-05, 'lambda_l2': 0.0009554666697156168, 'num_leaves': 120, 'feature_fraction': 0.4205703170524542, 'bagging_fraction': 0.9950049725445163, 'bagging_freq': 1, 'min_child_samples': 86}. Best is trial 10 with value: 0.35625746955452053.\n",
      "/tmp/ipykernel_73806/4174247967.py:86: FutureWarning:\n",
      "\n",
      "upload_artifact() got {'artifact_store', 'file_path', 'study_or_trial'} as positional arguments but they were expected to be given as keyword arguments.\n",
      "\n",
      "[I 2024-10-14 21:44:14,672] Trial 17 finished with value: 0.3391806487270539 and parameters: {'lambda_l1': 0.003755593306348169, 'lambda_l2': 1.7700476063489797e-05, 'num_leaves': 166, 'feature_fraction': 0.5913590884655986, 'bagging_fraction': 0.8078066762232707, 'bagging_freq': 3, 'min_child_samples': 29}. Best is trial 10 with value: 0.35625746955452053.\n",
      "/tmp/ipykernel_73806/4174247967.py:86: FutureWarning:\n",
      "\n",
      "upload_artifact() got {'artifact_store', 'file_path', 'study_or_trial'} as positional arguments but they were expected to be given as keyword arguments.\n",
      "\n",
      "[I 2024-10-14 21:44:29,718] Trial 18 finished with value: 0.3559891693284233 and parameters: {'lambda_l1': 0.5942680873765229, 'lambda_l2': 0.06189559333885339, 'num_leaves': 79, 'feature_fraction': 0.49731807999898237, 'bagging_fraction': 0.9272793373990459, 'bagging_freq': 6, 'min_child_samples': 48}. Best is trial 10 with value: 0.35625746955452053.\n",
      "/tmp/ipykernel_73806/4174247967.py:86: FutureWarning:\n",
      "\n",
      "upload_artifact() got {'artifact_store', 'file_path', 'study_or_trial'} as positional arguments but they were expected to be given as keyword arguments.\n",
      "\n",
      "[I 2024-10-14 21:44:47,516] Trial 19 finished with value: 0.3610570116591032 and parameters: {'lambda_l1': 2.0425610140439483e-05, 'lambda_l2': 5.227871090043421, 'num_leaves': 82, 'feature_fraction': 0.5011246775709045, 'bagging_fraction': 0.9014017341441465, 'bagging_freq': 6, 'min_child_samples': 47}. Best is trial 19 with value: 0.3610570116591032.\n",
      "/tmp/ipykernel_73806/4174247967.py:86: FutureWarning:\n",
      "\n",
      "upload_artifact() got {'artifact_store', 'file_path', 'study_or_trial'} as positional arguments but they were expected to be given as keyword arguments.\n",
      "\n",
      "[I 2024-10-14 21:45:08,299] Trial 20 finished with value: 0.31673837496456586 and parameters: {'lambda_l1': 7.98342966106008e-06, 'lambda_l2': 9.013315486032315, 'num_leaves': 3, 'feature_fraction': 0.5178875324073537, 'bagging_fraction': 0.7897872785299573, 'bagging_freq': 6, 'min_child_samples': 23}. Best is trial 19 with value: 0.3610570116591032.\n",
      "/tmp/ipykernel_73806/4174247967.py:86: FutureWarning:\n",
      "\n",
      "upload_artifact() got {'artifact_store', 'file_path', 'study_or_trial'} as positional arguments but they were expected to be given as keyword arguments.\n",
      "\n",
      "[I 2024-10-14 21:45:23,634] Trial 21 finished with value: 0.35003206684510024 and parameters: {'lambda_l1': 0.0002233660846523378, 'lambda_l2': 0.643998523246251, 'num_leaves': 44, 'feature_fraction': 0.47136738827951363, 'bagging_fraction': 0.6554105695302948, 'bagging_freq': 7, 'min_child_samples': 43}. Best is trial 19 with value: 0.3610570116591032.\n",
      "/tmp/ipykernel_73806/4174247967.py:86: FutureWarning:\n",
      "\n",
      "upload_artifact() got {'artifact_store', 'file_path', 'study_or_trial'} as positional arguments but they were expected to be given as keyword arguments.\n",
      "\n",
      "[I 2024-10-14 21:45:40,198] Trial 22 finished with value: 0.3608683465809346 and parameters: {'lambda_l1': 1.4149202052021048e-08, 'lambda_l2': 0.3468692313433825, 'num_leaves': 82, 'feature_fraction': 0.652255577951246, 'bagging_fraction': 0.9032642742444388, 'bagging_freq': 6, 'min_child_samples': 14}. Best is trial 19 with value: 0.3610570116591032.\n",
      "/tmp/ipykernel_73806/4174247967.py:86: FutureWarning:\n",
      "\n",
      "upload_artifact() got {'artifact_store', 'file_path', 'study_or_trial'} as positional arguments but they were expected to be given as keyword arguments.\n",
      "\n",
      "[I 2024-10-14 21:45:53,779] Trial 23 finished with value: 0.35620435219804625 and parameters: {'lambda_l1': 3.542683867433283e-08, 'lambda_l2': 0.262486620746439, 'num_leaves': 78, 'feature_fraction': 0.6516039875918724, 'bagging_fraction': 0.8946633441722631, 'bagging_freq': 6, 'min_child_samples': 11}. Best is trial 19 with value: 0.3610570116591032.\n",
      "/tmp/ipykernel_73806/4174247967.py:86: FutureWarning:\n",
      "\n",
      "upload_artifact() got {'artifact_store', 'file_path', 'study_or_trial'} as positional arguments but they were expected to be given as keyword arguments.\n",
      "\n",
      "[I 2024-10-14 21:46:12,184] Trial 24 finished with value: 0.36389492176534255 and parameters: {'lambda_l1': 2.4058584498046026e-06, 'lambda_l2': 2.517034599932115, 'num_leaves': 42, 'feature_fraction': 0.544245122472622, 'bagging_fraction': 0.7908571527039177, 'bagging_freq': 5, 'min_child_samples': 18}. Best is trial 24 with value: 0.36389492176534255.\n",
      "/tmp/ipykernel_73806/4174247967.py:86: FutureWarning:\n",
      "\n",
      "upload_artifact() got {'artifact_store', 'file_path', 'study_or_trial'} as positional arguments but they were expected to be given as keyword arguments.\n",
      "\n",
      "[I 2024-10-14 21:46:29,450] Trial 25 finished with value: 0.36145763915179685 and parameters: {'lambda_l1': 1.944735025414602e-06, 'lambda_l2': 2.4567941665607265, 'num_leaves': 94, 'feature_fraction': 0.5436805600991007, 'bagging_fraction': 0.7747108765102481, 'bagging_freq': 5, 'min_child_samples': 19}. Best is trial 24 with value: 0.36389492176534255.\n",
      "/tmp/ipykernel_73806/4174247967.py:86: FutureWarning:\n",
      "\n",
      "upload_artifact() got {'artifact_store', 'file_path', 'study_or_trial'} as positional arguments but they were expected to be given as keyword arguments.\n",
      "\n",
      "[I 2024-10-14 21:46:55,679] Trial 26 finished with value: 0.3603062655046524 and parameters: {'lambda_l1': 2.1628596182384977e-06, 'lambda_l2': 3.1379210964595137, 'num_leaves': 56, 'feature_fraction': 0.5384171970250697, 'bagging_fraction': 0.7745599311387257, 'bagging_freq': 5, 'min_child_samples': 20}. Best is trial 24 with value: 0.36389492176534255.\n",
      "/tmp/ipykernel_73806/4174247967.py:86: FutureWarning:\n",
      "\n",
      "upload_artifact() got {'artifact_store', 'file_path', 'study_or_trial'} as positional arguments but they were expected to be given as keyword arguments.\n",
      "\n",
      "[I 2024-10-14 21:47:11,786] Trial 27 finished with value: 0.3424726603013803 and parameters: {'lambda_l1': 5.3753070788452125e-05, 'lambda_l2': 7.989279739432309, 'num_leaves': 88, 'feature_fraction': 0.44817770787796807, 'bagging_fraction': 0.6841464582862941, 'bagging_freq': 4, 'min_child_samples': 35}. Best is trial 24 with value: 0.36389492176534255.\n",
      "/tmp/ipykernel_73806/4174247967.py:86: FutureWarning:\n",
      "\n",
      "upload_artifact() got {'artifact_store', 'file_path', 'study_or_trial'} as positional arguments but they were expected to be given as keyword arguments.\n",
      "\n",
      "[I 2024-10-14 21:47:27,447] Trial 28 finished with value: 0.34516063819300763 and parameters: {'lambda_l1': 2.677492013732143e-06, 'lambda_l2': 1.0349402948504423, 'num_leaves': 102, 'feature_fraction': 0.5442237939071735, 'bagging_fraction': 0.6142272088828699, 'bagging_freq': 5, 'min_child_samples': 20}. Best is trial 24 with value: 0.36389492176534255.\n",
      "/tmp/ipykernel_73806/4174247967.py:86: FutureWarning:\n",
      "\n",
      "upload_artifact() got {'artifact_store', 'file_path', 'study_or_trial'} as positional arguments but they were expected to be given as keyword arguments.\n",
      "\n",
      "[I 2024-10-14 21:47:48,701] Trial 29 finished with value: 0.3518959209480938 and parameters: {'lambda_l1': 0.0011432098769082184, 'lambda_l2': 1.709667075413982, 'num_leaves': 139, 'feature_fraction': 0.5591368026851509, 'bagging_fraction': 0.7526984048133096, 'bagging_freq': 5, 'min_child_samples': 10}. Best is trial 24 with value: 0.36389492176534255.\n",
      "/tmp/ipykernel_73806/4174247967.py:86: FutureWarning:\n",
      "\n",
      "upload_artifact() got {'artifact_store', 'file_path', 'study_or_trial'} as positional arguments but they were expected to be given as keyword arguments.\n",
      "\n",
      "[I 2024-10-14 21:48:03,589] Trial 30 finished with value: 0.358602337645882 and parameters: {'lambda_l1': 8.400449335402906e-05, 'lambda_l2': 0.17528087852339527, 'num_leaves': 56, 'feature_fraction': 0.6570276437440251, 'bagging_fraction': 0.8612300928231141, 'bagging_freq': 4, 'min_child_samples': 47}. Best is trial 24 with value: 0.36389492176534255.\n",
      "/tmp/ipykernel_73806/4174247967.py:86: FutureWarning:\n",
      "\n",
      "upload_artifact() got {'artifact_store', 'file_path', 'study_or_trial'} as positional arguments but they were expected to be given as keyword arguments.\n",
      "\n",
      "[I 2024-10-14 21:48:24,007] Trial 31 finished with value: 0.349318457915577 and parameters: {'lambda_l1': 2.4263364119728394e-06, 'lambda_l2': 9.466792676453405, 'num_leaves': 101, 'feature_fraction': 0.40139168286040183, 'bagging_fraction': 0.7547415178545953, 'bagging_freq': 4, 'min_child_samples': 5}. Best is trial 24 with value: 0.36389492176534255.\n",
      "/tmp/ipykernel_73806/4174247967.py:86: FutureWarning:\n",
      "\n",
      "upload_artifact() got {'artifact_store', 'file_path', 'study_or_trial'} as positional arguments but they were expected to be given as keyword arguments.\n",
      "\n",
      "[I 2024-10-14 21:48:39,582] Trial 32 finished with value: 0.35332713569735913 and parameters: {'lambda_l1': 2.8463408313611043e-07, 'lambda_l2': 0.15326541894321194, 'num_leaves': 23, 'feature_fraction': 0.461240990045394, 'bagging_fraction': 0.6309572132269048, 'bagging_freq': 7, 'min_child_samples': 77}. Best is trial 24 with value: 0.36389492176534255.\n",
      "/tmp/ipykernel_73806/4174247967.py:86: FutureWarning:\n",
      "\n",
      "upload_artifact() got {'artifact_store', 'file_path', 'study_or_trial'} as positional arguments but they were expected to be given as keyword arguments.\n",
      "\n",
      "[I 2024-10-14 21:48:51,216] Trial 33 finished with value: 0.3511384034893004 and parameters: {'lambda_l1': 9.437207177236705e-07, 'lambda_l2': 1.52207488222171, 'num_leaves': 62, 'feature_fraction': 0.6598739112554224, 'bagging_fraction': 0.9143816539005357, 'bagging_freq': 6, 'min_child_samples': 15}. Best is trial 24 with value: 0.36389492176534255.\n",
      "/tmp/ipykernel_73806/4174247967.py:86: FutureWarning:\n",
      "\n",
      "upload_artifact() got {'artifact_store', 'file_path', 'study_or_trial'} as positional arguments but they were expected to be given as keyword arguments.\n",
      "\n",
      "[I 2024-10-14 21:49:05,665] Trial 34 finished with value: 0.34751653208132166 and parameters: {'lambda_l1': 8.794986701905823e-08, 'lambda_l2': 0.18924043604676632, 'num_leaves': 115, 'feature_fraction': 0.7794160720293222, 'bagging_fraction': 0.8220678630178153, 'bagging_freq': 5, 'min_child_samples': 59}. Best is trial 24 with value: 0.36389492176534255.\n",
      "/tmp/ipykernel_73806/4174247967.py:86: FutureWarning:\n",
      "\n",
      "upload_artifact() got {'artifact_store', 'file_path', 'study_or_trial'} as positional arguments but they were expected to be given as keyword arguments.\n",
      "\n",
      "[I 2024-10-14 21:49:22,667] Trial 35 finished with value: 0.35640857505326934 and parameters: {'lambda_l1': 1.4197498918248974e-05, 'lambda_l2': 1.9261099732086429, 'num_leaves': 92, 'feature_fraction': 0.6403881247352575, 'bagging_fraction': 0.9037113156850625, 'bagging_freq': 6, 'min_child_samples': 13}. Best is trial 24 with value: 0.36389492176534255.\n",
      "/tmp/ipykernel_73806/4174247967.py:86: FutureWarning:\n",
      "\n",
      "upload_artifact() got {'artifact_store', 'file_path', 'study_or_trial'} as positional arguments but they were expected to be given as keyword arguments.\n",
      "\n",
      "[I 2024-10-14 21:49:33,336] Trial 36 finished with value: 0.35992359563134607 and parameters: {'lambda_l1': 9.216575600979422e-08, 'lambda_l2': 5.5095838396490696e-06, 'num_leaves': 43, 'feature_fraction': 0.7004984711221552, 'bagging_fraction': 0.7925926944787851, 'bagging_freq': 5, 'min_child_samples': 25}. Best is trial 24 with value: 0.36389492176534255.\n",
      "/tmp/ipykernel_73806/4174247967.py:86: FutureWarning:\n",
      "\n",
      "upload_artifact() got {'artifact_store', 'file_path', 'study_or_trial'} as positional arguments but they were expected to be given as keyword arguments.\n",
      "\n",
      "[I 2024-10-14 21:49:48,126] Trial 37 finished with value: 0.35492447374085545 and parameters: {'lambda_l1': 0.00014466890759312756, 'lambda_l2': 0.5389051274595804, 'num_leaves': 88, 'feature_fraction': 0.5800808077376087, 'bagging_fraction': 0.8695986913278257, 'bagging_freq': 6, 'min_child_samples': 32}. Best is trial 24 with value: 0.36389492176534255.\n",
      "/tmp/ipykernel_73806/4174247967.py:86: FutureWarning:\n",
      "\n",
      "upload_artifact() got {'artifact_store', 'file_path', 'study_or_trial'} as positional arguments but they were expected to be given as keyword arguments.\n",
      "\n",
      "[I 2024-10-14 21:50:07,888] Trial 38 finished with value: 0.3337627199119437 and parameters: {'lambda_l1': 9.492173342389528e-07, 'lambda_l2': 0.004871728021687687, 'num_leaves': 193, 'feature_fraction': 0.7496011492560594, 'bagging_fraction': 0.7300305120127009, 'bagging_freq': 7, 'min_child_samples': 41}. Best is trial 24 with value: 0.36389492176534255.\n",
      "/tmp/ipykernel_73806/4174247967.py:86: FutureWarning:\n",
      "\n",
      "upload_artifact() got {'artifact_store', 'file_path', 'study_or_trial'} as positional arguments but they were expected to be given as keyword arguments.\n",
      "\n",
      "[I 2024-10-14 21:50:22,440] Trial 39 finished with value: 0.3592647418604594 and parameters: {'lambda_l1': 1.1583840384709404e-08, 'lambda_l2': 2.2519393987233554e-08, 'num_leaves': 76, 'feature_fraction': 0.6273699516804001, 'bagging_fraction': 0.9575222149465344, 'bagging_freq': 4, 'min_child_samples': 20}. Best is trial 24 with value: 0.36389492176534255.\n",
      "/tmp/ipykernel_73806/4174247967.py:86: FutureWarning:\n",
      "\n",
      "upload_artifact() got {'artifact_store', 'file_path', 'study_or_trial'} as positional arguments but they were expected to be given as keyword arguments.\n",
      "\n",
      "[I 2024-10-14 21:50:40,345] Trial 40 finished with value: 0.3549914406558038 and parameters: {'lambda_l1': 0.0007857900177362485, 'lambda_l2': 0.07899708430792202, 'num_leaves': 110, 'feature_fraction': 0.5480174117058659, 'bagging_fraction': 0.8404873767856645, 'bagging_freq': 6, 'min_child_samples': 5}. Best is trial 24 with value: 0.36389492176534255.\n",
      "/tmp/ipykernel_73806/4174247967.py:86: FutureWarning:\n",
      "\n",
      "upload_artifact() got {'artifact_store', 'file_path', 'study_or_trial'} as positional arguments but they were expected to be given as keyword arguments.\n",
      "\n",
      "[I 2024-10-14 21:50:51,409] Trial 41 finished with value: 0.35600775031425225 and parameters: {'lambda_l1': 4.476077706958868e-06, 'lambda_l2': 0.001446374914112036, 'num_leaves': 25, 'feature_fraction': 0.47860387123780823, 'bagging_fraction': 0.5505843176525766, 'bagging_freq': 5, 'min_child_samples': 66}. Best is trial 24 with value: 0.36389492176534255.\n",
      "/tmp/ipykernel_73806/4174247967.py:86: FutureWarning:\n",
      "\n",
      "upload_artifact() got {'artifact_store', 'file_path', 'study_or_trial'} as positional arguments but they were expected to be given as keyword arguments.\n",
      "\n",
      "[I 2024-10-14 21:51:05,787] Trial 42 finished with value: 0.35535441809415164 and parameters: {'lambda_l1': 4.113294424513254e-07, 'lambda_l2': 0.009242347172116897, 'num_leaves': 65, 'feature_fraction': 0.5230430169695038, 'bagging_fraction': 0.9260560129523906, 'bagging_freq': 4, 'min_child_samples': 57}. Best is trial 24 with value: 0.36389492176534255.\n",
      "/tmp/ipykernel_73806/4174247967.py:86: FutureWarning:\n",
      "\n",
      "upload_artifact() got {'artifact_store', 'file_path', 'study_or_trial'} as positional arguments but they were expected to be given as keyword arguments.\n",
      "\n",
      "[I 2024-10-14 21:51:21,499] Trial 43 finished with value: 0.3541098508617221 and parameters: {'lambda_l1': 1.5630810357479081e-06, 'lambda_l2': 3.6052603372701095, 'num_leaves': 53, 'feature_fraction': 0.5563591766892967, 'bagging_fraction': 0.7650638668839135, 'bagging_freq': 5, 'min_child_samples': 18}. Best is trial 24 with value: 0.36389492176534255.\n",
      "/tmp/ipykernel_73806/4174247967.py:86: FutureWarning:\n",
      "\n",
      "upload_artifact() got {'artifact_store', 'file_path', 'study_or_trial'} as positional arguments but they were expected to be given as keyword arguments.\n",
      "\n",
      "[I 2024-10-14 21:51:34,982] Trial 44 finished with value: 0.3573236390907353 and parameters: {'lambda_l1': 1.8037837888247822e-05, 'lambda_l2': 3.4755311791461487, 'num_leaves': 67, 'feature_fraction': 0.5178265348261193, 'bagging_fraction': 0.7769443904131268, 'bagging_freq': 5, 'min_child_samples': 24}. Best is trial 24 with value: 0.36389492176534255.\n",
      "/tmp/ipykernel_73806/4174247967.py:86: FutureWarning:\n",
      "\n",
      "upload_artifact() got {'artifact_store', 'file_path', 'study_or_trial'} as positional arguments but they were expected to be given as keyword arguments.\n",
      "\n",
      "[I 2024-10-14 21:51:50,857] Trial 45 finished with value: 0.3562972826985341 and parameters: {'lambda_l1': 4.83230863724836e-08, 'lambda_l2': 3.1599364146444913, 'num_leaves': 33, 'feature_fraction': 0.4451162480897026, 'bagging_fraction': 0.6994442959684676, 'bagging_freq': 5, 'min_child_samples': 11}. Best is trial 24 with value: 0.36389492176534255.\n",
      "/tmp/ipykernel_73806/4174247967.py:86: FutureWarning:\n",
      "\n",
      "upload_artifact() got {'artifact_store', 'file_path', 'study_or_trial'} as positional arguments but they were expected to be given as keyword arguments.\n",
      "\n",
      "[I 2024-10-14 21:52:01,802] Trial 46 finished with value: 0.3511353776292717 and parameters: {'lambda_l1': 1.7896150572152825e-07, 'lambda_l2': 0.43531464501285416, 'num_leaves': 15, 'feature_fraction': 0.803120769994903, 'bagging_fraction': 0.8125352431641094, 'bagging_freq': 6, 'min_child_samples': 30}. Best is trial 24 with value: 0.36389492176534255.\n",
      "/tmp/ipykernel_73806/4174247967.py:86: FutureWarning:\n",
      "\n",
      "upload_artifact() got {'artifact_store', 'file_path', 'study_or_trial'} as positional arguments but they were expected to be given as keyword arguments.\n",
      "\n",
      "[I 2024-10-14 21:52:14,175] Trial 47 finished with value: 0.3521681701577801 and parameters: {'lambda_l1': 3.218909627024105e-05, 'lambda_l2': 7.049619477741092e-07, 'num_leaves': 50, 'feature_fraction': 0.7235483805332481, 'bagging_fraction': 0.8472369293526396, 'bagging_freq': 5, 'min_child_samples': 17}. Best is trial 24 with value: 0.36389492176534255.\n",
      "/tmp/ipykernel_73806/4174247967.py:86: FutureWarning:\n",
      "\n",
      "upload_artifact() got {'artifact_store', 'file_path', 'study_or_trial'} as positional arguments but they were expected to be given as keyword arguments.\n",
      "\n",
      "[I 2024-10-14 21:52:26,883] Trial 48 finished with value: 0.333563301018765 and parameters: {'lambda_l1': 4.252971769050984e-06, 'lambda_l2': 0.8828929197841732, 'num_leaves': 97, 'feature_fraction': 0.8903972078784502, 'bagging_fraction': 0.4244618849970811, 'bagging_freq': 6, 'min_child_samples': 22}. Best is trial 24 with value: 0.36389492176534255.\n",
      "/tmp/ipykernel_73806/4174247967.py:86: FutureWarning:\n",
      "\n",
      "upload_artifact() got {'artifact_store', 'file_path', 'study_or_trial'} as positional arguments but they were expected to be given as keyword arguments.\n",
      "\n",
      "[I 2024-10-14 21:52:42,828] Trial 49 finished with value: 0.3491576613260433 and parameters: {'lambda_l1': 5.744936271587591e-07, 'lambda_l2': 4.847171717720919, 'num_leaves': 85, 'feature_fraction': 0.6777689196054646, 'bagging_fraction': 0.7251116558618873, 'bagging_freq': 7, 'min_child_samples': 8}. Best is trial 24 with value: 0.36389492176534255.\n",
      "/tmp/ipykernel_73806/4174247967.py:86: FutureWarning:\n",
      "\n",
      "upload_artifact() got {'artifact_store', 'file_path', 'study_or_trial'} as positional arguments but they were expected to be given as keyword arguments.\n",
      "\n",
      "[I 2024-10-14 21:53:04,638] Trial 50 finished with value: 0.344360666508575 and parameters: {'lambda_l1': 1.5200273299191645e-07, 'lambda_l2': 0.027908058360362944, 'num_leaves': 121, 'feature_fraction': 0.617893892731613, 'bagging_fraction': 0.7323233597677277, 'bagging_freq': 5, 'min_child_samples': 33}. Best is trial 24 with value: 0.36389492176534255.\n",
      "/tmp/ipykernel_73806/4174247967.py:86: FutureWarning:\n",
      "\n",
      "upload_artifact() got {'artifact_store', 'file_path', 'study_or_trial'} as positional arguments but they were expected to be given as keyword arguments.\n",
      "\n",
      "[I 2024-10-14 21:53:20,506] Trial 51 finished with value: 0.35274538949916134 and parameters: {'lambda_l1': 0.0006719141424474817, 'lambda_l2': 0.0972349705341488, 'num_leaves': 139, 'feature_fraction': 0.5775687408333032, 'bagging_fraction': 0.9941849729976768, 'bagging_freq': 6, 'min_child_samples': 28}. Best is trial 24 with value: 0.36389492176534255.\n",
      "/tmp/ipykernel_73806/4174247967.py:86: FutureWarning:\n",
      "\n",
      "upload_artifact() got {'artifact_store', 'file_path', 'study_or_trial'} as positional arguments but they were expected to be given as keyword arguments.\n",
      "\n",
      "[I 2024-10-14 21:53:40,378] Trial 52 finished with value: 0.35728950877808807 and parameters: {'lambda_l1': 5.1802140277290795e-06, 'lambda_l2': 1.5239198503769185, 'num_leaves': 70, 'feature_fraction': 0.48530289414021105, 'bagging_fraction': 0.8833123155890791, 'bagging_freq': 4, 'min_child_samples': 16}. Best is trial 24 with value: 0.36389492176534255.\n",
      "/tmp/ipykernel_73806/4174247967.py:86: FutureWarning:\n",
      "\n",
      "upload_artifact() got {'artifact_store', 'file_path', 'study_or_trial'} as positional arguments but they were expected to be given as keyword arguments.\n",
      "\n",
      "[I 2024-10-14 21:53:49,391] Trial 53 finished with value: 0.35784877019563555 and parameters: {'lambda_l1': 2.905530786565867e-08, 'lambda_l2': 1.937460603737073e-05, 'num_leaves': 38, 'feature_fraction': 0.7070382143714526, 'bagging_fraction': 0.7924532395863371, 'bagging_freq': 5, 'min_child_samples': 25}. Best is trial 24 with value: 0.36389492176534255.\n",
      "/tmp/ipykernel_73806/4174247967.py:86: FutureWarning:\n",
      "\n",
      "upload_artifact() got {'artifact_store', 'file_path', 'study_or_trial'} as positional arguments but they were expected to be given as keyword arguments.\n",
      "\n",
      "[I 2024-10-14 21:54:03,508] Trial 54 finished with value: 0.3502394884343891 and parameters: {'lambda_l1': 1.3274831179108865e-07, 'lambda_l2': 0.00015895203952320878, 'num_leaves': 45, 'feature_fraction': 0.6829703961132725, 'bagging_fraction': 0.8123851787537268, 'bagging_freq': 5, 'min_child_samples': 26}. Best is trial 24 with value: 0.36389492176534255.\n",
      "/tmp/ipykernel_73806/4174247967.py:86: FutureWarning:\n",
      "\n",
      "upload_artifact() got {'artifact_store', 'file_path', 'study_or_trial'} as positional arguments but they were expected to be given as keyword arguments.\n",
      "\n",
      "[I 2024-10-14 21:54:20,978] Trial 55 finished with value: 0.3501820030079172 and parameters: {'lambda_l1': 2.2363824926239102e-08, 'lambda_l2': 1.0164966350535075e-05, 'num_leaves': 60, 'feature_fraction': 0.535165820290681, 'bagging_fraction': 0.7832252893335749, 'bagging_freq': 6, 'min_child_samples': 14}. Best is trial 24 with value: 0.36389492176534255.\n",
      "/tmp/ipykernel_73806/4174247967.py:86: FutureWarning:\n",
      "\n",
      "upload_artifact() got {'artifact_store', 'file_path', 'study_or_trial'} as positional arguments but they were expected to be given as keyword arguments.\n",
      "\n",
      "[I 2024-10-14 21:54:38,748] Trial 56 finished with value: 0.35313351879046007 and parameters: {'lambda_l1': 6.55751001386727e-08, 'lambda_l2': 3.3646496097900867e-06, 'num_leaves': 76, 'feature_fraction': 0.5022438741155512, 'bagging_fraction': 0.9413107636854743, 'bagging_freq': 4, 'min_child_samples': 37}. Best is trial 24 with value: 0.36389492176534255.\n",
      "/tmp/ipykernel_73806/4174247967.py:86: FutureWarning:\n",
      "\n",
      "upload_artifact() got {'artifact_store', 'file_path', 'study_or_trial'} as positional arguments but they were expected to be given as keyword arguments.\n",
      "\n",
      "[I 2024-10-14 21:54:48,495] Trial 57 finished with value: 0.3469819550922568 and parameters: {'lambda_l1': 1.6824770221469798e-06, 'lambda_l2': 0.4113714326121747, 'num_leaves': 17, 'feature_fraction': 0.6088826424943988, 'bagging_fraction': 0.8004928332933768, 'bagging_freq': 5, 'min_child_samples': 20}. Best is trial 24 with value: 0.36389492176534255.\n",
      "/tmp/ipykernel_73806/4174247967.py:86: FutureWarning:\n",
      "\n",
      "upload_artifact() got {'artifact_store', 'file_path', 'study_or_trial'} as positional arguments but they were expected to be given as keyword arguments.\n",
      "\n",
      "[I 2024-10-14 21:54:57,929] Trial 58 finished with value: 0.349495900353486 and parameters: {'lambda_l1': 1.0306673495689682e-08, 'lambda_l2': 1.7806881454428986e-07, 'num_leaves': 37, 'feature_fraction': 0.7445905585719441, 'bagging_fraction': 0.6970271192464101, 'bagging_freq': 6, 'min_child_samples': 41}. Best is trial 24 with value: 0.36389492176534255.\n",
      "/tmp/ipykernel_73806/4174247967.py:86: FutureWarning:\n",
      "\n",
      "upload_artifact() got {'artifact_store', 'file_path', 'study_or_trial'} as positional arguments but they were expected to be given as keyword arguments.\n",
      "\n",
      "[I 2024-10-14 21:55:12,640] Trial 59 finished with value: 0.35051189163323304 and parameters: {'lambda_l1': 2.785445918804469e-07, 'lambda_l2': 0.00010681256996892311, 'num_leaves': 50, 'feature_fraction': 0.5727070418686466, 'bagging_fraction': 0.46203538549788314, 'bagging_freq': 3, 'min_child_samples': 22}. Best is trial 24 with value: 0.36389492176534255.\n",
      "/tmp/ipykernel_73806/4174247967.py:86: FutureWarning:\n",
      "\n",
      "upload_artifact() got {'artifact_store', 'file_path', 'study_or_trial'} as positional arguments but they were expected to be given as keyword arguments.\n",
      "\n",
      "[I 2024-10-14 21:55:28,174] Trial 60 finished with value: 0.35698743961943125 and parameters: {'lambda_l1': 4.035387902107092e-05, 'lambda_l2': 1.416687183307375e-06, 'num_leaves': 108, 'feature_fraction': 0.7036891092915489, 'bagging_fraction': 0.6700039252481136, 'bagging_freq': 5, 'min_child_samples': 9}. Best is trial 24 with value: 0.36389492176534255.\n",
      "/tmp/ipykernel_73806/4174247967.py:86: FutureWarning:\n",
      "\n",
      "upload_artifact() got {'artifact_store', 'file_path', 'study_or_trial'} as positional arguments but they were expected to be given as keyword arguments.\n",
      "\n",
      "[I 2024-10-14 21:55:40,152] Trial 61 finished with value: 0.35456800043018843 and parameters: {'lambda_l1': 9.844465044795894e-07, 'lambda_l2': 5.428372777292229, 'num_leaves': 31, 'feature_fraction': 0.5987076080531766, 'bagging_fraction': 0.8806651653313666, 'bagging_freq': 2, 'min_child_samples': 51}. Best is trial 24 with value: 0.36389492176534255.\n",
      "/tmp/ipykernel_73806/4174247967.py:86: FutureWarning:\n",
      "\n",
      "upload_artifact() got {'artifact_store', 'file_path', 'study_or_trial'} as positional arguments but they were expected to be given as keyword arguments.\n",
      "\n",
      "[I 2024-10-14 21:55:56,299] Trial 62 finished with value: 0.35211331023170284 and parameters: {'lambda_l1': 1.0393938468642343e-05, 'lambda_l2': 9.356262245134776, 'num_leaves': 82, 'feature_fraction': 0.7692231158197043, 'bagging_fraction': 0.8289237359937022, 'bagging_freq': 7, 'min_child_samples': 32}. Best is trial 24 with value: 0.36389492176534255.\n",
      "/tmp/ipykernel_73806/4174247967.py:86: FutureWarning:\n",
      "\n",
      "upload_artifact() got {'artifact_store', 'file_path', 'study_or_trial'} as positional arguments but they were expected to be given as keyword arguments.\n",
      "\n",
      "[I 2024-10-14 21:56:08,505] Trial 63 finished with value: 0.352133163626913 and parameters: {'lambda_l1': 2.6636855170530164e-08, 'lambda_l2': 2.270772024868343e-08, 'num_leaves': 70, 'feature_fraction': 0.67903598951918, 'bagging_fraction': 0.9666114032745072, 'bagging_freq': 4, 'min_child_samples': 18}. Best is trial 24 with value: 0.36389492176534255.\n",
      "/tmp/ipykernel_73806/4174247967.py:86: FutureWarning:\n",
      "\n",
      "upload_artifact() got {'artifact_store', 'file_path', 'study_or_trial'} as positional arguments but they were expected to be given as keyword arguments.\n",
      "\n",
      "[I 2024-10-14 21:56:25,595] Trial 64 finished with value: 0.35859556870157233 and parameters: {'lambda_l1': 1.0233615442470486e-08, 'lambda_l2': 2.8537469155866665e-08, 'num_leaves': 76, 'feature_fraction': 0.6309991475832748, 'bagging_fraction': 0.961567332809088, 'bagging_freq': 4, 'min_child_samples': 13}. Best is trial 24 with value: 0.36389492176534255.\n",
      "/tmp/ipykernel_73806/4174247967.py:86: FutureWarning:\n",
      "\n",
      "upload_artifact() got {'artifact_store', 'file_path', 'study_or_trial'} as positional arguments but they were expected to be given as keyword arguments.\n",
      "\n",
      "[I 2024-10-14 21:56:42,364] Trial 65 finished with value: 0.3526893271511562 and parameters: {'lambda_l1': 6.597545191196465e-08, 'lambda_l2': 0.0004850162967031869, 'num_leaves': 98, 'feature_fraction': 0.5360582847545269, 'bagging_fraction': 0.9018914211482554, 'bagging_freq': 4, 'min_child_samples': 20}. Best is trial 24 with value: 0.36389492176534255.\n",
      "/tmp/ipykernel_73806/4174247967.py:86: FutureWarning:\n",
      "\n",
      "upload_artifact() got {'artifact_store', 'file_path', 'study_or_trial'} as positional arguments but they were expected to be given as keyword arguments.\n",
      "\n",
      "[I 2024-10-14 21:56:56,300] Trial 66 finished with value: 0.3507059362433592 and parameters: {'lambda_l1': 1.667381801362177e-08, 'lambda_l2': 1.075142683843095e-07, 'num_leaves': 59, 'feature_fraction': 0.6246175320061181, 'bagging_fraction': 0.9428648508461591, 'bagging_freq': 3, 'min_child_samples': 28}. Best is trial 24 with value: 0.36389492176534255.\n",
      "/tmp/ipykernel_73806/4174247967.py:86: FutureWarning:\n",
      "\n",
      "upload_artifact() got {'artifact_store', 'file_path', 'study_or_trial'} as positional arguments but they were expected to be given as keyword arguments.\n",
      "\n",
      "[I 2024-10-14 21:57:10,387] Trial 67 finished with value: 0.35402219661223033 and parameters: {'lambda_l1': 3.751747134680714e-07, 'lambda_l2': 1.13857317909377e-08, 'num_leaves': 91, 'feature_fraction': 0.5701616461241981, 'bagging_fraction': 0.7699092139789987, 'bagging_freq': 5, 'min_child_samples': 72}. Best is trial 24 with value: 0.36389492176534255.\n",
      "/tmp/ipykernel_73806/4174247967.py:86: FutureWarning:\n",
      "\n",
      "upload_artifact() got {'artifact_store', 'file_path', 'study_or_trial'} as positional arguments but they were expected to be given as keyword arguments.\n",
      "\n",
      "[I 2024-10-14 21:57:22,902] Trial 68 finished with value: 0.35400669740228363 and parameters: {'lambda_l1': 1.861588033258584e-05, 'lambda_l2': 0.9576505487215229, 'num_leaves': 44, 'feature_fraction': 0.6402535152232044, 'bagging_fraction': 0.8546248997658409, 'bagging_freq': 6, 'min_child_samples': 24}. Best is trial 24 with value: 0.36389492176534255.\n",
      "/tmp/ipykernel_73806/4174247967.py:86: FutureWarning:\n",
      "\n",
      "upload_artifact() got {'artifact_store', 'file_path', 'study_or_trial'} as positional arguments but they were expected to be given as keyword arguments.\n",
      "\n",
      "[I 2024-10-14 21:57:45,844] Trial 69 finished with value: 0.3556080503238322 and parameters: {'lambda_l1': 0.07945340682998302, 'lambda_l2': 2.7381096165283996, 'num_leaves': 126, 'feature_fraction': 0.449146876503124, 'bagging_fraction': 0.9777601932487215, 'bagging_freq': 5, 'min_child_samples': 8}. Best is trial 24 with value: 0.36389492176534255.\n",
      "/tmp/ipykernel_73806/4174247967.py:86: FutureWarning:\n",
      "\n",
      "upload_artifact() got {'artifact_store', 'file_path', 'study_or_trial'} as positional arguments but they were expected to be given as keyword arguments.\n",
      "\n",
      "[I 2024-10-14 21:58:01,478] Trial 70 finished with value: 0.35088742783269533 and parameters: {'lambda_l1': 9.629772047917932e-08, 'lambda_l2': 0.29316390331212006, 'num_leaves': 72, 'feature_fraction': 0.49883653188066984, 'bagging_fraction': 0.7416198953205482, 'bagging_freq': 3, 'min_child_samples': 20}. Best is trial 24 with value: 0.36389492176534255.\n",
      "/tmp/ipykernel_73806/4174247967.py:86: FutureWarning:\n",
      "\n",
      "upload_artifact() got {'artifact_store', 'file_path', 'study_or_trial'} as positional arguments but they were expected to be given as keyword arguments.\n",
      "\n",
      "[I 2024-10-14 21:58:14,262] Trial 71 finished with value: 0.35794897220196414 and parameters: {'lambda_l1': 2.7136420654848046e-06, 'lambda_l2': 0.0022115816503313025, 'num_leaves': 56, 'feature_fraction': 0.66451311944813, 'bagging_fraction': 0.8713071342820821, 'bagging_freq': 4, 'min_child_samples': 12}. Best is trial 24 with value: 0.36389492176534255.\n",
      "/tmp/ipykernel_73806/4174247967.py:86: FutureWarning:\n",
      "\n",
      "upload_artifact() got {'artifact_store', 'file_path', 'study_or_trial'} as positional arguments but they were expected to be given as keyword arguments.\n",
      "\n",
      "[I 2024-10-14 21:58:33,471] Trial 72 finished with value: 0.35046605699823336 and parameters: {'lambda_l1': 8.817988581707067e-05, 'lambda_l2': 2.9503142191889764e-07, 'num_leaves': 194, 'feature_fraction': 0.7197626740080608, 'bagging_fraction': 0.9158370805064431, 'bagging_freq': 4, 'min_child_samples': 46}. Best is trial 24 with value: 0.36389492176534255.\n",
      "/tmp/ipykernel_73806/4174247967.py:86: FutureWarning:\n",
      "\n",
      "upload_artifact() got {'artifact_store', 'file_path', 'study_or_trial'} as positional arguments but they were expected to be given as keyword arguments.\n",
      "\n",
      "[I 2024-10-14 21:59:55,272] Trial 73 finished with value: 0.3538098963040585 and parameters: {'lambda_l1': 5.60090283893176e-06, 'lambda_l2': 0.13984526264122818, 'num_leaves': 53, 'feature_fraction': 0.6525831896963983, 'bagging_fraction': 0.8601238430300322, 'bagging_freq': 4, 'min_child_samples': 43}. Best is trial 24 with value: 0.36389492176534255.\n",
      "/tmp/ipykernel_73806/4174247967.py:86: FutureWarning:\n",
      "\n",
      "upload_artifact() got {'artifact_store', 'file_path', 'study_or_trial'} as positional arguments but they were expected to be given as keyword arguments.\n",
      "\n",
      "[I 2024-10-14 22:01:34,243] Trial 74 finished with value: 0.3551866440743575 and parameters: {'lambda_l1': 0.0001053419518671467, 'lambda_l2': 1.74846933687351, 'num_leaves': 82, 'feature_fraction': 0.5954983696280352, 'bagging_fraction': 0.8285392654694157, 'bagging_freq': 4, 'min_child_samples': 59}. Best is trial 24 with value: 0.36389492176534255.\n",
      "/tmp/ipykernel_73806/4174247967.py:86: FutureWarning:\n",
      "\n",
      "upload_artifact() got {'artifact_store', 'file_path', 'study_or_trial'} as positional arguments but they were expected to be given as keyword arguments.\n",
      "\n",
      "[I 2024-10-14 22:03:34,173] Trial 75 finished with value: 0.35396325441244336 and parameters: {'lambda_l1': 2.416009934762065e-05, 'lambda_l2': 0.7583755881588489, 'num_leaves': 64, 'feature_fraction': 0.5584132170359243, 'bagging_fraction': 0.8917796662501477, 'bagging_freq': 5, 'min_child_samples': 62}. Best is trial 24 with value: 0.36389492176534255.\n",
      "/tmp/ipykernel_73806/4174247967.py:86: FutureWarning:\n",
      "\n",
      "upload_artifact() got {'artifact_store', 'file_path', 'study_or_trial'} as positional arguments but they were expected to be given as keyword arguments.\n",
      "\n",
      "[I 2024-10-14 22:04:11,731] Trial 76 finished with value: 0.35626527491665116 and parameters: {'lambda_l1': 5.8654196186151523e-05, 'lambda_l2': 0.015552483640267564, 'num_leaves': 18, 'feature_fraction': 0.5257880311350077, 'bagging_fraction': 0.7582343369831129, 'bagging_freq': 5, 'min_child_samples': 49}. Best is trial 24 with value: 0.36389492176534255.\n",
      "/tmp/ipykernel_73806/4174247967.py:86: FutureWarning:\n",
      "\n",
      "upload_artifact() got {'artifact_store', 'file_path', 'study_or_trial'} as positional arguments but they were expected to be given as keyword arguments.\n",
      "\n",
      "[I 2024-10-14 22:04:39,300] Trial 77 finished with value: 0.35187158357868664 and parameters: {'lambda_l1': 0.00043301253775703414, 'lambda_l2': 0.048585643369014664, 'num_leaves': 104, 'feature_fraction': 0.6705782812277566, 'bagging_fraction': 0.9286864129788935, 'bagging_freq': 4, 'min_child_samples': 54}. Best is trial 24 with value: 0.36389492176534255.\n",
      "/tmp/ipykernel_73806/4174247967.py:86: FutureWarning:\n",
      "\n",
      "upload_artifact() got {'artifact_store', 'file_path', 'study_or_trial'} as positional arguments but they were expected to be given as keyword arguments.\n",
      "\n",
      "[I 2024-10-14 22:05:01,199] Trial 78 finished with value: 0.35872937668186206 and parameters: {'lambda_l1': 4.517420163282484e-08, 'lambda_l2': 5.7976275023868995, 'num_leaves': 45, 'feature_fraction': 0.6406881357070902, 'bagging_fraction': 0.7169991160975624, 'bagging_freq': 6, 'min_child_samples': 15}. Best is trial 24 with value: 0.36389492176534255.\n",
      "/tmp/ipykernel_73806/4174247967.py:86: FutureWarning:\n",
      "\n",
      "upload_artifact() got {'artifact_store', 'file_path', 'study_or_trial'} as positional arguments but they were expected to be given as keyword arguments.\n",
      "\n",
      "[I 2024-10-14 22:05:18,238] Trial 79 finished with value: 0.34805600103036016 and parameters: {'lambda_l1': 4.8753361328437905e-08, 'lambda_l2': 6.188669259809525, 'num_leaves': 9, 'feature_fraction': 0.6924105660211978, 'bagging_fraction': 0.6431342867504293, 'bagging_freq': 6, 'min_child_samples': 18}. Best is trial 24 with value: 0.36389492176534255.\n",
      "/tmp/ipykernel_73806/4174247967.py:86: FutureWarning:\n",
      "\n",
      "upload_artifact() got {'artifact_store', 'file_path', 'study_or_trial'} as positional arguments but they were expected to be given as keyword arguments.\n",
      "\n",
      "[I 2024-10-14 22:05:45,138] Trial 80 finished with value: 0.3547826149068348 and parameters: {'lambda_l1': 2.477921354720463e-07, 'lambda_l2': 2.3706371086323332, 'num_leaves': 44, 'feature_fraction': 0.46527298803554107, 'bagging_fraction': 0.7111262625707745, 'bagging_freq': 7, 'min_child_samples': 16}. Best is trial 24 with value: 0.36389492176534255.\n",
      "/tmp/ipykernel_73806/4174247967.py:86: FutureWarning:\n",
      "\n",
      "upload_artifact() got {'artifact_store', 'file_path', 'study_or_trial'} as positional arguments but they were expected to be given as keyword arguments.\n",
      "\n",
      "[I 2024-10-14 22:06:06,169] Trial 81 finished with value: 0.35627850183240256 and parameters: {'lambda_l1': 6.951975093576664e-07, 'lambda_l2': 9.975843204812586, 'num_leaves': 35, 'feature_fraction': 0.9767963087750922, 'bagging_fraction': 0.6796373866015165, 'bagging_freq': 6, 'min_child_samples': 14}. Best is trial 24 with value: 0.36389492176534255.\n",
      "/tmp/ipykernel_73806/4174247967.py:86: FutureWarning:\n",
      "\n",
      "upload_artifact() got {'artifact_store', 'file_path', 'study_or_trial'} as positional arguments but they were expected to be given as keyword arguments.\n",
      "\n",
      "[I 2024-10-14 22:06:26,962] Trial 82 finished with value: 0.35738896818153526 and parameters: {'lambda_l1': 1.800665510253752e-06, 'lambda_l2': 1.1617790455133896, 'num_leaves': 29, 'feature_fraction': 0.42637092135898635, 'bagging_fraction': 0.740056824030404, 'bagging_freq': 6, 'min_child_samples': 7}. Best is trial 24 with value: 0.36389492176534255.\n",
      "/tmp/ipykernel_73806/4174247967.py:86: FutureWarning:\n",
      "\n",
      "upload_artifact() got {'artifact_store', 'file_path', 'study_or_trial'} as positional arguments but they were expected to be given as keyword arguments.\n",
      "\n",
      "[I 2024-10-14 22:06:46,831] Trial 83 finished with value: 0.35871307205982567 and parameters: {'lambda_l1': 3.8373529052586004e-08, 'lambda_l2': 4.573427570644932, 'num_leaves': 57, 'feature_fraction': 0.6450011402469511, 'bagging_fraction': 0.7974445727987021, 'bagging_freq': 6, 'min_child_samples': 22}. Best is trial 24 with value: 0.36389492176534255.\n",
      "/tmp/ipykernel_73806/4174247967.py:86: FutureWarning:\n",
      "\n",
      "upload_artifact() got {'artifact_store', 'file_path', 'study_or_trial'} as positional arguments but they were expected to be given as keyword arguments.\n",
      "\n",
      "[I 2024-10-14 22:07:16,202] Trial 84 finished with value: 0.35921118837943167 and parameters: {'lambda_l1': 3.647914612501834e-08, 'lambda_l2': 5.026259580330299, 'num_leaves': 62, 'feature_fraction': 0.6192955455967306, 'bagging_fraction': 0.7817729319388464, 'bagging_freq': 6, 'min_child_samples': 22}. Best is trial 24 with value: 0.36389492176534255.\n",
      "/tmp/ipykernel_73806/4174247967.py:86: FutureWarning:\n",
      "\n",
      "upload_artifact() got {'artifact_store', 'file_path', 'study_or_trial'} as positional arguments but they were expected to be given as keyword arguments.\n",
      "\n",
      "[I 2024-10-14 22:07:44,909] Trial 85 finished with value: 0.3518175585815712 and parameters: {'lambda_l1': 1.4059164007636046e-08, 'lambda_l2': 2.859757709460207, 'num_leaves': 94, 'feature_fraction': 0.6142774998431972, 'bagging_fraction': 0.7681089071633412, 'bagging_freq': 6, 'min_child_samples': 27}. Best is trial 24 with value: 0.36389492176534255.\n",
      "/tmp/ipykernel_73806/4174247967.py:86: FutureWarning:\n",
      "\n",
      "upload_artifact() got {'artifact_store', 'file_path', 'study_or_trial'} as positional arguments but they were expected to be given as keyword arguments.\n",
      "\n",
      "[I 2024-10-14 22:08:03,804] Trial 86 finished with value: 0.35389023159686744 and parameters: {'lambda_l1': 1.401185496187838e-07, 'lambda_l2': 0.5864166069114997, 'num_leaves': 49, 'feature_fraction': 0.592880281532842, 'bagging_fraction': 0.7118389161932925, 'bagging_freq': 6, 'min_child_samples': 11}. Best is trial 24 with value: 0.36389492176534255.\n",
      "/tmp/ipykernel_73806/4174247967.py:86: FutureWarning:\n",
      "\n",
      "upload_artifact() got {'artifact_store', 'file_path', 'study_or_trial'} as positional arguments but they were expected to be given as keyword arguments.\n",
      "\n",
      "[I 2024-10-14 22:08:37,224] Trial 87 finished with value: 0.3585367420743862 and parameters: {'lambda_l1': 2.2824092511448482e-08, 'lambda_l2': 5.60925203117261, 'num_leaves': 76, 'feature_fraction': 0.5096431203760601, 'bagging_fraction': 0.7804065012156617, 'bagging_freq': 7, 'min_child_samples': 30}. Best is trial 24 with value: 0.36389492176534255.\n",
      "/tmp/ipykernel_73806/4174247967.py:86: FutureWarning:\n",
      "\n",
      "upload_artifact() got {'artifact_store', 'file_path', 'study_or_trial'} as positional arguments but they were expected to be given as keyword arguments.\n",
      "\n",
      "[I 2024-10-14 22:09:03,547] Trial 88 finished with value: 0.3419930947239034 and parameters: {'lambda_l1': 8.856512023560946e-08, 'lambda_l2': 2.0397194893468966, 'num_leaves': 87, 'feature_fraction': 0.543550926231072, 'bagging_fraction': 0.6124513367927394, 'bagging_freq': 6, 'min_child_samples': 19}. Best is trial 24 with value: 0.36389492176534255.\n",
      "/tmp/ipykernel_73806/4174247967.py:86: FutureWarning:\n",
      "\n",
      "upload_artifact() got {'artifact_store', 'file_path', 'study_or_trial'} as positional arguments but they were expected to be given as keyword arguments.\n",
      "\n",
      "[I 2024-10-14 22:09:24,758] Trial 89 finished with value: 0.35360106991142715 and parameters: {'lambda_l1': 1.6522116413021386e-08, 'lambda_l2': 1.3626834287545118, 'num_leaves': 65, 'feature_fraction': 0.6312552552646445, 'bagging_fraction': 0.7493011032086756, 'bagging_freq': 5, 'min_child_samples': 34}. Best is trial 24 with value: 0.36389492176534255.\n",
      "/tmp/ipykernel_73806/4174247967.py:86: FutureWarning:\n",
      "\n",
      "upload_artifact() got {'artifact_store', 'file_path', 'study_or_trial'} as positional arguments but they were expected to be given as keyword arguments.\n",
      "\n",
      "[I 2024-10-14 22:09:52,936] Trial 90 finished with value: 0.3670138348528384 and parameters: {'lambda_l1': 3.7988610784761585e-08, 'lambda_l2': 4.983227097037469e-06, 'num_leaves': 71, 'feature_fraction': 0.5615584986122191, 'bagging_fraction': 0.8147428974504209, 'bagging_freq': 5, 'min_child_samples': 15}. Best is trial 90 with value: 0.3670138348528384.\n",
      "/tmp/ipykernel_73806/4174247967.py:86: FutureWarning:\n",
      "\n",
      "upload_artifact() got {'artifact_store', 'file_path', 'study_or_trial'} as positional arguments but they were expected to be given as keyword arguments.\n",
      "\n",
      "[I 2024-10-14 22:10:15,993] Trial 91 finished with value: 0.3528766852381489 and parameters: {'lambda_l1': 4.93843052986326e-07, 'lambda_l2': 1.5481180709770532e-05, 'num_leaves': 71, 'feature_fraction': 0.4869778312100256, 'bagging_fraction': 0.8078438267478912, 'bagging_freq': 5, 'min_child_samples': 25}. Best is trial 90 with value: 0.3670138348528384.\n",
      "/tmp/ipykernel_73806/4174247967.py:86: FutureWarning:\n",
      "\n",
      "upload_artifact() got {'artifact_store', 'file_path', 'study_or_trial'} as positional arguments but they were expected to be given as keyword arguments.\n",
      "\n",
      "[I 2024-10-14 22:10:48,756] Trial 92 finished with value: 0.3536553677812858 and parameters: {'lambda_l1': 1.0092957080327991e-06, 'lambda_l2': 5.010484414769168e-06, 'num_leaves': 81, 'feature_fraction': 0.5633667873042583, 'bagging_fraction': 0.817498758693865, 'bagging_freq': 5, 'min_child_samples': 23}. Best is trial 90 with value: 0.3670138348528384.\n",
      "/tmp/ipykernel_73806/4174247967.py:86: FutureWarning:\n",
      "\n",
      "upload_artifact() got {'artifact_store', 'file_path', 'study_or_trial'} as positional arguments but they were expected to be given as keyword arguments.\n",
      "\n",
      "[I 2024-10-14 22:11:30,986] Trial 93 finished with value: 0.35182584670377265 and parameters: {'lambda_l1': 4.4798288622256695e-08, 'lambda_l2': 3.85112399578686e-05, 'num_leaves': 42, 'feature_fraction': 0.582254909454587, 'bagging_fraction': 0.7906882968020424, 'bagging_freq': 5, 'min_child_samples': 15}. Best is trial 90 with value: 0.3670138348528384.\n",
      "/tmp/ipykernel_73806/4174247967.py:86: FutureWarning:\n",
      "\n",
      "upload_artifact() got {'artifact_store', 'file_path', 'study_or_trial'} as positional arguments but they were expected to be given as keyword arguments.\n",
      "\n",
      "[I 2024-10-14 22:12:23,945] Trial 94 finished with value: 0.35594182619039744 and parameters: {'lambda_l1': 2.1185192620377853e-07, 'lambda_l2': 7.577892100954668e-07, 'num_leaves': 62, 'feature_fraction': 0.6075868251981095, 'bagging_fraction': 0.8435524925179546, 'bagging_freq': 6, 'min_child_samples': 16}. Best is trial 90 with value: 0.3670138348528384.\n",
      "/tmp/ipykernel_73806/4174247967.py:86: FutureWarning:\n",
      "\n",
      "upload_artifact() got {'artifact_store', 'file_path', 'study_or_trial'} as positional arguments but they were expected to be given as keyword arguments.\n",
      "\n",
      "[I 2024-10-14 22:12:46,252] Trial 95 finished with value: 0.35901534376241506 and parameters: {'lambda_l1': 3.220918754322299e-08, 'lambda_l2': 7.994080679547602e-05, 'num_leaves': 50, 'feature_fraction': 0.5481738180099482, 'bagging_fraction': 0.7160842171812768, 'bagging_freq': 5, 'min_child_samples': 10}. Best is trial 90 with value: 0.3670138348528384.\n",
      "/tmp/ipykernel_73806/4174247967.py:86: FutureWarning:\n",
      "\n",
      "upload_artifact() got {'artifact_store', 'file_path', 'study_or_trial'} as positional arguments but they were expected to be given as keyword arguments.\n",
      "\n",
      "[I 2024-10-14 22:13:46,786] Trial 96 finished with value: 0.3605428404589943 and parameters: {'lambda_l1': 1.0957903794910516e-07, 'lambda_l2': 0.0005307869432695132, 'num_leaves': 67, 'feature_fraction': 0.5286339324218472, 'bagging_fraction': 0.8348582901836011, 'bagging_freq': 5, 'min_child_samples': 9}. Best is trial 90 with value: 0.3670138348528384.\n",
      "/tmp/ipykernel_73806/4174247967.py:86: FutureWarning:\n",
      "\n",
      "upload_artifact() got {'artifact_store', 'file_path', 'study_or_trial'} as positional arguments but they were expected to be given as keyword arguments.\n",
      "\n",
      "[I 2024-10-14 22:14:31,529] Trial 97 finished with value: 0.36202660465206327 and parameters: {'lambda_l1': 9.665358245186093e-08, 'lambda_l2': 0.00033905101293135243, 'num_leaves': 113, 'feature_fraction': 0.5317699710165162, 'bagging_fraction': 0.8315148975527962, 'bagging_freq': 5, 'min_child_samples': 22}. Best is trial 90 with value: 0.3670138348528384.\n",
      "/tmp/ipykernel_73806/4174247967.py:86: FutureWarning:\n",
      "\n",
      "upload_artifact() got {'artifact_store', 'file_path', 'study_or_trial'} as positional arguments but they were expected to be given as keyword arguments.\n",
      "\n",
      "[I 2024-10-14 22:15:17,428] Trial 98 finished with value: 0.35633272239506375 and parameters: {'lambda_l1': 7.012150353869777e-08, 'lambda_l2': 0.0003123837136309773, 'num_leaves': 119, 'feature_fraction': 0.5199356529504333, 'bagging_fraction': 0.8296227641196011, 'bagging_freq': 5, 'min_child_samples': 5}. Best is trial 90 with value: 0.3670138348528384.\n",
      "/tmp/ipykernel_73806/4174247967.py:86: FutureWarning:\n",
      "\n",
      "upload_artifact() got {'artifact_store', 'file_path', 'study_or_trial'} as positional arguments but they were expected to be given as keyword arguments.\n",
      "\n",
      "[I 2024-10-14 22:16:09,035] Trial 99 finished with value: 0.3496026752253647 and parameters: {'lambda_l1': 1.2273068662476598e-07, 'lambda_l2': 4.113805068367959e-05, 'num_leaves': 134, 'feature_fraction': 0.478255741652304, 'bagging_fraction': 0.8416227476985545, 'bagging_freq': 5, 'min_child_samples': 86}. Best is trial 90 with value: 0.3670138348528384.\n",
      "/tmp/ipykernel_73806/4174247967.py:86: FutureWarning:\n",
      "\n",
      "upload_artifact() got {'artifact_store', 'file_path', 'study_or_trial'} as positional arguments but they were expected to be given as keyword arguments.\n",
      "\n",
      "[I 2024-10-14 22:17:52,314] Trial 100 finished with value: 0.3560785872995884 and parameters: {'lambda_l1': 2.6978681520505786e-07, 'lambda_l2': 0.0007438185116957516, 'num_leaves': 109, 'feature_fraction': 0.5307653190862468, 'bagging_fraction': 0.8793251294528684, 'bagging_freq': 5, 'min_child_samples': 12}. Best is trial 90 with value: 0.3670138348528384.\n",
      "/tmp/ipykernel_73806/4174247967.py:86: FutureWarning:\n",
      "\n",
      "upload_artifact() got {'artifact_store', 'file_path', 'study_or_trial'} as positional arguments but they were expected to be given as keyword arguments.\n",
      "\n",
      "[I 2024-10-14 22:19:58,428] Trial 101 finished with value: 0.35174192857649916 and parameters: {'lambda_l1': 3.1116767455660713e-06, 'lambda_l2': 0.0018319639027101053, 'num_leaves': 101, 'feature_fraction': 0.5050546858193151, 'bagging_fraction': 0.908055797277358, 'bagging_freq': 5, 'min_child_samples': 20}. Best is trial 90 with value: 0.3670138348528384.\n"
     ]
    }
   ],
   "source": [
    "import kaleido\n",
    "#Inicio el store de artefactos (archivos) de optuna\n",
    "artifact_store = FileSystemArtifactStore(base_path=PATH_TO_OPTUNA_ARTIFACTS)\n",
    "\n",
    "#Genero estudio\n",
    "study = optuna.create_study(direction='maximize',\n",
    "                            storage=\"sqlite:///db.sqlite3\",  # Specify the storage URL here.\n",
    "                            study_name=\"04 - LGB Multiclass CV\",\n",
    "                            load_if_exists = True)\n",
    "#Corro la optimizacion\n",
    "study.optimize(cv_es_lgb_objective, n_trials=100)"
   ]
  }
 ],
 "metadata": {
  "kernelspec": {
   "display_name": "env",
   "language": "python",
   "name": "python3"
  },
  "language_info": {
   "codemirror_mode": {
    "name": "ipython",
    "version": 3
   },
   "file_extension": ".py",
   "mimetype": "text/x-python",
   "name": "python",
   "nbconvert_exporter": "python",
   "pygments_lexer": "ipython3",
   "version": "3.11.7"
  }
 },
 "nbformat": 4,
 "nbformat_minor": 2
}
